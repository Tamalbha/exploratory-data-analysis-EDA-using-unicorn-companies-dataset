{
 "cells": [
  {
   "cell_type": "markdown",
   "id": "50d9d57b",
   "metadata": {
    "papermill": {
     "duration": 0.020403,
     "end_time": "2024-01-10T18:26:30.449076",
     "exception": false,
     "start_time": "2024-01-10T18:26:30.428673",
     "status": "completed"
    },
    "tags": []
   },
   "source": [
    "## Introduction\n",
    "\n",
    "In this activity, you will discover characteristics of a dataset and use visualizations to analyze the data. This will develop and strengthen your skills in **exploratory data analysis (EDA)** and your knowledge of functions that allow you to explore and visualize data. \n",
    "\n",
    "EDA is an essential process in a data science workflow. As a data professional, you will need to conduct this process to better understand the data at hand and determine how it can be used to solve the problem you want to address. This activity will give you an opportunity to practice that process and prepare you for EDA in future projects.\n",
    "\n",
    "In this activity, you are a member of an analytics team that provides insights to an investing firm. To help them decide which companies to invest in next, the firm wants insights into **unicorn companies**–companies that are valued at over one billion dollars. The data you will use for this task provides information on over 1,000 unicorn companies, including their industry, country, year founded, and select investors. You will use this information to gain insights into how and when companies reach this prestigious milestone and to make recommendations for next steps to the investing firm."
   ]
  },
  {
   "cell_type": "markdown",
   "id": "1fd7ee87",
   "metadata": {
    "papermill": {
     "duration": 0.019981,
     "end_time": "2024-01-10T18:26:30.489207",
     "exception": false,
     "start_time": "2024-01-10T18:26:30.469226",
     "status": "completed"
    },
    "tags": []
   },
   "source": [
    "## Step 1: Imports"
   ]
  },
  {
   "cell_type": "markdown",
   "id": "bbb69f6c",
   "metadata": {
    "papermill": {
     "duration": 0.019298,
     "end_time": "2024-01-10T18:26:30.527873",
     "exception": false,
     "start_time": "2024-01-10T18:26:30.508575",
     "status": "completed"
    },
    "tags": []
   },
   "source": [
    "### Import libraries and packages \n",
    "\n",
    "First, import the relevant Python libraries and modules. Use the `pandas` library and the `matplotlib.pyplot` module."
   ]
  },
  {
   "cell_type": "code",
   "execution_count": 1,
   "id": "b2f563b3",
   "metadata": {
    "execution": {
     "iopub.execute_input": "2024-01-10T18:26:30.568589Z",
     "iopub.status.busy": "2024-01-10T18:26:30.567972Z",
     "iopub.status.idle": "2024-01-10T18:26:30.840081Z",
     "shell.execute_reply": "2024-01-10T18:26:30.839459Z"
    },
    "papermill": {
     "duration": 0.294904,
     "end_time": "2024-01-10T18:26:30.842014",
     "exception": false,
     "start_time": "2024-01-10T18:26:30.547110",
     "status": "completed"
    },
    "tags": []
   },
   "outputs": [],
   "source": [
    "# Import libraries and packages\n",
    "\n",
    "import pandas as pd\n",
    "import matplotlib.pyplot as plt\n",
    "import datetime as dt"
   ]
  },
  {
   "cell_type": "markdown",
   "id": "e1cc9a00",
   "metadata": {
    "papermill": {
     "duration": 0.018658,
     "end_time": "2024-01-10T18:26:30.913699",
     "exception": false,
     "start_time": "2024-01-10T18:26:30.895041",
     "status": "completed"
    },
    "tags": []
   },
   "source": [
    "### Load the dataset into a DataFrame\n",
    "\n",
    "The dataset provided is in the form of a csv file named `Unicorn_Companies.csv` and contains a subset of data on unicorn companies. Load the data from the csv file into a DataFrame and save it in a variable."
   ]
  },
  {
   "cell_type": "code",
   "execution_count": 2,
   "id": "a62759ea",
   "metadata": {
    "execution": {
     "iopub.execute_input": "2024-01-10T18:26:30.953120Z",
     "iopub.status.busy": "2024-01-10T18:26:30.952454Z",
     "iopub.status.idle": "2024-01-10T18:26:30.976572Z",
     "shell.execute_reply": "2024-01-10T18:26:30.975894Z"
    },
    "papermill": {
     "duration": 0.046041,
     "end_time": "2024-01-10T18:26:30.978579",
     "exception": false,
     "start_time": "2024-01-10T18:26:30.932538",
     "status": "completed"
    },
    "tags": []
   },
   "outputs": [],
   "source": [
    "# Load data from the csv file into a DataFrame and save in a variable\n",
    "\n",
    "companies = pd.read_csv(\"/kaggle/input/unicorn-companies-dataset/Unicorn_Companies.csv\")"
   ]
  },
  {
   "cell_type": "markdown",
   "id": "98c33516",
   "metadata": {
    "papermill": {
     "duration": 0.018888,
     "end_time": "2024-01-10T18:26:31.017519",
     "exception": false,
     "start_time": "2024-01-10T18:26:30.998631",
     "status": "completed"
    },
    "tags": []
   },
   "source": [
    "## Step 2: Data exploration"
   ]
  },
  {
   "cell_type": "markdown",
   "id": "acbe3911",
   "metadata": {
    "papermill": {
     "duration": 0.019261,
     "end_time": "2024-01-10T18:26:31.055977",
     "exception": false,
     "start_time": "2024-01-10T18:26:31.036716",
     "status": "completed"
    },
    "tags": []
   },
   "source": [
    "### Display the first 10 rows of the data\n",
    "\n",
    "Next, explore the dataset and answer questions to guide your exploration and analysis of the data. To begin, display the first 10 rows of the data to get an understanding of how the dataset is structured."
   ]
  },
  {
   "cell_type": "code",
   "execution_count": 3,
   "id": "c6bd0e50",
   "metadata": {
    "execution": {
     "iopub.execute_input": "2024-01-10T18:26:31.097818Z",
     "iopub.status.busy": "2024-01-10T18:26:31.097196Z",
     "iopub.status.idle": "2024-01-10T18:26:31.118601Z",
     "shell.execute_reply": "2024-01-10T18:26:31.117787Z"
    },
    "papermill": {
     "duration": 0.045156,
     "end_time": "2024-01-10T18:26:31.120491",
     "exception": false,
     "start_time": "2024-01-10T18:26:31.075335",
     "status": "completed"
    },
    "tags": []
   },
   "outputs": [
    {
     "data": {
      "text/html": [
       "<div>\n",
       "<style scoped>\n",
       "    .dataframe tbody tr th:only-of-type {\n",
       "        vertical-align: middle;\n",
       "    }\n",
       "\n",
       "    .dataframe tbody tr th {\n",
       "        vertical-align: top;\n",
       "    }\n",
       "\n",
       "    .dataframe thead th {\n",
       "        text-align: right;\n",
       "    }\n",
       "</style>\n",
       "<table border=\"1\" class=\"dataframe\">\n",
       "  <thead>\n",
       "    <tr style=\"text-align: right;\">\n",
       "      <th></th>\n",
       "      <th>Company</th>\n",
       "      <th>Valuation</th>\n",
       "      <th>Date Joined</th>\n",
       "      <th>Industry</th>\n",
       "      <th>City</th>\n",
       "      <th>Country</th>\n",
       "      <th>Continent</th>\n",
       "      <th>Year Founded</th>\n",
       "      <th>Funding</th>\n",
       "      <th>Select Investors</th>\n",
       "    </tr>\n",
       "  </thead>\n",
       "  <tbody>\n",
       "    <tr>\n",
       "      <th>0</th>\n",
       "      <td>Bytedance</td>\n",
       "      <td>$180B</td>\n",
       "      <td>2017-04-07</td>\n",
       "      <td>Artificial intelligence</td>\n",
       "      <td>Beijing</td>\n",
       "      <td>China</td>\n",
       "      <td>Asia</td>\n",
       "      <td>2012</td>\n",
       "      <td>$8B</td>\n",
       "      <td>Sequoia Capital China, SIG Asia Investments, S...</td>\n",
       "    </tr>\n",
       "    <tr>\n",
       "      <th>1</th>\n",
       "      <td>SpaceX</td>\n",
       "      <td>$100B</td>\n",
       "      <td>2012-12-01</td>\n",
       "      <td>Other</td>\n",
       "      <td>Hawthorne</td>\n",
       "      <td>United States</td>\n",
       "      <td>North America</td>\n",
       "      <td>2002</td>\n",
       "      <td>$7B</td>\n",
       "      <td>Founders Fund, Draper Fisher Jurvetson, Rothen...</td>\n",
       "    </tr>\n",
       "    <tr>\n",
       "      <th>2</th>\n",
       "      <td>SHEIN</td>\n",
       "      <td>$100B</td>\n",
       "      <td>2018-07-03</td>\n",
       "      <td>E-commerce &amp; direct-to-consumer</td>\n",
       "      <td>Shenzhen</td>\n",
       "      <td>China</td>\n",
       "      <td>Asia</td>\n",
       "      <td>2008</td>\n",
       "      <td>$2B</td>\n",
       "      <td>Tiger Global Management, Sequoia Capital China...</td>\n",
       "    </tr>\n",
       "    <tr>\n",
       "      <th>3</th>\n",
       "      <td>Stripe</td>\n",
       "      <td>$95B</td>\n",
       "      <td>2014-01-23</td>\n",
       "      <td>Fintech</td>\n",
       "      <td>San Francisco</td>\n",
       "      <td>United States</td>\n",
       "      <td>North America</td>\n",
       "      <td>2010</td>\n",
       "      <td>$2B</td>\n",
       "      <td>Khosla Ventures, LowercaseCapital, capitalG</td>\n",
       "    </tr>\n",
       "    <tr>\n",
       "      <th>4</th>\n",
       "      <td>Klarna</td>\n",
       "      <td>$46B</td>\n",
       "      <td>2011-12-12</td>\n",
       "      <td>Fintech</td>\n",
       "      <td>Stockholm</td>\n",
       "      <td>Sweden</td>\n",
       "      <td>Europe</td>\n",
       "      <td>2005</td>\n",
       "      <td>$4B</td>\n",
       "      <td>Institutional Venture Partners, Sequoia Capita...</td>\n",
       "    </tr>\n",
       "    <tr>\n",
       "      <th>5</th>\n",
       "      <td>Canva</td>\n",
       "      <td>$40B</td>\n",
       "      <td>2018-01-08</td>\n",
       "      <td>Internet software &amp; services</td>\n",
       "      <td>Surry Hills</td>\n",
       "      <td>Australia</td>\n",
       "      <td>Oceania</td>\n",
       "      <td>2012</td>\n",
       "      <td>$572M</td>\n",
       "      <td>Sequoia Capital China, Blackbird Ventures, Mat...</td>\n",
       "    </tr>\n",
       "    <tr>\n",
       "      <th>6</th>\n",
       "      <td>Checkout.com</td>\n",
       "      <td>$40B</td>\n",
       "      <td>2019-05-02</td>\n",
       "      <td>Fintech</td>\n",
       "      <td>London</td>\n",
       "      <td>United Kingdom</td>\n",
       "      <td>Europe</td>\n",
       "      <td>2012</td>\n",
       "      <td>$2B</td>\n",
       "      <td>Tiger Global Management, Insight Partners, DST...</td>\n",
       "    </tr>\n",
       "    <tr>\n",
       "      <th>7</th>\n",
       "      <td>Instacart</td>\n",
       "      <td>$39B</td>\n",
       "      <td>2014-12-30</td>\n",
       "      <td>Supply chain, logistics, &amp; delivery</td>\n",
       "      <td>San Francisco</td>\n",
       "      <td>United States</td>\n",
       "      <td>North America</td>\n",
       "      <td>2012</td>\n",
       "      <td>$3B</td>\n",
       "      <td>Khosla Ventures, Kleiner Perkins Caufield &amp; By...</td>\n",
       "    </tr>\n",
       "    <tr>\n",
       "      <th>8</th>\n",
       "      <td>JUUL Labs</td>\n",
       "      <td>$38B</td>\n",
       "      <td>2017-12-20</td>\n",
       "      <td>Consumer &amp; retail</td>\n",
       "      <td>San Francisco</td>\n",
       "      <td>United States</td>\n",
       "      <td>North America</td>\n",
       "      <td>2015</td>\n",
       "      <td>$14B</td>\n",
       "      <td>Tiger Global Management</td>\n",
       "    </tr>\n",
       "    <tr>\n",
       "      <th>9</th>\n",
       "      <td>Databricks</td>\n",
       "      <td>$38B</td>\n",
       "      <td>2019-02-05</td>\n",
       "      <td>Data management &amp; analytics</td>\n",
       "      <td>San Francisco</td>\n",
       "      <td>United States</td>\n",
       "      <td>North America</td>\n",
       "      <td>2013</td>\n",
       "      <td>$3B</td>\n",
       "      <td>Andreessen Horowitz, New Enterprise Associates...</td>\n",
       "    </tr>\n",
       "  </tbody>\n",
       "</table>\n",
       "</div>"
      ],
      "text/plain": [
       "        Company Valuation Date Joined                             Industry  \\\n",
       "0     Bytedance     $180B  2017-04-07              Artificial intelligence   \n",
       "1        SpaceX     $100B  2012-12-01                                Other   \n",
       "2         SHEIN     $100B  2018-07-03      E-commerce & direct-to-consumer   \n",
       "3        Stripe      $95B  2014-01-23                              Fintech   \n",
       "4        Klarna      $46B  2011-12-12                              Fintech   \n",
       "5         Canva      $40B  2018-01-08         Internet software & services   \n",
       "6  Checkout.com      $40B  2019-05-02                              Fintech   \n",
       "7     Instacart      $39B  2014-12-30  Supply chain, logistics, & delivery   \n",
       "8     JUUL Labs      $38B  2017-12-20                    Consumer & retail   \n",
       "9    Databricks      $38B  2019-02-05          Data management & analytics   \n",
       "\n",
       "            City         Country      Continent  Year Founded Funding  \\\n",
       "0        Beijing           China           Asia          2012     $8B   \n",
       "1      Hawthorne   United States  North America          2002     $7B   \n",
       "2       Shenzhen           China           Asia          2008     $2B   \n",
       "3  San Francisco   United States  North America          2010     $2B   \n",
       "4      Stockholm          Sweden         Europe          2005     $4B   \n",
       "5    Surry Hills       Australia        Oceania          2012   $572M   \n",
       "6         London  United Kingdom         Europe          2012     $2B   \n",
       "7  San Francisco   United States  North America          2012     $3B   \n",
       "8  San Francisco   United States  North America          2015    $14B   \n",
       "9  San Francisco   United States  North America          2013     $3B   \n",
       "\n",
       "                                    Select Investors  \n",
       "0  Sequoia Capital China, SIG Asia Investments, S...  \n",
       "1  Founders Fund, Draper Fisher Jurvetson, Rothen...  \n",
       "2  Tiger Global Management, Sequoia Capital China...  \n",
       "3        Khosla Ventures, LowercaseCapital, capitalG  \n",
       "4  Institutional Venture Partners, Sequoia Capita...  \n",
       "5  Sequoia Capital China, Blackbird Ventures, Mat...  \n",
       "6  Tiger Global Management, Insight Partners, DST...  \n",
       "7  Khosla Ventures, Kleiner Perkins Caufield & By...  \n",
       "8                            Tiger Global Management  \n",
       "9  Andreessen Horowitz, New Enterprise Associates...  "
      ]
     },
     "execution_count": 3,
     "metadata": {},
     "output_type": "execute_result"
    }
   ],
   "source": [
    "# Display the first 10 rows of the data\n",
    "\n",
    "companies.head(10)"
   ]
  },
  {
   "cell_type": "markdown",
   "id": "433f31ff",
   "metadata": {
    "papermill": {
     "duration": 0.019714,
     "end_time": "2024-01-10T18:26:31.160601",
     "exception": false,
     "start_time": "2024-01-10T18:26:31.140887",
     "status": "completed"
    },
    "tags": []
   },
   "source": [
    "**Question:** What do you think the \"Date Joined\" column represents?\n",
    "\n",
    "- The \"Date Joined\" column represents when the company became a \"unicorn,\" reaching one billion dollars in valuation."
   ]
  },
  {
   "cell_type": "markdown",
   "id": "291487ff",
   "metadata": {
    "papermill": {
     "duration": 0.019962,
     "end_time": "2024-01-10T18:26:31.200408",
     "exception": false,
     "start_time": "2024-01-10T18:26:31.180446",
     "status": "completed"
    },
    "tags": []
   },
   "source": [
    "**Question:** What do you think the \"Select Investors\" column represents?\n",
    "\n",
    "- The \"Select Investors\" column represents the top investors in the company."
   ]
  },
  {
   "cell_type": "markdown",
   "id": "696236c1",
   "metadata": {
    "papermill": {
     "duration": 0.019792,
     "end_time": "2024-01-10T18:26:31.240170",
     "exception": false,
     "start_time": "2024-01-10T18:26:31.220378",
     "status": "completed"
    },
    "tags": []
   },
   "source": [
    "### Assess the size of the dataset\n",
    "\n",
    "Get a sense of how large the dataset is. The `size` property that DataFrames have can help."
   ]
  },
  {
   "cell_type": "code",
   "execution_count": 4,
   "id": "8e2b8f47",
   "metadata": {
    "execution": {
     "iopub.execute_input": "2024-01-10T18:26:31.281584Z",
     "iopub.status.busy": "2024-01-10T18:26:31.281272Z",
     "iopub.status.idle": "2024-01-10T18:26:31.288016Z",
     "shell.execute_reply": "2024-01-10T18:26:31.287123Z"
    },
    "papermill": {
     "duration": 0.029592,
     "end_time": "2024-01-10T18:26:31.289705",
     "exception": false,
     "start_time": "2024-01-10T18:26:31.260113",
     "status": "completed"
    },
    "tags": []
   },
   "outputs": [
    {
     "data": {
      "text/plain": [
       "10740"
      ]
     },
     "execution_count": 4,
     "metadata": {},
     "output_type": "execute_result"
    }
   ],
   "source": [
    "# How large the dataset is\n",
    "\n",
    "companies.size"
   ]
  },
  {
   "cell_type": "markdown",
   "id": "a9290933",
   "metadata": {
    "papermill": {
     "duration": 0.019982,
     "end_time": "2024-01-10T18:26:31.330210",
     "exception": false,
     "start_time": "2024-01-10T18:26:31.310228",
     "status": "completed"
    },
    "tags": []
   },
   "source": [
    "**Question:** What do you notice about the size of the dataset?\n",
    "\n",
    "- The size of the dataset is 10740. This means that there are 10740 values in total across the whole dataset."
   ]
  },
  {
   "cell_type": "markdown",
   "id": "4509297f",
   "metadata": {
    "papermill": {
     "duration": 0.019747,
     "end_time": "2024-01-10T18:26:31.370238",
     "exception": false,
     "start_time": "2024-01-10T18:26:31.350491",
     "status": "completed"
    },
    "tags": []
   },
   "source": [
    "### Determine the shape of the dataset\n",
    "\n",
    "Identify the number of rows and columns in the dataset. The `shape` property that DataFrames have can help."
   ]
  },
  {
   "cell_type": "code",
   "execution_count": 5,
   "id": "a0683717",
   "metadata": {
    "execution": {
     "iopub.execute_input": "2024-01-10T18:26:31.411834Z",
     "iopub.status.busy": "2024-01-10T18:26:31.411482Z",
     "iopub.status.idle": "2024-01-10T18:26:31.416491Z",
     "shell.execute_reply": "2024-01-10T18:26:31.415689Z"
    },
    "papermill": {
     "duration": 0.027909,
     "end_time": "2024-01-10T18:26:31.418187",
     "exception": false,
     "start_time": "2024-01-10T18:26:31.390278",
     "status": "completed"
    },
    "tags": []
   },
   "outputs": [
    {
     "data": {
      "text/plain": [
       "(1074, 10)"
      ]
     },
     "execution_count": 5,
     "metadata": {},
     "output_type": "execute_result"
    }
   ],
   "source": [
    "# Shape of the dataset\n",
    "\n",
    "companies.shape"
   ]
  },
  {
   "cell_type": "markdown",
   "id": "41cdc98a",
   "metadata": {
    "papermill": {
     "duration": 0.019694,
     "end_time": "2024-01-10T18:26:31.458542",
     "exception": false,
     "start_time": "2024-01-10T18:26:31.438848",
     "status": "completed"
    },
    "tags": []
   },
   "source": [
    "**Question:** What do you notice about the shape of the dataset?\n",
    "\n",
    "- The shape of the dataset is (1074, 10). The first number, 1074, represents the number of rows (also known as entries). The second number, 10, represents the number of columns. According to this dataset, there are 1074 unicorn companies as of March 2022, and this dataset also shows 10 aspects of each company. "
   ]
  },
  {
   "cell_type": "markdown",
   "id": "053e8cad",
   "metadata": {
    "papermill": {
     "duration": 0.019876,
     "end_time": "2024-01-10T18:26:31.498446",
     "exception": false,
     "start_time": "2024-01-10T18:26:31.478570",
     "status": "completed"
    },
    "tags": []
   },
   "source": [
    "### Get basic information about the dataset\n",
    "\n",
    "To further understand what the dataset entails, get basic information about the dataset, including the data type of values in each column. There is more than one way to approach this task. In this instance, use the `info()` function from `pandas`."
   ]
  },
  {
   "cell_type": "code",
   "execution_count": 6,
   "id": "001875a5",
   "metadata": {
    "execution": {
     "iopub.execute_input": "2024-01-10T18:26:31.540986Z",
     "iopub.status.busy": "2024-01-10T18:26:31.540432Z",
     "iopub.status.idle": "2024-01-10T18:26:31.560481Z",
     "shell.execute_reply": "2024-01-10T18:26:31.559620Z"
    },
    "papermill": {
     "duration": 0.043111,
     "end_time": "2024-01-10T18:26:31.562109",
     "exception": false,
     "start_time": "2024-01-10T18:26:31.518998",
     "status": "completed"
    },
    "tags": []
   },
   "outputs": [
    {
     "name": "stdout",
     "output_type": "stream",
     "text": [
      "<class 'pandas.core.frame.DataFrame'>\n",
      "RangeIndex: 1074 entries, 0 to 1073\n",
      "Data columns (total 10 columns):\n",
      " #   Column            Non-Null Count  Dtype \n",
      "---  ------            --------------  ----- \n",
      " 0   Company           1074 non-null   object\n",
      " 1   Valuation         1074 non-null   object\n",
      " 2   Date Joined       1074 non-null   object\n",
      " 3   Industry          1074 non-null   object\n",
      " 4   City              1058 non-null   object\n",
      " 5   Country           1074 non-null   object\n",
      " 6   Continent         1074 non-null   object\n",
      " 7   Year Founded      1074 non-null   int64 \n",
      " 8   Funding           1074 non-null   object\n",
      " 9   Select Investors  1073 non-null   object\n",
      "dtypes: int64(1), object(9)\n",
      "memory usage: 84.0+ KB\n"
     ]
    }
   ],
   "source": [
    "# Get information\n",
    "\n",
    "\n",
    "companies.info()"
   ]
  },
  {
   "cell_type": "markdown",
   "id": "38111d57",
   "metadata": {
    "papermill": {
     "duration": 0.019318,
     "end_time": "2024-01-10T18:26:31.601640",
     "exception": false,
     "start_time": "2024-01-10T18:26:31.582322",
     "status": "completed"
    },
    "tags": []
   },
   "source": [
    "**Question:** What do you notice about the type of data in the `Year Founded` column? Refer to the output from using `info()` above. Knowing the data type of this variable is helpful because it indicates what types of analysis can be done with that variable, how it can be aggregated with other variables, and so on.\n",
    "\n",
    "- `Dtype` is listed as `int64` in the `Year Founded` column. This means that the year a company was founded is represented as an integer. "
   ]
  },
  {
   "cell_type": "markdown",
   "id": "c6e4f95b",
   "metadata": {
    "papermill": {
     "duration": 0.019155,
     "end_time": "2024-01-10T18:26:31.640085",
     "exception": false,
     "start_time": "2024-01-10T18:26:31.620930",
     "status": "completed"
    },
    "tags": []
   },
   "source": [
    "**Question:** What do you notice about the type of data in the `Date Joined` column? Refer to the output from using `info()` above. Knowing the data type of this variable is helpful because it indicates what types of analysis can be done with that variable and how the variable can be transformed to suit specific tasks.\n",
    "\n",
    "- `Dtype` is listed as `object` for the `Date Joined` column. This means that the date a company became a unicorn is represented as an object. "
   ]
  },
  {
   "cell_type": "markdown",
   "id": "32dace83",
   "metadata": {
    "papermill": {
     "duration": 0.019027,
     "end_time": "2024-01-10T18:26:31.678472",
     "exception": false,
     "start_time": "2024-01-10T18:26:31.659445",
     "status": "completed"
    },
    "tags": []
   },
   "source": [
    "## Step 3: Statistical tests"
   ]
  },
  {
   "cell_type": "markdown",
   "id": "eb01e90d",
   "metadata": {
    "papermill": {
     "duration": 0.019212,
     "end_time": "2024-01-10T18:26:31.717068",
     "exception": false,
     "start_time": "2024-01-10T18:26:31.697856",
     "status": "completed"
    },
    "tags": []
   },
   "source": [
    "### Find descriptive statistics\n",
    "\n",
    "Find descriptive statistics and structure your dataset. The `describe()` function from the `pandas` library can help. This function generates statistics for the numeric columns in a dataset. "
   ]
  },
  {
   "cell_type": "code",
   "execution_count": 7,
   "id": "d8c9ae29",
   "metadata": {
    "execution": {
     "iopub.execute_input": "2024-01-10T18:26:31.757844Z",
     "iopub.status.busy": "2024-01-10T18:26:31.757314Z",
     "iopub.status.idle": "2024-01-10T18:26:31.768418Z",
     "shell.execute_reply": "2024-01-10T18:26:31.767758Z"
    },
    "papermill": {
     "duration": 0.033198,
     "end_time": "2024-01-10T18:26:31.769904",
     "exception": false,
     "start_time": "2024-01-10T18:26:31.736706",
     "status": "completed"
    },
    "tags": []
   },
   "outputs": [
    {
     "data": {
      "text/html": [
       "<div>\n",
       "<style scoped>\n",
       "    .dataframe tbody tr th:only-of-type {\n",
       "        vertical-align: middle;\n",
       "    }\n",
       "\n",
       "    .dataframe tbody tr th {\n",
       "        vertical-align: top;\n",
       "    }\n",
       "\n",
       "    .dataframe thead th {\n",
       "        text-align: right;\n",
       "    }\n",
       "</style>\n",
       "<table border=\"1\" class=\"dataframe\">\n",
       "  <thead>\n",
       "    <tr style=\"text-align: right;\">\n",
       "      <th></th>\n",
       "      <th>Year Founded</th>\n",
       "    </tr>\n",
       "  </thead>\n",
       "  <tbody>\n",
       "    <tr>\n",
       "      <th>count</th>\n",
       "      <td>1074.000000</td>\n",
       "    </tr>\n",
       "    <tr>\n",
       "      <th>mean</th>\n",
       "      <td>2012.895717</td>\n",
       "    </tr>\n",
       "    <tr>\n",
       "      <th>std</th>\n",
       "      <td>5.698573</td>\n",
       "    </tr>\n",
       "    <tr>\n",
       "      <th>min</th>\n",
       "      <td>1919.000000</td>\n",
       "    </tr>\n",
       "    <tr>\n",
       "      <th>25%</th>\n",
       "      <td>2011.000000</td>\n",
       "    </tr>\n",
       "    <tr>\n",
       "      <th>50%</th>\n",
       "      <td>2014.000000</td>\n",
       "    </tr>\n",
       "    <tr>\n",
       "      <th>75%</th>\n",
       "      <td>2016.000000</td>\n",
       "    </tr>\n",
       "    <tr>\n",
       "      <th>max</th>\n",
       "      <td>2021.000000</td>\n",
       "    </tr>\n",
       "  </tbody>\n",
       "</table>\n",
       "</div>"
      ],
      "text/plain": [
       "       Year Founded\n",
       "count   1074.000000\n",
       "mean    2012.895717\n",
       "std        5.698573\n",
       "min     1919.000000\n",
       "25%     2011.000000\n",
       "50%     2014.000000\n",
       "75%     2016.000000\n",
       "max     2021.000000"
      ]
     },
     "execution_count": 7,
     "metadata": {},
     "output_type": "execute_result"
    }
   ],
   "source": [
    "### Get descriptive statistics\n",
    "\n",
    "companies.describe()"
   ]
  },
  {
   "cell_type": "markdown",
   "id": "980d762c",
   "metadata": {
    "papermill": {
     "duration": 0.019368,
     "end_time": "2024-01-10T18:26:31.809388",
     "exception": false,
     "start_time": "2024-01-10T18:26:31.790020",
     "status": "completed"
    },
    "tags": []
   },
   "source": [
    "**Question:** Based on the table of descriptive stats generated above, what do you notice about the minimum value in the `Year Founded` column? This is important to know because it helps you understand how early the entries in the data begin.\n",
    "\n",
    "- The minimum value in the `Year Founded` column is 1919. This means that this dataset does not contain data on unicorn companies founded before 1919."
   ]
  },
  {
   "cell_type": "markdown",
   "id": "8674acbd",
   "metadata": {
    "papermill": {
     "duration": 0.019938,
     "end_time": "2024-01-10T18:26:31.849162",
     "exception": false,
     "start_time": "2024-01-10T18:26:31.829224",
     "status": "completed"
    },
    "tags": []
   },
   "source": [
    "**Question:** What do you notice about the maximum value in the `Year Founded` column? This is important to know because it helps you understand the most recent year captured by the data. \n",
    "\n",
    "- The maximum value in the `Year Founded` column is 2021. This means that this dataset does not include data on unicorn companies founded after 2021."
   ]
  },
  {
   "cell_type": "markdown",
   "id": "25078e00",
   "metadata": {
    "papermill": {
     "duration": 0.020566,
     "end_time": "2024-01-10T18:26:31.889351",
     "exception": false,
     "start_time": "2024-01-10T18:26:31.868785",
     "status": "completed"
    },
    "tags": []
   },
   "source": [
    "### Convert the `Date Joined` column to datetime\n",
    "\n",
    "- Use pd.to_datetime() to convert the \"Date Joined\" column to datetime. \n",
    "- Update the column with the converted values.\n",
    "- Use .info() to confirm that the update actually took place\n",
    "\n",
    "You can use the `to_datetime()` function from the `pandas` library. This splits each value into year, month, and date components. This is an important step in data cleaning, as it makes the data in this column easier to use in tasks you may encounter. To name a few examples, you may need to compare \"date joined\" between companies or determine how long it took a company to become a unicorn. Having \"date joined\" in datetime form would help you complete such tasks."
   ]
  },
  {
   "cell_type": "code",
   "execution_count": 8,
   "id": "6a68d425",
   "metadata": {
    "execution": {
     "iopub.execute_input": "2024-01-10T18:26:31.929911Z",
     "iopub.status.busy": "2024-01-10T18:26:31.929595Z",
     "iopub.status.idle": "2024-01-10T18:26:31.938073Z",
     "shell.execute_reply": "2024-01-10T18:26:31.937351Z"
    },
    "papermill": {
     "duration": 0.030493,
     "end_time": "2024-01-10T18:26:31.939552",
     "exception": false,
     "start_time": "2024-01-10T18:26:31.909059",
     "status": "completed"
    },
    "tags": []
   },
   "outputs": [],
   "source": [
    "# Step 1. Use pd.to_datetime() to convert Date Joined column to datetime \n",
    "# Step 2. Update the column with the converted values\n",
    "\n",
    "companies[\"Date Joined\"] = pd.to_datetime(companies[\"Date Joined\"])"
   ]
  },
  {
   "cell_type": "code",
   "execution_count": 9,
   "id": "7794a114",
   "metadata": {
    "execution": {
     "iopub.execute_input": "2024-01-10T18:26:31.980328Z",
     "iopub.status.busy": "2024-01-10T18:26:31.979932Z",
     "iopub.status.idle": "2024-01-10T18:26:31.988426Z",
     "shell.execute_reply": "2024-01-10T18:26:31.987650Z"
    },
    "papermill": {
     "duration": 0.030646,
     "end_time": "2024-01-10T18:26:31.990082",
     "exception": false,
     "start_time": "2024-01-10T18:26:31.959436",
     "status": "completed"
    },
    "tags": []
   },
   "outputs": [
    {
     "name": "stdout",
     "output_type": "stream",
     "text": [
      "<class 'pandas.core.frame.DataFrame'>\n",
      "RangeIndex: 1074 entries, 0 to 1073\n",
      "Data columns (total 10 columns):\n",
      " #   Column            Non-Null Count  Dtype         \n",
      "---  ------            --------------  -----         \n",
      " 0   Company           1074 non-null   object        \n",
      " 1   Valuation         1074 non-null   object        \n",
      " 2   Date Joined       1074 non-null   datetime64[ns]\n",
      " 3   Industry          1074 non-null   object        \n",
      " 4   City              1058 non-null   object        \n",
      " 5   Country           1074 non-null   object        \n",
      " 6   Continent         1074 non-null   object        \n",
      " 7   Year Founded      1074 non-null   int64         \n",
      " 8   Funding           1074 non-null   object        \n",
      " 9   Select Investors  1073 non-null   object        \n",
      "dtypes: datetime64[ns](1), int64(1), object(8)\n",
      "memory usage: 84.0+ KB\n"
     ]
    }
   ],
   "source": [
    "# Use .info() to confirm that the update actually took place\n",
    "\n",
    "companies.info()"
   ]
  },
  {
   "cell_type": "markdown",
   "id": "3eafa29b",
   "metadata": {
    "papermill": {
     "duration": 0.021771,
     "end_time": "2024-01-10T18:26:32.032017",
     "exception": false,
     "start_time": "2024-01-10T18:26:32.010246",
     "status": "completed"
    },
    "tags": []
   },
   "source": [
    "### Create a `Year Joined` column\n",
    "\n",
    "It is common to encounter situations where you will need to compare the year joined with the year founded. The `Date Joined` column does not just have year—it has the year, month, and date. Extract the year component from the `Date Joined` column and add those year components into a new column to keep track of each company's year joined."
   ]
  },
  {
   "cell_type": "code",
   "execution_count": 10,
   "id": "f2fb60d9",
   "metadata": {
    "execution": {
     "iopub.execute_input": "2024-01-10T18:26:32.078023Z",
     "iopub.status.busy": "2024-01-10T18:26:32.077425Z",
     "iopub.status.idle": "2024-01-10T18:26:32.083289Z",
     "shell.execute_reply": "2024-01-10T18:26:32.082679Z"
    },
    "papermill": {
     "duration": 0.031126,
     "end_time": "2024-01-10T18:26:32.085120",
     "exception": false,
     "start_time": "2024-01-10T18:26:32.053994",
     "status": "completed"
    },
    "tags": []
   },
   "outputs": [],
   "source": [
    "# Step 1: Use .dt.year to extract year component from Date Joined column\n",
    "# Step 2: Add the result as a new column named Year Joined to the DataFrame\n",
    "\n",
    "\n",
    "companies[\"Year Joined\"] = companies[\"Date Joined\"].dt.year"
   ]
  },
  {
   "cell_type": "code",
   "execution_count": 11,
   "id": "150820be",
   "metadata": {
    "execution": {
     "iopub.execute_input": "2024-01-10T18:26:32.131014Z",
     "iopub.status.busy": "2024-01-10T18:26:32.130412Z",
     "iopub.status.idle": "2024-01-10T18:26:32.141499Z",
     "shell.execute_reply": "2024-01-10T18:26:32.140941Z"
    },
    "papermill": {
     "duration": 0.035865,
     "end_time": "2024-01-10T18:26:32.143039",
     "exception": false,
     "start_time": "2024-01-10T18:26:32.107174",
     "status": "completed"
    },
    "tags": []
   },
   "outputs": [
    {
     "data": {
      "text/html": [
       "<div>\n",
       "<style scoped>\n",
       "    .dataframe tbody tr th:only-of-type {\n",
       "        vertical-align: middle;\n",
       "    }\n",
       "\n",
       "    .dataframe tbody tr th {\n",
       "        vertical-align: top;\n",
       "    }\n",
       "\n",
       "    .dataframe thead th {\n",
       "        text-align: right;\n",
       "    }\n",
       "</style>\n",
       "<table border=\"1\" class=\"dataframe\">\n",
       "  <thead>\n",
       "    <tr style=\"text-align: right;\">\n",
       "      <th></th>\n",
       "      <th>Company</th>\n",
       "      <th>Valuation</th>\n",
       "      <th>Date Joined</th>\n",
       "      <th>Industry</th>\n",
       "      <th>City</th>\n",
       "      <th>Country</th>\n",
       "      <th>Continent</th>\n",
       "      <th>Year Founded</th>\n",
       "      <th>Funding</th>\n",
       "      <th>Select Investors</th>\n",
       "      <th>Year Joined</th>\n",
       "    </tr>\n",
       "  </thead>\n",
       "  <tbody>\n",
       "    <tr>\n",
       "      <th>0</th>\n",
       "      <td>Bytedance</td>\n",
       "      <td>$180B</td>\n",
       "      <td>2017-04-07</td>\n",
       "      <td>Artificial intelligence</td>\n",
       "      <td>Beijing</td>\n",
       "      <td>China</td>\n",
       "      <td>Asia</td>\n",
       "      <td>2012</td>\n",
       "      <td>$8B</td>\n",
       "      <td>Sequoia Capital China, SIG Asia Investments, S...</td>\n",
       "      <td>2017</td>\n",
       "    </tr>\n",
       "    <tr>\n",
       "      <th>1</th>\n",
       "      <td>SpaceX</td>\n",
       "      <td>$100B</td>\n",
       "      <td>2012-12-01</td>\n",
       "      <td>Other</td>\n",
       "      <td>Hawthorne</td>\n",
       "      <td>United States</td>\n",
       "      <td>North America</td>\n",
       "      <td>2002</td>\n",
       "      <td>$7B</td>\n",
       "      <td>Founders Fund, Draper Fisher Jurvetson, Rothen...</td>\n",
       "      <td>2012</td>\n",
       "    </tr>\n",
       "    <tr>\n",
       "      <th>2</th>\n",
       "      <td>SHEIN</td>\n",
       "      <td>$100B</td>\n",
       "      <td>2018-07-03</td>\n",
       "      <td>E-commerce &amp; direct-to-consumer</td>\n",
       "      <td>Shenzhen</td>\n",
       "      <td>China</td>\n",
       "      <td>Asia</td>\n",
       "      <td>2008</td>\n",
       "      <td>$2B</td>\n",
       "      <td>Tiger Global Management, Sequoia Capital China...</td>\n",
       "      <td>2018</td>\n",
       "    </tr>\n",
       "    <tr>\n",
       "      <th>3</th>\n",
       "      <td>Stripe</td>\n",
       "      <td>$95B</td>\n",
       "      <td>2014-01-23</td>\n",
       "      <td>Fintech</td>\n",
       "      <td>San Francisco</td>\n",
       "      <td>United States</td>\n",
       "      <td>North America</td>\n",
       "      <td>2010</td>\n",
       "      <td>$2B</td>\n",
       "      <td>Khosla Ventures, LowercaseCapital, capitalG</td>\n",
       "      <td>2014</td>\n",
       "    </tr>\n",
       "    <tr>\n",
       "      <th>4</th>\n",
       "      <td>Klarna</td>\n",
       "      <td>$46B</td>\n",
       "      <td>2011-12-12</td>\n",
       "      <td>Fintech</td>\n",
       "      <td>Stockholm</td>\n",
       "      <td>Sweden</td>\n",
       "      <td>Europe</td>\n",
       "      <td>2005</td>\n",
       "      <td>$4B</td>\n",
       "      <td>Institutional Venture Partners, Sequoia Capita...</td>\n",
       "      <td>2011</td>\n",
       "    </tr>\n",
       "  </tbody>\n",
       "</table>\n",
       "</div>"
      ],
      "text/plain": [
       "     Company Valuation Date Joined                         Industry  \\\n",
       "0  Bytedance     $180B  2017-04-07          Artificial intelligence   \n",
       "1     SpaceX     $100B  2012-12-01                            Other   \n",
       "2      SHEIN     $100B  2018-07-03  E-commerce & direct-to-consumer   \n",
       "3     Stripe      $95B  2014-01-23                          Fintech   \n",
       "4     Klarna      $46B  2011-12-12                          Fintech   \n",
       "\n",
       "            City        Country      Continent  Year Founded Funding  \\\n",
       "0        Beijing          China           Asia          2012     $8B   \n",
       "1      Hawthorne  United States  North America          2002     $7B   \n",
       "2       Shenzhen          China           Asia          2008     $2B   \n",
       "3  San Francisco  United States  North America          2010     $2B   \n",
       "4      Stockholm         Sweden         Europe          2005     $4B   \n",
       "\n",
       "                                    Select Investors  Year Joined  \n",
       "0  Sequoia Capital China, SIG Asia Investments, S...         2017  \n",
       "1  Founders Fund, Draper Fisher Jurvetson, Rothen...         2012  \n",
       "2  Tiger Global Management, Sequoia Capital China...         2018  \n",
       "3        Khosla Ventures, LowercaseCapital, capitalG         2014  \n",
       "4  Institutional Venture Partners, Sequoia Capita...         2011  "
      ]
     },
     "execution_count": 11,
     "metadata": {},
     "output_type": "execute_result"
    }
   ],
   "source": [
    "# Use .head() to confirm that the new column did get added\n",
    "\n",
    "\n",
    "companies.head()"
   ]
  },
  {
   "cell_type": "markdown",
   "id": "4f2d7bfe",
   "metadata": {
    "papermill": {
     "duration": 0.021148,
     "end_time": "2024-01-10T18:26:32.186230",
     "exception": false,
     "start_time": "2024-01-10T18:26:32.165082",
     "status": "completed"
    },
    "tags": []
   },
   "source": [
    "## Step 4: Results and evaluation"
   ]
  },
  {
   "cell_type": "markdown",
   "id": "6be6cdb8",
   "metadata": {
    "papermill": {
     "duration": 0.021249,
     "end_time": "2024-01-10T18:26:32.228972",
     "exception": false,
     "start_time": "2024-01-10T18:26:32.207723",
     "status": "completed"
    },
    "tags": []
   },
   "source": [
    "### Take a sample of the data\n",
    "\n",
    "It is not necessary to take a sample of the data in order to conduct the visualizations and EDA that follow. But you may encounter scenarios in the future where you will need to take a sample of the data due to time and resource limitations. For the purpose of developing your skills around sampling, take a sample of the data and work with that sample for the next steps of analysis you want to conduct. Use the `sample()` function for this task.\n",
    "\n",
    "- Use `sample()` with the `n` parameter set to `50` to randomly sample 50 unicorn companies from the data. Be sure to specify the `random_state` parameter to ensure reproducibility of your work. Save the result to a variable called `companies_sampled`."
   ]
  },
  {
   "cell_type": "code",
   "execution_count": 12,
   "id": "bc2e2947",
   "metadata": {
    "execution": {
     "iopub.execute_input": "2024-01-10T18:26:32.273469Z",
     "iopub.status.busy": "2024-01-10T18:26:32.272552Z",
     "iopub.status.idle": "2024-01-10T18:26:32.279667Z",
     "shell.execute_reply": "2024-01-10T18:26:32.279079Z"
    },
    "papermill": {
     "duration": 0.030973,
     "end_time": "2024-01-10T18:26:32.281321",
     "exception": false,
     "start_time": "2024-01-10T18:26:32.250348",
     "status": "completed"
    },
    "tags": []
   },
   "outputs": [],
   "source": [
    "# Sample the data\n",
    "\n",
    "companies_sample = companies.sample(n = 50, random_state = 42)"
   ]
  },
  {
   "cell_type": "markdown",
   "id": "ed6aa118",
   "metadata": {
    "papermill": {
     "duration": 0.020842,
     "end_time": "2024-01-10T18:26:32.324549",
     "exception": false,
     "start_time": "2024-01-10T18:26:32.303707",
     "status": "completed"
    },
    "tags": []
   },
   "source": [
    "### Visualize the time it took companies to reach unicorn status\n",
    "\n",
    "Visualize the longest time it took companies to reach unicorn status for each industry represented in the sample. To create a bar plot to visualize this, use the `bar()` function from the `matplotlib.pyplot` module. You'll first need to prepare the data."
   ]
  },
  {
   "cell_type": "code",
   "execution_count": 13,
   "id": "aa77633e",
   "metadata": {
    "execution": {
     "iopub.execute_input": "2024-01-10T18:26:32.369308Z",
     "iopub.status.busy": "2024-01-10T18:26:32.368647Z",
     "iopub.status.idle": "2024-01-10T18:26:32.382004Z",
     "shell.execute_reply": "2024-01-10T18:26:32.381153Z"
    },
    "papermill": {
     "duration": 0.038119,
     "end_time": "2024-01-10T18:26:32.383811",
     "exception": false,
     "start_time": "2024-01-10T18:26:32.345692",
     "status": "completed"
    },
    "tags": []
   },
   "outputs": [
    {
     "data": {
      "text/html": [
       "<div>\n",
       "<style scoped>\n",
       "    .dataframe tbody tr th:only-of-type {\n",
       "        vertical-align: middle;\n",
       "    }\n",
       "\n",
       "    .dataframe tbody tr th {\n",
       "        vertical-align: top;\n",
       "    }\n",
       "\n",
       "    .dataframe thead th {\n",
       "        text-align: right;\n",
       "    }\n",
       "</style>\n",
       "<table border=\"1\" class=\"dataframe\">\n",
       "  <thead>\n",
       "    <tr style=\"text-align: right;\">\n",
       "      <th></th>\n",
       "      <th>years_till_unicorn</th>\n",
       "    </tr>\n",
       "    <tr>\n",
       "      <th>Industry</th>\n",
       "      <th></th>\n",
       "    </tr>\n",
       "  </thead>\n",
       "  <tbody>\n",
       "    <tr>\n",
       "      <th>Consumer &amp; retail</th>\n",
       "      <td>1</td>\n",
       "    </tr>\n",
       "    <tr>\n",
       "      <th>Auto &amp; transportation</th>\n",
       "      <td>2</td>\n",
       "    </tr>\n",
       "    <tr>\n",
       "      <th>Artificial intelligence</th>\n",
       "      <td>5</td>\n",
       "    </tr>\n",
       "    <tr>\n",
       "      <th>Data management &amp; analytics</th>\n",
       "      <td>8</td>\n",
       "    </tr>\n",
       "    <tr>\n",
       "      <th>Mobile &amp; telecommunications</th>\n",
       "      <td>9</td>\n",
       "    </tr>\n",
       "    <tr>\n",
       "      <th>Supply chain, logistics, &amp; delivery</th>\n",
       "      <td>12</td>\n",
       "    </tr>\n",
       "    <tr>\n",
       "      <th>Internet software &amp; services</th>\n",
       "      <td>13</td>\n",
       "    </tr>\n",
       "    <tr>\n",
       "      <th>Other</th>\n",
       "      <td>15</td>\n",
       "    </tr>\n",
       "    <tr>\n",
       "      <th>E-commerce &amp; direct-to-consumer</th>\n",
       "      <td>18</td>\n",
       "    </tr>\n",
       "    <tr>\n",
       "      <th>Cybersecurity</th>\n",
       "      <td>19</td>\n",
       "    </tr>\n",
       "    <tr>\n",
       "      <th>Fintech</th>\n",
       "      <td>21</td>\n",
       "    </tr>\n",
       "    <tr>\n",
       "      <th>Health</th>\n",
       "      <td>21</td>\n",
       "    </tr>\n",
       "  </tbody>\n",
       "</table>\n",
       "</div>"
      ],
      "text/plain": [
       "                                     years_till_unicorn\n",
       "Industry                                               \n",
       "Consumer & retail                                     1\n",
       "Auto & transportation                                 2\n",
       "Artificial intelligence                               5\n",
       "Data management & analytics                           8\n",
       "Mobile & telecommunications                           9\n",
       "Supply chain, logistics, & delivery                  12\n",
       "Internet software & services                         13\n",
       "Other                                                15\n",
       "E-commerce & direct-to-consumer                      18\n",
       "Cybersecurity                                        19\n",
       "Fintech                                              21\n",
       "Health                                               21"
      ]
     },
     "execution_count": 13,
     "metadata": {},
     "output_type": "execute_result"
    }
   ],
   "source": [
    "# Prepare data for plotting\n",
    "\n",
    "\n",
    "# Create new `years_till_unicorn` column \n",
    "companies_sample[\"years_till_unicorn\"] = companies_sample[\"Year Joined\"] - companies_sample[\"Year Founded\"]\n",
    "\n",
    "# Group the data by `Industry`. For each industry, get the max value in the `years_till_unicorn` column.\n",
    "grouped = (companies_sample[[\"Industry\", \"years_till_unicorn\"]]\n",
    "           .groupby(\"Industry\")\n",
    "           .max()\n",
    "           .sort_values(by=\"years_till_unicorn\")\n",
    "          )\n",
    "grouped"
   ]
  },
  {
   "cell_type": "markdown",
   "id": "6551a0fb",
   "metadata": {
    "papermill": {
     "duration": 0.021347,
     "end_time": "2024-01-10T18:26:32.426543",
     "exception": false,
     "start_time": "2024-01-10T18:26:32.405196",
     "status": "completed"
    },
    "tags": []
   },
   "source": [
    "## Now, create a bar plot."
   ]
  },
  {
   "cell_type": "code",
   "execution_count": 14,
   "id": "5578ded3",
   "metadata": {
    "execution": {
     "iopub.execute_input": "2024-01-10T18:26:32.472245Z",
     "iopub.status.busy": "2024-01-10T18:26:32.471603Z",
     "iopub.status.idle": "2024-01-10T18:26:32.754353Z",
     "shell.execute_reply": "2024-01-10T18:26:32.753319Z"
    },
    "papermill": {
     "duration": 0.307848,
     "end_time": "2024-01-10T18:26:32.756370",
     "exception": false,
     "start_time": "2024-01-10T18:26:32.448522",
     "status": "completed"
    },
    "tags": []
   },
   "outputs": [
    {
     "data": {
      "image/png": "[encoded data removed]",
      "text/plain": [
       "<Figure size 640x480 with 1 Axes>"
      ]
     },
     "metadata": {},
     "output_type": "display_data"
    }
   ],
   "source": [
    "# Create bar plot\n",
    "# with Industry column as the categories of the bars\n",
    "# and the difference in years between Year Joined column and Year Founded column as the heights of the bars\n",
    "\n",
    "\n",
    "plt.bar(grouped.index, grouped[\"years_till_unicorn\"])\n",
    "\n",
    "# Set title\n",
    "\n",
    "\n",
    "plt.title(\"Bar plot of maximum years taken by company to become unicorn per industry (from sample)\")\n",
    "\n",
    "# Set x-axis label\n",
    "\n",
    "\n",
    "plt.xlabel(\"Industry\")\n",
    "\n",
    "# Set y-axis label\n",
    "\n",
    "\n",
    "\n",
    "plt.ylabel(\"Maximum number of years\")\n",
    "\n",
    "# Rotate labels on the x-axis as a way to avoid overlap in the positions of the text  \n",
    "\n",
    "\n",
    "\n",
    "plt.xticks(rotation=45, horizontalalignment='right')\n",
    "\n",
    "# Display the plot\n",
    "\n",
    "\n",
    "\n",
    "plt.show()"
   ]
  },
  {
   "cell_type": "markdown",
   "id": "ba411f4c",
   "metadata": {
    "papermill": {
     "duration": 0.021667,
     "end_time": "2024-01-10T18:26:32.801333",
     "exception": false,
     "start_time": "2024-01-10T18:26:32.779666",
     "status": "completed"
    },
    "tags": []
   },
   "source": [
    "**Question:** What do you observe from this bar plot?\n",
    "\n",
    "- This bar plot shows that for this sample of unicorn companies, the largest value for maximum time taken to become a unicorn occurred in the Heath and Fintech industries, while the smallest value occurred in the Consumer & Retail industry."
   ]
  },
  {
   "cell_type": "markdown",
   "id": "e3ce1803",
   "metadata": {
    "papermill": {
     "duration": 0.021836,
     "end_time": "2024-01-10T18:26:32.845442",
     "exception": false,
     "start_time": "2024-01-10T18:26:32.823606",
     "status": "completed"
    },
    "tags": []
   },
   "source": [
    "### Visualize the maximum unicorn company valuation per industry\n",
    "\n",
    "Visualize unicorn companies' maximum valuation for each industry represented in the sample. To create a bar plot to visualize this, use the `bar()` function from the `matplotlib.pyplot` module. Before plotting, create a new column that represents the companies' valuations as numbers (instead of strings, as they're currently represented). Then, use this new column to plot your data."
   ]
  },
  {
   "cell_type": "code",
   "execution_count": 15,
   "id": "c0c29a4a",
   "metadata": {
    "execution": {
     "iopub.execute_input": "2024-01-10T18:26:32.892081Z",
     "iopub.status.busy": "2024-01-10T18:26:32.891719Z",
     "iopub.status.idle": "2024-01-10T18:26:32.909251Z",
     "shell.execute_reply": "2024-01-10T18:26:32.908457Z"
    },
    "papermill": {
     "duration": 0.042868,
     "end_time": "2024-01-10T18:26:32.910917",
     "exception": false,
     "start_time": "2024-01-10T18:26:32.868049",
     "status": "completed"
    },
    "tags": []
   },
   "outputs": [
    {
     "data": {
      "text/html": [
       "<div>\n",
       "<style scoped>\n",
       "    .dataframe tbody tr th:only-of-type {\n",
       "        vertical-align: middle;\n",
       "    }\n",
       "\n",
       "    .dataframe tbody tr th {\n",
       "        vertical-align: top;\n",
       "    }\n",
       "\n",
       "    .dataframe thead th {\n",
       "        text-align: right;\n",
       "    }\n",
       "</style>\n",
       "<table border=\"1\" class=\"dataframe\">\n",
       "  <thead>\n",
       "    <tr style=\"text-align: right;\">\n",
       "      <th></th>\n",
       "      <th>Company</th>\n",
       "      <th>Valuation</th>\n",
       "      <th>Date Joined</th>\n",
       "      <th>Industry</th>\n",
       "      <th>City</th>\n",
       "      <th>Country</th>\n",
       "      <th>Continent</th>\n",
       "      <th>Year Founded</th>\n",
       "      <th>Funding</th>\n",
       "      <th>Select Investors</th>\n",
       "      <th>Year Joined</th>\n",
       "      <th>years_till_unicorn</th>\n",
       "      <th>valuation_billions</th>\n",
       "    </tr>\n",
       "  </thead>\n",
       "  <tbody>\n",
       "    <tr>\n",
       "      <th>542</th>\n",
       "      <td>Aiven</td>\n",
       "      <td>$2B</td>\n",
       "      <td>2021-10-18</td>\n",
       "      <td>Internet software &amp; services</td>\n",
       "      <td>Helsinki</td>\n",
       "      <td>Finland</td>\n",
       "      <td>Europe</td>\n",
       "      <td>2016</td>\n",
       "      <td>$210M</td>\n",
       "      <td>Institutional Venture Partners, Atomico, Early...</td>\n",
       "      <td>2021</td>\n",
       "      <td>5</td>\n",
       "      <td>2</td>\n",
       "    </tr>\n",
       "    <tr>\n",
       "      <th>370</th>\n",
       "      <td>Jusfoun Big Data</td>\n",
       "      <td>$2B</td>\n",
       "      <td>2018-07-09</td>\n",
       "      <td>Data management &amp; analytics</td>\n",
       "      <td>Beijing</td>\n",
       "      <td>China</td>\n",
       "      <td>Asia</td>\n",
       "      <td>2010</td>\n",
       "      <td>$137M</td>\n",
       "      <td>Boxin Capital, DT Capital Partners, IDG Capital</td>\n",
       "      <td>2018</td>\n",
       "      <td>8</td>\n",
       "      <td>2</td>\n",
       "    </tr>\n",
       "    <tr>\n",
       "      <th>307</th>\n",
       "      <td>Innovaccer</td>\n",
       "      <td>$3B</td>\n",
       "      <td>2021-02-19</td>\n",
       "      <td>Health</td>\n",
       "      <td>San Francisco</td>\n",
       "      <td>United States</td>\n",
       "      <td>North America</td>\n",
       "      <td>2014</td>\n",
       "      <td>$379M</td>\n",
       "      <td>M12, WestBridge Capital, Lightspeed Venture Pa...</td>\n",
       "      <td>2021</td>\n",
       "      <td>7</td>\n",
       "      <td>3</td>\n",
       "    </tr>\n",
       "    <tr>\n",
       "      <th>493</th>\n",
       "      <td>Algolia</td>\n",
       "      <td>$2B</td>\n",
       "      <td>2021-07-28</td>\n",
       "      <td>Internet software &amp; services</td>\n",
       "      <td>San Francisco</td>\n",
       "      <td>United States</td>\n",
       "      <td>North America</td>\n",
       "      <td>2012</td>\n",
       "      <td>$334M</td>\n",
       "      <td>Accel, Alven Capital, Storm Ventures</td>\n",
       "      <td>2021</td>\n",
       "      <td>9</td>\n",
       "      <td>2</td>\n",
       "    </tr>\n",
       "    <tr>\n",
       "      <th>350</th>\n",
       "      <td>SouChe Holdings</td>\n",
       "      <td>$3B</td>\n",
       "      <td>2017-11-01</td>\n",
       "      <td>E-commerce &amp; direct-to-consumer</td>\n",
       "      <td>Hangzhou</td>\n",
       "      <td>China</td>\n",
       "      <td>Asia</td>\n",
       "      <td>2012</td>\n",
       "      <td>$1B</td>\n",
       "      <td>Morningside Ventures, Warburg Pincus, CreditEa...</td>\n",
       "      <td>2017</td>\n",
       "      <td>5</td>\n",
       "      <td>3</td>\n",
       "    </tr>\n",
       "  </tbody>\n",
       "</table>\n",
       "</div>"
      ],
      "text/plain": [
       "              Company Valuation Date Joined                         Industry  \\\n",
       "542             Aiven       $2B  2021-10-18     Internet software & services   \n",
       "370  Jusfoun Big Data       $2B  2018-07-09      Data management & analytics   \n",
       "307        Innovaccer       $3B  2021-02-19                           Health   \n",
       "493           Algolia       $2B  2021-07-28     Internet software & services   \n",
       "350   SouChe Holdings       $3B  2017-11-01  E-commerce & direct-to-consumer   \n",
       "\n",
       "              City        Country      Continent  Year Founded Funding  \\\n",
       "542       Helsinki        Finland         Europe          2016   $210M   \n",
       "370        Beijing          China           Asia          2010   $137M   \n",
       "307  San Francisco  United States  North America          2014   $379M   \n",
       "493  San Francisco  United States  North America          2012   $334M   \n",
       "350       Hangzhou          China           Asia          2012     $1B   \n",
       "\n",
       "                                      Select Investors  Year Joined  \\\n",
       "542  Institutional Venture Partners, Atomico, Early...         2021   \n",
       "370    Boxin Capital, DT Capital Partners, IDG Capital         2018   \n",
       "307  M12, WestBridge Capital, Lightspeed Venture Pa...         2021   \n",
       "493               Accel, Alven Capital, Storm Ventures         2021   \n",
       "350  Morningside Ventures, Warburg Pincus, CreditEa...         2017   \n",
       "\n",
       "     years_till_unicorn  valuation_billions  \n",
       "542                   5                   2  \n",
       "370                   8                   2  \n",
       "307                   7                   3  \n",
       "493                   9                   2  \n",
       "350                   5                   3  "
      ]
     },
     "execution_count": 15,
     "metadata": {},
     "output_type": "execute_result"
    }
   ],
   "source": [
    "# Create a column representing company valuation as numeric data\n",
    "\n",
    "# Create new column\n",
    "companies_sample['valuation_billions'] = companies_sample['Valuation']\n",
    "# Remove the '$' from each value\n",
    "companies_sample['valuation_billions'] = companies_sample['valuation_billions'].str.replace('$', '')\n",
    "# Remove the 'B' from each value\n",
    "companies_sample['valuation_billions'] = companies_sample['valuation_billions'].str.replace('B', '')\n",
    "# Convert column to type int\n",
    "companies_sample['valuation_billions'] = companies_sample['valuation_billions'].astype('int')\n",
    "companies_sample.head()"
   ]
  },
  {
   "cell_type": "markdown",
   "id": "53aefb35",
   "metadata": {
    "papermill": {
     "duration": 0.022279,
     "end_time": "2024-01-10T18:26:32.955886",
     "exception": false,
     "start_time": "2024-01-10T18:26:32.933607",
     "status": "completed"
    },
    "tags": []
   },
   "source": [
    "### Now, prepare the data for modeling by performing the necessary calculations on it."
   ]
  },
  {
   "cell_type": "code",
   "execution_count": 16,
   "id": "98bb0216",
   "metadata": {
    "execution": {
     "iopub.execute_input": "2024-01-10T18:26:33.003544Z",
     "iopub.status.busy": "2024-01-10T18:26:33.002558Z",
     "iopub.status.idle": "2024-01-10T18:26:33.012458Z",
     "shell.execute_reply": "2024-01-10T18:26:33.011652Z"
    },
    "papermill": {
     "duration": 0.035927,
     "end_time": "2024-01-10T18:26:33.014520",
     "exception": false,
     "start_time": "2024-01-10T18:26:32.978593",
     "status": "completed"
    },
    "tags": []
   },
   "outputs": [
    {
     "data": {
      "text/html": [
       "<div>\n",
       "<style scoped>\n",
       "    .dataframe tbody tr th:only-of-type {\n",
       "        vertical-align: middle;\n",
       "    }\n",
       "\n",
       "    .dataframe tbody tr th {\n",
       "        vertical-align: top;\n",
       "    }\n",
       "\n",
       "    .dataframe thead th {\n",
       "        text-align: right;\n",
       "    }\n",
       "</style>\n",
       "<table border=\"1\" class=\"dataframe\">\n",
       "  <thead>\n",
       "    <tr style=\"text-align: right;\">\n",
       "      <th></th>\n",
       "      <th>valuation_billions</th>\n",
       "    </tr>\n",
       "    <tr>\n",
       "      <th>Industry</th>\n",
       "      <th></th>\n",
       "    </tr>\n",
       "  </thead>\n",
       "  <tbody>\n",
       "    <tr>\n",
       "      <th>Auto &amp; transportation</th>\n",
       "      <td>1</td>\n",
       "    </tr>\n",
       "    <tr>\n",
       "      <th>Consumer &amp; retail</th>\n",
       "      <td>1</td>\n",
       "    </tr>\n",
       "    <tr>\n",
       "      <th>Other</th>\n",
       "      <td>2</td>\n",
       "    </tr>\n",
       "    <tr>\n",
       "      <th>Supply chain, logistics, &amp; delivery</th>\n",
       "      <td>2</td>\n",
       "    </tr>\n",
       "    <tr>\n",
       "      <th>Cybersecurity</th>\n",
       "      <td>3</td>\n",
       "    </tr>\n",
       "    <tr>\n",
       "      <th>Health</th>\n",
       "      <td>3</td>\n",
       "    </tr>\n",
       "    <tr>\n",
       "      <th>Data management &amp; analytics</th>\n",
       "      <td>4</td>\n",
       "    </tr>\n",
       "    <tr>\n",
       "      <th>E-commerce &amp; direct-to-consumer</th>\n",
       "      <td>4</td>\n",
       "    </tr>\n",
       "    <tr>\n",
       "      <th>Internet software &amp; services</th>\n",
       "      <td>5</td>\n",
       "    </tr>\n",
       "    <tr>\n",
       "      <th>Mobile &amp; telecommunications</th>\n",
       "      <td>7</td>\n",
       "    </tr>\n",
       "    <tr>\n",
       "      <th>Fintech</th>\n",
       "      <td>10</td>\n",
       "    </tr>\n",
       "    <tr>\n",
       "      <th>Artificial intelligence</th>\n",
       "      <td>12</td>\n",
       "    </tr>\n",
       "  </tbody>\n",
       "</table>\n",
       "</div>"
      ],
      "text/plain": [
       "                                     valuation_billions\n",
       "Industry                                               \n",
       "Auto & transportation                                 1\n",
       "Consumer & retail                                     1\n",
       "Other                                                 2\n",
       "Supply chain, logistics, & delivery                   2\n",
       "Cybersecurity                                         3\n",
       "Health                                                3\n",
       "Data management & analytics                           4\n",
       "E-commerce & direct-to-consumer                       4\n",
       "Internet software & services                          5\n",
       "Mobile & telecommunications                           7\n",
       "Fintech                                              10\n",
       "Artificial intelligence                              12"
      ]
     },
     "execution_count": 16,
     "metadata": {},
     "output_type": "execute_result"
    }
   ],
   "source": [
    "# Prepare data for modeling\n",
    "grouped = (companies_sample[[\"Industry\", \"valuation_billions\"]]\n",
    "           .groupby(\"Industry\")\n",
    "           .max()\n",
    "           .sort_values(by=\"valuation_billions\")\n",
    "          )\n",
    "grouped"
   ]
  },
  {
   "cell_type": "code",
   "execution_count": 17,
   "id": "33d71ee4",
   "metadata": {
    "execution": {
     "iopub.execute_input": "2024-01-10T18:26:33.061585Z",
     "iopub.status.busy": "2024-01-10T18:26:33.060996Z",
     "iopub.status.idle": "2024-01-10T18:26:33.298286Z",
     "shell.execute_reply": "2024-01-10T18:26:33.297550Z"
    },
    "papermill": {
     "duration": 0.262623,
     "end_time": "2024-01-10T18:26:33.299799",
     "exception": false,
     "start_time": "2024-01-10T18:26:33.037176",
     "status": "completed"
    },
    "tags": []
   },
   "outputs": [
    {
     "data": {
      "image/png": "[encoded data removed]",
      "text/plain": [
       "<Figure size 640x480 with 1 Axes>"
      ]
     },
     "metadata": {},
     "output_type": "display_data"
    }
   ],
   "source": [
    "# Create bar plot\n",
    "# with Industry column as the categories of the bars\n",
    "# and new valuation column as the heights of the bars\n",
    "\n",
    "### YOUR CODE HERE ###\n",
    "\n",
    "plt.bar(grouped.index, grouped[\"valuation_billions\"])\n",
    "\n",
    "# Set title\n",
    "\n",
    "plt.title(\"Bar plot of maximum unicorn company valuation per industry (from sample)\")\n",
    "\n",
    "# Set x-axis label\n",
    "\n",
    "plt.xlabel(\"Industry\")\n",
    "\n",
    "# Set y-axis label\n",
    "\n",
    "plt.ylabel(\"Maximum valuation in billions of dollars\")\n",
    "\n",
    "# Rotate labels on the x-axis as a way to avoid overlap in the positions of the text  \n",
    "\n",
    "plt.xticks(rotation=45, horizontalalignment='right')\n",
    "\n",
    "# Display the plot\n",
    "\n",
    "plt.show()"
   ]
  },
  {
   "cell_type": "markdown",
   "id": "0a65a080",
   "metadata": {
    "papermill": {
     "duration": 0.021723,
     "end_time": "2024-01-10T18:26:33.344094",
     "exception": false,
     "start_time": "2024-01-10T18:26:33.322371",
     "status": "completed"
    },
    "tags": []
   },
   "source": [
    "**Question:** What do you observe from this bar plot? \n",
    "\n",
    "- This bar plot shows that for this sample of unicorn companies, the highest maximum valuation occurred in the Artificial Intelligence industry, while the lowest maximum valuation occurred in the Auto & transportation, and Consumer & retail industries."
   ]
  },
  {
   "cell_type": "markdown",
   "id": "1bb6c7a9",
   "metadata": {
    "papermill": {
     "duration": 0.021737,
     "end_time": "2024-01-10T18:26:33.387689",
     "exception": false,
     "start_time": "2024-01-10T18:26:33.365952",
     "status": "completed"
    },
    "tags": []
   },
   "source": [
    "\n",
    "**What findings would you share with others?**\n",
    "\n",
    "- There are 1074 unicorn companies represented in this dataset.\n",
    "- Some companies took longer to reach unicorn status but have accrued high valuation as of March 2022. Companies could take longer to achieve unicorn status for a number of reasons, including requiring more funding or taking longer to develop a business model. \n",
    "\n",
    "**What recommendations would you share with stakeholders based on these findings?**\n",
    "\n",
    "It may be helpful to focus more on industry specifics. Next steps to consider:\n",
    "- Identify the main industries that the investing firm is interested in investing in. \n",
    "- Select a subset of this data that includes only companies in those industries. \n",
    "- Analyze that subset more closely. Determine which companies have higher valuation but do not have as many investors currently. They may be good candidates to consider investing in. "
   ]
  },
  {
   "cell_type": "markdown",
   "id": "93fabce6",
   "metadata": {
    "papermill": {
     "duration": 0.02175,
     "end_time": "2024-01-10T18:26:33.431190",
     "exception": false,
     "start_time": "2024-01-10T18:26:33.409440",
     "status": "completed"
    },
    "tags": []
   },
   "source": [
    "## Introduction\n",
    "The investor has asked you to provide them with the following data: \n",
    "- Companies in the `hardware` industry based in `Beijing`, `San Francisco`, and `London` \n",
    "- Companies in the `artificial intelligence` industry based in `London`\n",
    "-  A list of the top 20 countries sorted by sum of company valuations in each country, excluding `United States`, `China`, `India`, and `United Kingdom`\n",
    "- A global valuation map of all countries except `United States`, `China`, `India`, and `United Kingdom`\n",
    "\n",
    "Your dataset includes a list of businesses and data points, such as the year they were founded; their industry; and their city, country, and continent. "
   ]
  },
  {
   "cell_type": "code",
   "execution_count": 18,
   "id": "99e03523",
   "metadata": {
    "execution": {
     "iopub.execute_input": "2024-01-10T18:26:33.479906Z",
     "iopub.status.busy": "2024-01-10T18:26:33.479090Z",
     "iopub.status.idle": "2024-01-10T18:26:35.073211Z",
     "shell.execute_reply": "2024-01-10T18:26:35.072333Z"
    },
    "papermill": {
     "duration": 1.621257,
     "end_time": "2024-01-10T18:26:35.075344",
     "exception": false,
     "start_time": "2024-01-10T18:26:33.454087",
     "status": "completed"
    },
    "tags": []
   },
   "outputs": [],
   "source": [
    "import plotly.express as px\n",
    "import seaborn as sns"
   ]
  },
  {
   "cell_type": "code",
   "execution_count": 19,
   "id": "c9f9c004",
   "metadata": {
    "execution": {
     "iopub.execute_input": "2024-01-10T18:26:35.124535Z",
     "iopub.status.busy": "2024-01-10T18:26:35.124058Z",
     "iopub.status.idle": "2024-01-10T18:26:35.128549Z",
     "shell.execute_reply": "2024-01-10T18:26:35.127471Z"
    },
    "papermill": {
     "duration": 0.03101,
     "end_time": "2024-01-10T18:26:35.130246",
     "exception": false,
     "start_time": "2024-01-10T18:26:35.099236",
     "status": "completed"
    },
    "tags": []
   },
   "outputs": [],
   "source": [
    "# Define the `str_to_num()` function\n",
    "\n",
    "\n",
    "def str_to_num(x):\n",
    "    x = x.strip('$B')\n",
    "    x = int(x)\n",
    "\n",
    "    return x"
   ]
  },
  {
   "cell_type": "markdown",
   "id": "63b44ca9",
   "metadata": {
    "papermill": {
     "duration": 0.022922,
     "end_time": "2024-01-10T18:26:35.176491",
     "exception": false,
     "start_time": "2024-01-10T18:26:35.153569",
     "status": "completed"
    },
    "tags": []
   },
   "source": [
    "Notice that the function passed as an argument to the `apply()` method does not have parentheses. It's just the function name."
   ]
  },
  {
   "cell_type": "code",
   "execution_count": 20,
   "id": "026a6521",
   "metadata": {
    "execution": {
     "iopub.execute_input": "2024-01-10T18:26:35.224762Z",
     "iopub.status.busy": "2024-01-10T18:26:35.224465Z",
     "iopub.status.idle": "2024-01-10T18:26:35.234551Z",
     "shell.execute_reply": "2024-01-10T18:26:35.233679Z"
    },
    "papermill": {
     "duration": 0.03618,
     "end_time": "2024-01-10T18:26:35.236170",
     "exception": false,
     "start_time": "2024-01-10T18:26:35.199990",
     "status": "completed"
    },
    "tags": []
   },
   "outputs": [
    {
     "data": {
      "text/html": [
       "<div>\n",
       "<style scoped>\n",
       "    .dataframe tbody tr th:only-of-type {\n",
       "        vertical-align: middle;\n",
       "    }\n",
       "\n",
       "    .dataframe tbody tr th {\n",
       "        vertical-align: top;\n",
       "    }\n",
       "\n",
       "    .dataframe thead th {\n",
       "        text-align: right;\n",
       "    }\n",
       "</style>\n",
       "<table border=\"1\" class=\"dataframe\">\n",
       "  <thead>\n",
       "    <tr style=\"text-align: right;\">\n",
       "      <th></th>\n",
       "      <th>Valuation</th>\n",
       "      <th>valuation_billions</th>\n",
       "    </tr>\n",
       "  </thead>\n",
       "  <tbody>\n",
       "    <tr>\n",
       "      <th>0</th>\n",
       "      <td>$180B</td>\n",
       "      <td>180</td>\n",
       "    </tr>\n",
       "    <tr>\n",
       "      <th>1</th>\n",
       "      <td>$100B</td>\n",
       "      <td>100</td>\n",
       "    </tr>\n",
       "    <tr>\n",
       "      <th>2</th>\n",
       "      <td>$100B</td>\n",
       "      <td>100</td>\n",
       "    </tr>\n",
       "    <tr>\n",
       "      <th>3</th>\n",
       "      <td>$95B</td>\n",
       "      <td>95</td>\n",
       "    </tr>\n",
       "    <tr>\n",
       "      <th>4</th>\n",
       "      <td>$46B</td>\n",
       "      <td>46</td>\n",
       "    </tr>\n",
       "  </tbody>\n",
       "</table>\n",
       "</div>"
      ],
      "text/plain": [
       "  Valuation  valuation_billions\n",
       "0     $180B                 180\n",
       "1     $100B                 100\n",
       "2     $100B                 100\n",
       "3      $95B                  95\n",
       "4      $46B                  46"
      ]
     },
     "execution_count": 20,
     "metadata": {},
     "output_type": "execute_result"
    }
   ],
   "source": [
    "# Apply the `str_to_num()` function to the `Valuation` column\n",
    "# and assign the result back to a new column called `valuation_num`\n",
    "\n",
    "companies['valuation_billions'] = companies['Valuation'].apply(str_to_num)\n",
    "companies[['Valuation', 'valuation_billions']].head()"
   ]
  },
  {
   "cell_type": "markdown",
   "id": "2b00613e",
   "metadata": {
    "papermill": {
     "duration": 0.023353,
     "end_time": "2024-01-10T18:26:35.283055",
     "exception": false,
     "start_time": "2024-01-10T18:26:35.259702",
     "status": "completed"
    },
    "tags": []
   },
   "source": [
    "### Find missing values"
   ]
  },
  {
   "cell_type": "markdown",
   "id": "5eb71060",
   "metadata": {
    "papermill": {
     "duration": 0.024524,
     "end_time": "2024-01-10T18:26:35.331110",
     "exception": false,
     "start_time": "2024-01-10T18:26:35.306586",
     "status": "completed"
    },
    "tags": []
   },
   "source": [
    "The unicorn companies dataset is fairly clean, with few missing values. "
   ]
  },
  {
   "cell_type": "code",
   "execution_count": 21,
   "id": "07ce24fe",
   "metadata": {
    "execution": {
     "iopub.execute_input": "2024-01-10T18:26:35.379892Z",
     "iopub.status.busy": "2024-01-10T18:26:35.379594Z",
     "iopub.status.idle": "2024-01-10T18:26:35.387373Z",
     "shell.execute_reply": "2024-01-10T18:26:35.386655Z"
    },
    "papermill": {
     "duration": 0.034158,
     "end_time": "2024-01-10T18:26:35.389045",
     "exception": false,
     "start_time": "2024-01-10T18:26:35.354887",
     "status": "completed"
    },
    "tags": []
   },
   "outputs": [
    {
     "data": {
      "text/plain": [
       "Company                0\n",
       "Valuation              0\n",
       "Date Joined            0\n",
       "Industry               0\n",
       "City                  16\n",
       "Country                0\n",
       "Continent              0\n",
       "Year Founded           0\n",
       "Funding                0\n",
       "Select Investors       1\n",
       "Year Joined            0\n",
       "valuation_billions     0\n",
       "dtype: int64"
      ]
     },
     "execution_count": 21,
     "metadata": {},
     "output_type": "execute_result"
    }
   ],
   "source": [
    "# Find the number of missing values in each column in this dataset.\n",
    "\n",
    "companies.isna().sum()"
   ]
  },
  {
   "cell_type": "markdown",
   "id": "fd18f814",
   "metadata": {
    "papermill": {
     "duration": 0.023484,
     "end_time": "2024-01-10T18:26:35.436265",
     "exception": false,
     "start_time": "2024-01-10T18:26:35.412781",
     "status": "completed"
    },
    "tags": []
   },
   "source": [
    "**Question: How many missing values are in each column in the dataset?**\n",
    "- There is a single missing value in the `Select Investors` column and 16 missing cities. There are no missing values in other columns. "
   ]
  },
  {
   "cell_type": "markdown",
   "id": "49dece6f",
   "metadata": {
    "papermill": {
     "duration": 0.023044,
     "end_time": "2024-01-10T18:26:35.482383",
     "exception": false,
     "start_time": "2024-01-10T18:26:35.459339",
     "status": "completed"
    },
    "tags": []
   },
   "source": [
    "### Review rows with missing values"
   ]
  },
  {
   "cell_type": "markdown",
   "id": "85e930b9",
   "metadata": {
    "papermill": {
     "duration": 0.02322,
     "end_time": "2024-01-10T18:26:35.529275",
     "exception": false,
     "start_time": "2024-01-10T18:26:35.506055",
     "status": "completed"
    },
    "tags": []
   },
   "source": [
    "Before dealing with missing values, it's important to understand the nature of the missing value that is being filled. Display all rows with missing values from `df_companies`. To do this, perform the following three steps:\n",
    "\n",
    "1. Apply the `isna()` method to the `df_companies` dataframe as you did in the last step. Remember, this results in a dataframe of the same shape as `df_companies` where each value is `True` if its contents are `NaN` and a `False` if its contents are not `NaN`. Assign the results to a variable called `mask`."
   ]
  },
  {
   "cell_type": "code",
   "execution_count": 22,
   "id": "141d0976",
   "metadata": {
    "execution": {
     "iopub.execute_input": "2024-01-10T18:26:35.578603Z",
     "iopub.status.busy": "2024-01-10T18:26:35.577726Z",
     "iopub.status.idle": "2024-01-10T18:26:35.590524Z",
     "shell.execute_reply": "2024-01-10T18:26:35.589793Z"
    },
    "papermill": {
     "duration": 0.039123,
     "end_time": "2024-01-10T18:26:35.592036",
     "exception": false,
     "start_time": "2024-01-10T18:26:35.552913",
     "status": "completed"
    },
    "tags": []
   },
   "outputs": [
    {
     "data": {
      "text/html": [
       "<div>\n",
       "<style scoped>\n",
       "    .dataframe tbody tr th:only-of-type {\n",
       "        vertical-align: middle;\n",
       "    }\n",
       "\n",
       "    .dataframe tbody tr th {\n",
       "        vertical-align: top;\n",
       "    }\n",
       "\n",
       "    .dataframe thead th {\n",
       "        text-align: right;\n",
       "    }\n",
       "</style>\n",
       "<table border=\"1\" class=\"dataframe\">\n",
       "  <thead>\n",
       "    <tr style=\"text-align: right;\">\n",
       "      <th></th>\n",
       "      <th>Company</th>\n",
       "      <th>Valuation</th>\n",
       "      <th>Date Joined</th>\n",
       "      <th>Industry</th>\n",
       "      <th>City</th>\n",
       "      <th>Country</th>\n",
       "      <th>Continent</th>\n",
       "      <th>Year Founded</th>\n",
       "      <th>Funding</th>\n",
       "      <th>Select Investors</th>\n",
       "      <th>Year Joined</th>\n",
       "      <th>valuation_billions</th>\n",
       "    </tr>\n",
       "  </thead>\n",
       "  <tbody>\n",
       "    <tr>\n",
       "      <th>1069</th>\n",
       "      <td>False</td>\n",
       "      <td>False</td>\n",
       "      <td>False</td>\n",
       "      <td>False</td>\n",
       "      <td>False</td>\n",
       "      <td>False</td>\n",
       "      <td>False</td>\n",
       "      <td>False</td>\n",
       "      <td>False</td>\n",
       "      <td>False</td>\n",
       "      <td>False</td>\n",
       "      <td>False</td>\n",
       "    </tr>\n",
       "    <tr>\n",
       "      <th>1070</th>\n",
       "      <td>False</td>\n",
       "      <td>False</td>\n",
       "      <td>False</td>\n",
       "      <td>False</td>\n",
       "      <td>False</td>\n",
       "      <td>False</td>\n",
       "      <td>False</td>\n",
       "      <td>False</td>\n",
       "      <td>False</td>\n",
       "      <td>False</td>\n",
       "      <td>False</td>\n",
       "      <td>False</td>\n",
       "    </tr>\n",
       "    <tr>\n",
       "      <th>1071</th>\n",
       "      <td>False</td>\n",
       "      <td>False</td>\n",
       "      <td>False</td>\n",
       "      <td>False</td>\n",
       "      <td>False</td>\n",
       "      <td>False</td>\n",
       "      <td>False</td>\n",
       "      <td>False</td>\n",
       "      <td>False</td>\n",
       "      <td>False</td>\n",
       "      <td>False</td>\n",
       "      <td>False</td>\n",
       "    </tr>\n",
       "    <tr>\n",
       "      <th>1072</th>\n",
       "      <td>False</td>\n",
       "      <td>False</td>\n",
       "      <td>False</td>\n",
       "      <td>False</td>\n",
       "      <td>False</td>\n",
       "      <td>False</td>\n",
       "      <td>False</td>\n",
       "      <td>False</td>\n",
       "      <td>False</td>\n",
       "      <td>False</td>\n",
       "      <td>False</td>\n",
       "      <td>False</td>\n",
       "    </tr>\n",
       "    <tr>\n",
       "      <th>1073</th>\n",
       "      <td>False</td>\n",
       "      <td>False</td>\n",
       "      <td>False</td>\n",
       "      <td>False</td>\n",
       "      <td>False</td>\n",
       "      <td>False</td>\n",
       "      <td>False</td>\n",
       "      <td>False</td>\n",
       "      <td>False</td>\n",
       "      <td>False</td>\n",
       "      <td>False</td>\n",
       "      <td>False</td>\n",
       "    </tr>\n",
       "  </tbody>\n",
       "</table>\n",
       "</div>"
      ],
      "text/plain": [
       "      Company  Valuation  Date Joined  Industry   City  Country  Continent  \\\n",
       "1069    False      False        False     False  False    False      False   \n",
       "1070    False      False        False     False  False    False      False   \n",
       "1071    False      False        False     False  False    False      False   \n",
       "1072    False      False        False     False  False    False      False   \n",
       "1073    False      False        False     False  False    False      False   \n",
       "\n",
       "      Year Founded  Funding  Select Investors  Year Joined  valuation_billions  \n",
       "1069         False    False             False        False               False  \n",
       "1070         False    False             False        False               False  \n",
       "1071         False    False             False        False               False  \n",
       "1072         False    False             False        False               False  \n",
       "1073         False    False             False        False               False  "
      ]
     },
     "execution_count": 22,
     "metadata": {},
     "output_type": "execute_result"
    }
   ],
   "source": [
    "# 1. Apply the `isna()` method to the `companies` dataframe and assign back to `mask`\n",
    "mask = companies.isna()\n",
    "mask.tail()"
   ]
  },
  {
   "cell_type": "code",
   "execution_count": 23,
   "id": "01afa599",
   "metadata": {
    "execution": {
     "iopub.execute_input": "2024-01-10T18:26:35.640114Z",
     "iopub.status.busy": "2024-01-10T18:26:35.639543Z",
     "iopub.status.idle": "2024-01-10T18:26:35.645331Z",
     "shell.execute_reply": "2024-01-10T18:26:35.644783Z"
    },
    "papermill": {
     "duration": 0.031366,
     "end_time": "2024-01-10T18:26:35.646699",
     "exception": false,
     "start_time": "2024-01-10T18:26:35.615333",
     "status": "completed"
    },
    "tags": []
   },
   "outputs": [
    {
     "data": {
      "text/plain": [
       "0    False\n",
       "1    False\n",
       "2    False\n",
       "3    False\n",
       "4    False\n",
       "dtype: bool"
      ]
     },
     "execution_count": 23,
     "metadata": {},
     "output_type": "execute_result"
    }
   ],
   "source": [
    "# 2. Apply the `any()` method to `mask` and assign the results back to `mask`\n",
    "\n",
    "mask = mask.any(axis=1)\n",
    "mask.head()"
   ]
  },
  {
   "cell_type": "markdown",
   "id": "b363a2cf",
   "metadata": {
    "papermill": {
     "duration": 0.023524,
     "end_time": "2024-01-10T18:26:35.693807",
     "exception": false,
     "start_time": "2024-01-10T18:26:35.670283",
     "status": "completed"
    },
    "tags": []
   },
   "source": [
    "3. Because `mask` is now a series of Boolean values, you can use it as a Boolean mask. Apply the Boolean mask to the `companies` dataframe to return a filtered dataframe containing just the rows that contain a missing value. Assign the results to a variable called `missing_rows`."
   ]
  },
  {
   "cell_type": "code",
   "execution_count": 24,
   "id": "6864a980",
   "metadata": {
    "execution": {
     "iopub.execute_input": "2024-01-10T18:26:35.744022Z",
     "iopub.status.busy": "2024-01-10T18:26:35.743447Z",
     "iopub.status.idle": "2024-01-10T18:26:35.759632Z",
     "shell.execute_reply": "2024-01-10T18:26:35.758786Z"
    },
    "papermill": {
     "duration": 0.043556,
     "end_time": "2024-01-10T18:26:35.761390",
     "exception": false,
     "start_time": "2024-01-10T18:26:35.717834",
     "status": "completed"
    },
    "tags": []
   },
   "outputs": [
    {
     "data": {
      "text/html": [
       "<div>\n",
       "<style scoped>\n",
       "    .dataframe tbody tr th:only-of-type {\n",
       "        vertical-align: middle;\n",
       "    }\n",
       "\n",
       "    .dataframe tbody tr th {\n",
       "        vertical-align: top;\n",
       "    }\n",
       "\n",
       "    .dataframe thead th {\n",
       "        text-align: right;\n",
       "    }\n",
       "</style>\n",
       "<table border=\"1\" class=\"dataframe\">\n",
       "  <thead>\n",
       "    <tr style=\"text-align: right;\">\n",
       "      <th></th>\n",
       "      <th>Company</th>\n",
       "      <th>Valuation</th>\n",
       "      <th>Date Joined</th>\n",
       "      <th>Industry</th>\n",
       "      <th>City</th>\n",
       "      <th>Country</th>\n",
       "      <th>Continent</th>\n",
       "      <th>Year Founded</th>\n",
       "      <th>Funding</th>\n",
       "      <th>Select Investors</th>\n",
       "      <th>Year Joined</th>\n",
       "      <th>valuation_billions</th>\n",
       "    </tr>\n",
       "  </thead>\n",
       "  <tbody>\n",
       "    <tr>\n",
       "      <th>12</th>\n",
       "      <td>FTX</td>\n",
       "      <td>$32B</td>\n",
       "      <td>2021-07-20</td>\n",
       "      <td>Fintech</td>\n",
       "      <td>NaN</td>\n",
       "      <td>Bahamas</td>\n",
       "      <td>North America</td>\n",
       "      <td>2018</td>\n",
       "      <td>$2B</td>\n",
       "      <td>Sequoia Capital, Thoma Bravo, Softbank</td>\n",
       "      <td>2021</td>\n",
       "      <td>32</td>\n",
       "    </tr>\n",
       "    <tr>\n",
       "      <th>170</th>\n",
       "      <td>HyalRoute</td>\n",
       "      <td>$4B</td>\n",
       "      <td>2020-05-26</td>\n",
       "      <td>Mobile &amp; telecommunications</td>\n",
       "      <td>NaN</td>\n",
       "      <td>Singapore</td>\n",
       "      <td>Asia</td>\n",
       "      <td>2015</td>\n",
       "      <td>$263M</td>\n",
       "      <td>Kuang-Chi</td>\n",
       "      <td>2020</td>\n",
       "      <td>4</td>\n",
       "    </tr>\n",
       "    <tr>\n",
       "      <th>242</th>\n",
       "      <td>Moglix</td>\n",
       "      <td>$3B</td>\n",
       "      <td>2021-05-17</td>\n",
       "      <td>E-commerce &amp; direct-to-consumer</td>\n",
       "      <td>NaN</td>\n",
       "      <td>Singapore</td>\n",
       "      <td>Asia</td>\n",
       "      <td>2015</td>\n",
       "      <td>$471M</td>\n",
       "      <td>Jungle Ventures, Accel, Venture Highway</td>\n",
       "      <td>2021</td>\n",
       "      <td>3</td>\n",
       "    </tr>\n",
       "    <tr>\n",
       "      <th>251</th>\n",
       "      <td>Trax</td>\n",
       "      <td>$3B</td>\n",
       "      <td>2019-07-22</td>\n",
       "      <td>Artificial intelligence</td>\n",
       "      <td>NaN</td>\n",
       "      <td>Singapore</td>\n",
       "      <td>Asia</td>\n",
       "      <td>2010</td>\n",
       "      <td>$1B</td>\n",
       "      <td>Hopu Investment Management, Boyu Capital, DC T...</td>\n",
       "      <td>2019</td>\n",
       "      <td>3</td>\n",
       "    </tr>\n",
       "    <tr>\n",
       "      <th>325</th>\n",
       "      <td>Amber Group</td>\n",
       "      <td>$3B</td>\n",
       "      <td>2021-06-21</td>\n",
       "      <td>Fintech</td>\n",
       "      <td>NaN</td>\n",
       "      <td>Hong Kong</td>\n",
       "      <td>Asia</td>\n",
       "      <td>2015</td>\n",
       "      <td>$328M</td>\n",
       "      <td>Tiger Global Management, Tiger Brokers, DCM Ve...</td>\n",
       "      <td>2021</td>\n",
       "      <td>3</td>\n",
       "    </tr>\n",
       "    <tr>\n",
       "      <th>382</th>\n",
       "      <td>Ninja Van</td>\n",
       "      <td>$2B</td>\n",
       "      <td>2021-09-27</td>\n",
       "      <td>Supply chain, logistics, &amp; delivery</td>\n",
       "      <td>NaN</td>\n",
       "      <td>Singapore</td>\n",
       "      <td>Asia</td>\n",
       "      <td>2014</td>\n",
       "      <td>$975M</td>\n",
       "      <td>B Capital Group, Monk's Hill Ventures, Dynamic...</td>\n",
       "      <td>2021</td>\n",
       "      <td>2</td>\n",
       "    </tr>\n",
       "    <tr>\n",
       "      <th>541</th>\n",
       "      <td>Advance Intelligence Group</td>\n",
       "      <td>$2B</td>\n",
       "      <td>2021-09-23</td>\n",
       "      <td>Artificial intelligence</td>\n",
       "      <td>NaN</td>\n",
       "      <td>Singapore</td>\n",
       "      <td>Asia</td>\n",
       "      <td>2016</td>\n",
       "      <td>$536M</td>\n",
       "      <td>Vision Plus Capital, GSR Ventures, ZhenFund</td>\n",
       "      <td>2021</td>\n",
       "      <td>2</td>\n",
       "    </tr>\n",
       "    <tr>\n",
       "      <th>629</th>\n",
       "      <td>LinkSure Network</td>\n",
       "      <td>$1B</td>\n",
       "      <td>2015-01-01</td>\n",
       "      <td>Mobile &amp; telecommunications</td>\n",
       "      <td>Shanghai</td>\n",
       "      <td>China</td>\n",
       "      <td>Asia</td>\n",
       "      <td>2013</td>\n",
       "      <td>$52M</td>\n",
       "      <td>NaN</td>\n",
       "      <td>2015</td>\n",
       "      <td>1</td>\n",
       "    </tr>\n",
       "    <tr>\n",
       "      <th>811</th>\n",
       "      <td>Carousell</td>\n",
       "      <td>$1B</td>\n",
       "      <td>2021-09-15</td>\n",
       "      <td>E-commerce &amp; direct-to-consumer</td>\n",
       "      <td>NaN</td>\n",
       "      <td>Singapore</td>\n",
       "      <td>Asia</td>\n",
       "      <td>2012</td>\n",
       "      <td>$288M</td>\n",
       "      <td>500 Global, Rakuten Ventures, Golden Gate Vent...</td>\n",
       "      <td>2021</td>\n",
       "      <td>1</td>\n",
       "    </tr>\n",
       "    <tr>\n",
       "      <th>848</th>\n",
       "      <td>Matrixport</td>\n",
       "      <td>$1B</td>\n",
       "      <td>2021-06-01</td>\n",
       "      <td>Fintech</td>\n",
       "      <td>NaN</td>\n",
       "      <td>Singapore</td>\n",
       "      <td>Asia</td>\n",
       "      <td>2019</td>\n",
       "      <td>$100M</td>\n",
       "      <td>Dragonfly Captial, Qiming Venture Partners, DS...</td>\n",
       "      <td>2021</td>\n",
       "      <td>1</td>\n",
       "    </tr>\n",
       "    <tr>\n",
       "      <th>880</th>\n",
       "      <td>bolttech</td>\n",
       "      <td>$1B</td>\n",
       "      <td>2021-07-01</td>\n",
       "      <td>Fintech</td>\n",
       "      <td>NaN</td>\n",
       "      <td>Singapore</td>\n",
       "      <td>Asia</td>\n",
       "      <td>2018</td>\n",
       "      <td>$210M</td>\n",
       "      <td>Mundi Ventures, Doqling Capital Partners, Acti...</td>\n",
       "      <td>2021</td>\n",
       "      <td>1</td>\n",
       "    </tr>\n",
       "    <tr>\n",
       "      <th>889</th>\n",
       "      <td>Carro</td>\n",
       "      <td>$1B</td>\n",
       "      <td>2021-06-14</td>\n",
       "      <td>E-commerce &amp; direct-to-consumer</td>\n",
       "      <td>NaN</td>\n",
       "      <td>Singapore</td>\n",
       "      <td>Asia</td>\n",
       "      <td>2015</td>\n",
       "      <td>$595M</td>\n",
       "      <td>SingTel Innov8, Alpha JWC Ventures, Golden Gat...</td>\n",
       "      <td>2021</td>\n",
       "      <td>1</td>\n",
       "    </tr>\n",
       "    <tr>\n",
       "      <th>893</th>\n",
       "      <td>Cider</td>\n",
       "      <td>$1B</td>\n",
       "      <td>2021-09-02</td>\n",
       "      <td>E-commerce &amp; direct-to-consumer</td>\n",
       "      <td>NaN</td>\n",
       "      <td>Hong Kong</td>\n",
       "      <td>Asia</td>\n",
       "      <td>2020</td>\n",
       "      <td>$140M</td>\n",
       "      <td>Andreessen Horowitz, DST Global, IDG Capital</td>\n",
       "      <td>2021</td>\n",
       "      <td>1</td>\n",
       "    </tr>\n",
       "    <tr>\n",
       "      <th>980</th>\n",
       "      <td>NIUM</td>\n",
       "      <td>$1B</td>\n",
       "      <td>2021-07-13</td>\n",
       "      <td>Fintech</td>\n",
       "      <td>NaN</td>\n",
       "      <td>Singapore</td>\n",
       "      <td>Asia</td>\n",
       "      <td>2014</td>\n",
       "      <td>$285M</td>\n",
       "      <td>Vertex Ventures SE Asia, Global Founders Capit...</td>\n",
       "      <td>2021</td>\n",
       "      <td>1</td>\n",
       "    </tr>\n",
       "    <tr>\n",
       "      <th>986</th>\n",
       "      <td>ONE</td>\n",
       "      <td>$1B</td>\n",
       "      <td>2021-12-08</td>\n",
       "      <td>Internet software &amp; services</td>\n",
       "      <td>NaN</td>\n",
       "      <td>Singapore</td>\n",
       "      <td>Asia</td>\n",
       "      <td>2011</td>\n",
       "      <td>$515M</td>\n",
       "      <td>Temasek, Guggenheim Investments, Qatar Investm...</td>\n",
       "      <td>2021</td>\n",
       "      <td>1</td>\n",
       "    </tr>\n",
       "    <tr>\n",
       "      <th>994</th>\n",
       "      <td>PatSnap</td>\n",
       "      <td>$1B</td>\n",
       "      <td>2021-03-16</td>\n",
       "      <td>Internet software &amp; services</td>\n",
       "      <td>NaN</td>\n",
       "      <td>Singapore</td>\n",
       "      <td>Asia</td>\n",
       "      <td>2007</td>\n",
       "      <td>$352M</td>\n",
       "      <td>Sequoia Capital China, Shunwei Capital Partner...</td>\n",
       "      <td>2021</td>\n",
       "      <td>1</td>\n",
       "    </tr>\n",
       "    <tr>\n",
       "      <th>1061</th>\n",
       "      <td>WeLab</td>\n",
       "      <td>$1B</td>\n",
       "      <td>2017-11-08</td>\n",
       "      <td>Fintech</td>\n",
       "      <td>NaN</td>\n",
       "      <td>Hong Kong</td>\n",
       "      <td>Asia</td>\n",
       "      <td>2013</td>\n",
       "      <td>$871M</td>\n",
       "      <td>Sequoia Capital China, ING, Alibaba Entreprene...</td>\n",
       "      <td>2017</td>\n",
       "      <td>1</td>\n",
       "    </tr>\n",
       "  </tbody>\n",
       "</table>\n",
       "</div>"
      ],
      "text/plain": [
       "                         Company Valuation Date Joined  \\\n",
       "12                           FTX      $32B  2021-07-20   \n",
       "170                    HyalRoute       $4B  2020-05-26   \n",
       "242                       Moglix       $3B  2021-05-17   \n",
       "251                         Trax       $3B  2019-07-22   \n",
       "325                  Amber Group       $3B  2021-06-21   \n",
       "382                    Ninja Van       $2B  2021-09-27   \n",
       "541   Advance Intelligence Group       $2B  2021-09-23   \n",
       "629             LinkSure Network       $1B  2015-01-01   \n",
       "811                    Carousell       $1B  2021-09-15   \n",
       "848                   Matrixport       $1B  2021-06-01   \n",
       "880                     bolttech       $1B  2021-07-01   \n",
       "889                        Carro       $1B  2021-06-14   \n",
       "893                        Cider       $1B  2021-09-02   \n",
       "980                         NIUM       $1B  2021-07-13   \n",
       "986                          ONE       $1B  2021-12-08   \n",
       "994                      PatSnap       $1B  2021-03-16   \n",
       "1061                       WeLab       $1B  2017-11-08   \n",
       "\n",
       "                                 Industry      City    Country      Continent  \\\n",
       "12                                Fintech       NaN    Bahamas  North America   \n",
       "170           Mobile & telecommunications       NaN  Singapore           Asia   \n",
       "242       E-commerce & direct-to-consumer       NaN  Singapore           Asia   \n",
       "251               Artificial intelligence       NaN  Singapore           Asia   \n",
       "325                               Fintech       NaN  Hong Kong           Asia   \n",
       "382   Supply chain, logistics, & delivery       NaN  Singapore           Asia   \n",
       "541               Artificial intelligence       NaN  Singapore           Asia   \n",
       "629           Mobile & telecommunications  Shanghai      China           Asia   \n",
       "811       E-commerce & direct-to-consumer       NaN  Singapore           Asia   \n",
       "848                               Fintech       NaN  Singapore           Asia   \n",
       "880                               Fintech       NaN  Singapore           Asia   \n",
       "889       E-commerce & direct-to-consumer       NaN  Singapore           Asia   \n",
       "893       E-commerce & direct-to-consumer       NaN  Hong Kong           Asia   \n",
       "980                               Fintech       NaN  Singapore           Asia   \n",
       "986          Internet software & services       NaN  Singapore           Asia   \n",
       "994          Internet software & services       NaN  Singapore           Asia   \n",
       "1061                              Fintech       NaN  Hong Kong           Asia   \n",
       "\n",
       "      Year Founded Funding                                   Select Investors  \\\n",
       "12            2018     $2B             Sequoia Capital, Thoma Bravo, Softbank   \n",
       "170           2015   $263M                                          Kuang-Chi   \n",
       "242           2015   $471M            Jungle Ventures, Accel, Venture Highway   \n",
       "251           2010     $1B  Hopu Investment Management, Boyu Capital, DC T...   \n",
       "325           2015   $328M  Tiger Global Management, Tiger Brokers, DCM Ve...   \n",
       "382           2014   $975M  B Capital Group, Monk's Hill Ventures, Dynamic...   \n",
       "541           2016   $536M        Vision Plus Capital, GSR Ventures, ZhenFund   \n",
       "629           2013    $52M                                                NaN   \n",
       "811           2012   $288M  500 Global, Rakuten Ventures, Golden Gate Vent...   \n",
       "848           2019   $100M  Dragonfly Captial, Qiming Venture Partners, DS...   \n",
       "880           2018   $210M  Mundi Ventures, Doqling Capital Partners, Acti...   \n",
       "889           2015   $595M  SingTel Innov8, Alpha JWC Ventures, Golden Gat...   \n",
       "893           2020   $140M       Andreessen Horowitz, DST Global, IDG Capital   \n",
       "980           2014   $285M  Vertex Ventures SE Asia, Global Founders Capit...   \n",
       "986           2011   $515M  Temasek, Guggenheim Investments, Qatar Investm...   \n",
       "994           2007   $352M  Sequoia Capital China, Shunwei Capital Partner...   \n",
       "1061          2013   $871M  Sequoia Capital China, ING, Alibaba Entreprene...   \n",
       "\n",
       "      Year Joined  valuation_billions  \n",
       "12           2021                  32  \n",
       "170          2020                   4  \n",
       "242          2021                   3  \n",
       "251          2019                   3  \n",
       "325          2021                   3  \n",
       "382          2021                   2  \n",
       "541          2021                   2  \n",
       "629          2015                   1  \n",
       "811          2021                   1  \n",
       "848          2021                   1  \n",
       "880          2021                   1  \n",
       "889          2021                   1  \n",
       "893          2021                   1  \n",
       "980          2021                   1  \n",
       "986          2021                   1  \n",
       "994          2021                   1  \n",
       "1061         2017                   1  "
      ]
     },
     "execution_count": 24,
     "metadata": {},
     "output_type": "execute_result"
    }
   ],
   "source": [
    "# 3. Apply `mask` as a Boolean mask to `companies` and assign results to `missing_rows`\n",
    "\n",
    "missing_rows = companies[mask]\n",
    "missing_rows"
   ]
  },
  {
   "cell_type": "markdown",
   "id": "2946a384",
   "metadata": {
    "papermill": {
     "duration": 0.024476,
     "end_time": "2024-01-10T18:26:35.810556",
     "exception": false,
     "start_time": "2024-01-10T18:26:35.786080",
     "status": "completed"
    },
    "tags": []
   },
   "source": [
    "**Question: Is there a specific country/region that shows up a lot in this missing values dataframe? Which one?**\n",
    "- Twelve of the 17 rows with missing values are for companies from Singapore."
   ]
  },
  {
   "cell_type": "markdown",
   "id": "52b1debb",
   "metadata": {
    "papermill": {
     "duration": 0.023748,
     "end_time": "2024-01-10T18:26:35.858974",
     "exception": false,
     "start_time": "2024-01-10T18:26:35.835226",
     "status": "completed"
    },
    "tags": []
   },
   "source": [
    "**Question: What steps did you take to find missing data?**\n",
    "- `DataFrame.isna()` will return a Boolean dataframe indicating every location that is `NaN` with `True`\n",
    "- You can use `sum()` in conjunction with `isna()` to get the counts of `NaN` values in each column.\n",
    "- You can use `any()` in conjunction with `isna()` to create a Boolean mask, which can be applied to the original dataframe to obtain just the rows with at least one `NaN` value."
   ]
  },
  {
   "cell_type": "markdown",
   "id": "12555e44",
   "metadata": {
    "papermill": {
     "duration": 0.0238,
     "end_time": "2024-01-10T18:26:35.906934",
     "exception": false,
     "start_time": "2024-01-10T18:26:35.883134",
     "status": "completed"
    },
    "tags": []
   },
   "source": [
    "**Question: What observations can be made about the forms and context of missing data?**\n",
    "- Missing values can take different forms and are usually context-specific. Not every missing value is labeled as `na` or `None`, or `Null`."
   ]
  },
  {
   "cell_type": "markdown",
   "id": "ee59dfe5",
   "metadata": {
    "papermill": {
     "duration": 0.025111,
     "end_time": "2024-01-10T18:26:35.956603",
     "exception": false,
     "start_time": "2024-01-10T18:26:35.931492",
     "status": "completed"
    },
    "tags": []
   },
   "source": [
    "**Question: What other methods could you use to address missing data?**\n",
    "- If possible, ask the business users for insight into the causes of missing values and, if possible, get domain knowledge to intelligently impute these values."
   ]
  },
  {
   "cell_type": "markdown",
   "id": "ba573793",
   "metadata": {
    "papermill": {
     "duration": 0.024411,
     "end_time": "2024-01-10T18:26:36.005496",
     "exception": false,
     "start_time": "2024-01-10T18:26:35.981085",
     "status": "completed"
    },
    "tags": []
   },
   "source": [
    "## Step 3: Model building\n",
    "\n",
    "Think of the model you are building as the completed dataset, which you will then use to inform the questions the investor has asked of you.  "
   ]
  },
  {
   "cell_type": "markdown",
   "id": "d5eb427f",
   "metadata": {
    "papermill": {
     "duration": 0.02449,
     "end_time": "2024-01-10T18:26:36.055188",
     "exception": false,
     "start_time": "2024-01-10T18:26:36.030698",
     "status": "completed"
    },
    "tags": []
   },
   "source": [
    "### Two ways to address missing values\n",
    "\n",
    "There are several ways to address missing values, which is critical in EDA. The two primary methods are removing them and imputing other values in their place. Choosing the proper method depends on the business problem and the value the solution will add or take away from the dataset.\n",
    "\n",
    "Here, you will try both. "
   ]
  },
  {
   "cell_type": "markdown",
   "id": "2ffada97",
   "metadata": {
    "papermill": {
     "duration": 0.024466,
     "end_time": "2024-01-10T18:26:36.104128",
     "exception": false,
     "start_time": "2024-01-10T18:26:36.079662",
     "status": "completed"
    },
    "tags": []
   },
   "source": [
    "To compare the the effect of different actions, first store the original number of values in a variable. Create a variable called `count_total` that is an integer representing the total number of values in `companies`. For example, if the dataframe had 5 rows and 2 columns, then this number would be 10."
   ]
  },
  {
   "cell_type": "code",
   "execution_count": 25,
   "id": "b5817cf3",
   "metadata": {
    "execution": {
     "iopub.execute_input": "2024-01-10T18:26:36.154782Z",
     "iopub.status.busy": "2024-01-10T18:26:36.154430Z",
     "iopub.status.idle": "2024-01-10T18:26:36.160104Z",
     "shell.execute_reply": "2024-01-10T18:26:36.159316Z"
    },
    "papermill": {
     "duration": 0.033069,
     "end_time": "2024-01-10T18:26:36.161838",
     "exception": false,
     "start_time": "2024-01-10T18:26:36.128769",
     "status": "completed"
    },
    "tags": []
   },
   "outputs": [
    {
     "data": {
      "text/plain": [
       "12888"
      ]
     },
     "execution_count": 25,
     "metadata": {},
     "output_type": "execute_result"
    }
   ],
   "source": [
    "# Store the total number of values in a variable called `count_total`\n",
    "\n",
    "count_total = companies.size\n",
    "count_total"
   ]
  },
  {
   "cell_type": "markdown",
   "id": "cef06345",
   "metadata": {
    "papermill": {
     "duration": 0.02455,
     "end_time": "2024-01-10T18:26:36.210815",
     "exception": false,
     "start_time": "2024-01-10T18:26:36.186265",
     "status": "completed"
    },
    "tags": []
   },
   "source": [
    "Now, remove all rows containing missing values and store the total number of remaining values in a variable called `count_dropna_rows`."
   ]
  },
  {
   "cell_type": "code",
   "execution_count": 26,
   "id": "15e97b97",
   "metadata": {
    "execution": {
     "iopub.execute_input": "2024-01-10T18:26:36.261717Z",
     "iopub.status.busy": "2024-01-10T18:26:36.261124Z",
     "iopub.status.idle": "2024-01-10T18:26:36.268262Z",
     "shell.execute_reply": "2024-01-10T18:26:36.267628Z"
    },
    "papermill": {
     "duration": 0.034735,
     "end_time": "2024-01-10T18:26:36.270168",
     "exception": false,
     "start_time": "2024-01-10T18:26:36.235433",
     "status": "completed"
    },
    "tags": []
   },
   "outputs": [
    {
     "data": {
      "text/plain": [
       "12684"
      ]
     },
     "execution_count": 26,
     "metadata": {},
     "output_type": "execute_result"
    }
   ],
   "source": [
    "# Drop the rows containing missing values, determine number of remaining values \n",
    "\n",
    "\n",
    "count_dropna_rows = companies.dropna().size\n",
    "count_dropna_rows"
   ]
  },
  {
   "cell_type": "markdown",
   "id": "aef3097e",
   "metadata": {
    "papermill": {
     "duration": 0.025296,
     "end_time": "2024-01-10T18:26:36.319947",
     "exception": false,
     "start_time": "2024-01-10T18:26:36.294651",
     "status": "completed"
    },
    "tags": []
   },
   "source": [
    "Now, remove all columns containing missing values and store the total number of cells in a variable called `count_dropna_columns`."
   ]
  },
  {
   "cell_type": "code",
   "execution_count": 27,
   "id": "a753200d",
   "metadata": {
    "execution": {
     "iopub.execute_input": "2024-01-10T18:26:36.370883Z",
     "iopub.status.busy": "2024-01-10T18:26:36.369969Z",
     "iopub.status.idle": "2024-01-10T18:26:36.379485Z",
     "shell.execute_reply": "2024-01-10T18:26:36.378650Z"
    },
    "papermill": {
     "duration": 0.037128,
     "end_time": "2024-01-10T18:26:36.381399",
     "exception": false,
     "start_time": "2024-01-10T18:26:36.344271",
     "status": "completed"
    },
    "tags": []
   },
   "outputs": [
    {
     "data": {
      "text/plain": [
       "10740"
      ]
     },
     "execution_count": 27,
     "metadata": {},
     "output_type": "execute_result"
    }
   ],
   "source": [
    "# Drop the columns containing missing values, determine number of remaining values\n",
    "\n",
    "\n",
    "count_dropna_columns = companies.dropna(axis=1).size\n",
    "count_dropna_columns"
   ]
  },
  {
   "cell_type": "code",
   "execution_count": 28,
   "id": "d8c7064c",
   "metadata": {
    "execution": {
     "iopub.execute_input": "2024-01-10T18:26:36.433541Z",
     "iopub.status.busy": "2024-01-10T18:26:36.433234Z",
     "iopub.status.idle": "2024-01-10T18:26:36.448922Z",
     "shell.execute_reply": "2024-01-10T18:26:36.448111Z"
    },
    "papermill": {
     "duration": 0.043971,
     "end_time": "2024-01-10T18:26:36.450601",
     "exception": false,
     "start_time": "2024-01-10T18:26:36.406630",
     "status": "completed"
    },
    "tags": []
   },
   "outputs": [
    {
     "data": {
      "text/html": [
       "<div>\n",
       "<style scoped>\n",
       "    .dataframe tbody tr th:only-of-type {\n",
       "        vertical-align: middle;\n",
       "    }\n",
       "\n",
       "    .dataframe tbody tr th {\n",
       "        vertical-align: top;\n",
       "    }\n",
       "\n",
       "    .dataframe thead th {\n",
       "        text-align: right;\n",
       "    }\n",
       "</style>\n",
       "<table border=\"1\" class=\"dataframe\">\n",
       "  <thead>\n",
       "    <tr style=\"text-align: right;\">\n",
       "      <th></th>\n",
       "      <th>Company</th>\n",
       "      <th>Valuation</th>\n",
       "      <th>Date Joined</th>\n",
       "      <th>Industry</th>\n",
       "      <th>City</th>\n",
       "      <th>Country</th>\n",
       "      <th>Continent</th>\n",
       "      <th>Year Founded</th>\n",
       "      <th>Funding</th>\n",
       "      <th>Select Investors</th>\n",
       "      <th>Year Joined</th>\n",
       "      <th>valuation_billions</th>\n",
       "    </tr>\n",
       "  </thead>\n",
       "  <tbody>\n",
       "    <tr>\n",
       "      <th>36</th>\n",
       "      <td>Bitmain</td>\n",
       "      <td>$12B</td>\n",
       "      <td>2018-07-06</td>\n",
       "      <td>Hardware</td>\n",
       "      <td>Beijing</td>\n",
       "      <td>China</td>\n",
       "      <td>Asia</td>\n",
       "      <td>2015</td>\n",
       "      <td>$765M</td>\n",
       "      <td>Coatue Management, Sequoia Capital China, IDG ...</td>\n",
       "      <td>2018</td>\n",
       "      <td>12</td>\n",
       "    </tr>\n",
       "    <tr>\n",
       "      <th>43</th>\n",
       "      <td>Global Switch</td>\n",
       "      <td>$11B</td>\n",
       "      <td>2016-12-22</td>\n",
       "      <td>Hardware</td>\n",
       "      <td>London</td>\n",
       "      <td>United Kingdom</td>\n",
       "      <td>Europe</td>\n",
       "      <td>1998</td>\n",
       "      <td>$5B</td>\n",
       "      <td>Aviation Industry Corporation of China, Essenc...</td>\n",
       "      <td>2016</td>\n",
       "      <td>11</td>\n",
       "    </tr>\n",
       "    <tr>\n",
       "      <th>147</th>\n",
       "      <td>Chipone</td>\n",
       "      <td>$5B</td>\n",
       "      <td>2021-12-16</td>\n",
       "      <td>Hardware</td>\n",
       "      <td>Beijing</td>\n",
       "      <td>China</td>\n",
       "      <td>Asia</td>\n",
       "      <td>2008</td>\n",
       "      <td>$1B</td>\n",
       "      <td>China Grand Prosperity Investment, Silk Road H...</td>\n",
       "      <td>2021</td>\n",
       "      <td>5</td>\n",
       "    </tr>\n",
       "    <tr>\n",
       "      <th>845</th>\n",
       "      <td>Density</td>\n",
       "      <td>$1B</td>\n",
       "      <td>2021-11-10</td>\n",
       "      <td>Hardware</td>\n",
       "      <td>San Francisco</td>\n",
       "      <td>United States</td>\n",
       "      <td>North America</td>\n",
       "      <td>2014</td>\n",
       "      <td>$217M</td>\n",
       "      <td>Founders Fund, Upfront Ventures, 01 Advisors</td>\n",
       "      <td>2021</td>\n",
       "      <td>1</td>\n",
       "    </tr>\n",
       "    <tr>\n",
       "      <th>873</th>\n",
       "      <td>BenevolentAI</td>\n",
       "      <td>$1B</td>\n",
       "      <td>2015-06-02</td>\n",
       "      <td>Artificial intelligence</td>\n",
       "      <td>London</td>\n",
       "      <td>United Kingdom</td>\n",
       "      <td>Europe</td>\n",
       "      <td>2013</td>\n",
       "      <td>$292M</td>\n",
       "      <td>Woodford Investment Management</td>\n",
       "      <td>2015</td>\n",
       "      <td>1</td>\n",
       "    </tr>\n",
       "    <tr>\n",
       "      <th>923</th>\n",
       "      <td>Geek+</td>\n",
       "      <td>$1B</td>\n",
       "      <td>2018-11-21</td>\n",
       "      <td>Hardware</td>\n",
       "      <td>Beijing</td>\n",
       "      <td>China</td>\n",
       "      <td>Asia</td>\n",
       "      <td>2015</td>\n",
       "      <td>$439M</td>\n",
       "      <td>Volcanics Ventures, Vertex Ventures China, War...</td>\n",
       "      <td>2018</td>\n",
       "      <td>1</td>\n",
       "    </tr>\n",
       "    <tr>\n",
       "      <th>1040</th>\n",
       "      <td>TERMINUS Technology</td>\n",
       "      <td>$1B</td>\n",
       "      <td>2018-10-25</td>\n",
       "      <td>Hardware</td>\n",
       "      <td>Beijing</td>\n",
       "      <td>China</td>\n",
       "      <td>Asia</td>\n",
       "      <td>2015</td>\n",
       "      <td>$623M</td>\n",
       "      <td>China Everbright Limited, IDG Capital, iFLYTEK</td>\n",
       "      <td>2018</td>\n",
       "      <td>1</td>\n",
       "    </tr>\n",
       "    <tr>\n",
       "      <th>1046</th>\n",
       "      <td>Tractable</td>\n",
       "      <td>$1B</td>\n",
       "      <td>2021-06-16</td>\n",
       "      <td>Artificial intelligence</td>\n",
       "      <td>London</td>\n",
       "      <td>United Kingdom</td>\n",
       "      <td>Europe</td>\n",
       "      <td>2014</td>\n",
       "      <td>$120M</td>\n",
       "      <td>Insight Partners, Ignition Partners, Georgian ...</td>\n",
       "      <td>2021</td>\n",
       "      <td>1</td>\n",
       "    </tr>\n",
       "  </tbody>\n",
       "</table>\n",
       "</div>"
      ],
      "text/plain": [
       "                  Company Valuation Date Joined                 Industry  \\\n",
       "36                Bitmain      $12B  2018-07-06                 Hardware   \n",
       "43          Global Switch      $11B  2016-12-22                 Hardware   \n",
       "147               Chipone       $5B  2021-12-16                 Hardware   \n",
       "845               Density       $1B  2021-11-10                 Hardware   \n",
       "873          BenevolentAI       $1B  2015-06-02  Artificial intelligence   \n",
       "923                 Geek+       $1B  2018-11-21                 Hardware   \n",
       "1040  TERMINUS Technology       $1B  2018-10-25                 Hardware   \n",
       "1046            Tractable       $1B  2021-06-16  Artificial intelligence   \n",
       "\n",
       "               City         Country      Continent  Year Founded Funding  \\\n",
       "36          Beijing           China           Asia          2015   $765M   \n",
       "43           London  United Kingdom         Europe          1998     $5B   \n",
       "147         Beijing           China           Asia          2008     $1B   \n",
       "845   San Francisco   United States  North America          2014   $217M   \n",
       "873          London  United Kingdom         Europe          2013   $292M   \n",
       "923         Beijing           China           Asia          2015   $439M   \n",
       "1040        Beijing           China           Asia          2015   $623M   \n",
       "1046         London  United Kingdom         Europe          2014   $120M   \n",
       "\n",
       "                                       Select Investors  Year Joined  \\\n",
       "36    Coatue Management, Sequoia Capital China, IDG ...         2018   \n",
       "43    Aviation Industry Corporation of China, Essenc...         2016   \n",
       "147   China Grand Prosperity Investment, Silk Road H...         2021   \n",
       "845        Founders Fund, Upfront Ventures, 01 Advisors         2021   \n",
       "873                      Woodford Investment Management         2015   \n",
       "923   Volcanics Ventures, Vertex Ventures China, War...         2018   \n",
       "1040     China Everbright Limited, IDG Capital, iFLYTEK         2018   \n",
       "1046  Insight Partners, Ignition Partners, Georgian ...         2021   \n",
       "\n",
       "      valuation_billions  \n",
       "36                    12  \n",
       "43                    11  \n",
       "147                    5  \n",
       "845                    1  \n",
       "873                    1  \n",
       "923                    1  \n",
       "1040                   1  \n",
       "1046                   1  "
      ]
     },
     "execution_count": 28,
     "metadata": {},
     "output_type": "execute_result"
    }
   ],
   "source": [
    "# 1. Create a Boolean mask using conditional logic\n",
    "\n",
    "cities = ['Beijing', 'San Francisco', 'London']\n",
    "mask = (\n",
    "    (companies['Industry']=='Hardware') & (companies['City'].isin(cities))\n",
    ") | (\n",
    "    (companies['Industry']=='Artificial intelligence') & (companies['City']=='London')\n",
    ")\n",
    "\n",
    "# 2. Apply the mask to the `companies` dataframe and assign the results to `df_invest`\n",
    "\n",
    "df_invest = companies[mask]\n",
    "df_invest"
   ]
  },
  {
   "cell_type": "markdown",
   "id": "82208178",
   "metadata": {
    "papermill": {
     "duration": 0.024907,
     "end_time": "2024-01-10T18:26:36.500281",
     "exception": false,
     "start_time": "2024-01-10T18:26:36.475374",
     "status": "completed"
    },
    "tags": []
   },
   "source": [
    "**Question: How many companies meet the criteria given by the investor?**\n",
    "- Eight companies meet the stated criteria."
   ]
  },
  {
   "cell_type": "markdown",
   "id": "413d53cf",
   "metadata": {
    "papermill": {
     "duration": 0.024732,
     "end_time": "2024-01-10T18:26:36.550137",
     "exception": false,
     "start_time": "2024-01-10T18:26:36.525405",
     "status": "completed"
    },
    "tags": []
   },
   "source": [
    "### List of countries by sum of valuation"
   ]
  },
  {
   "cell_type": "markdown",
   "id": "013b56a4",
   "metadata": {
    "papermill": {
     "duration": 0.026059,
     "end_time": "2024-01-10T18:26:36.601189",
     "exception": false,
     "start_time": "2024-01-10T18:26:36.575130",
     "status": "completed"
    },
    "tags": []
   },
   "source": [
    "For each country, sum the valuations of all companies in that country, then sort the results in descending order by summed valuation. Assign the results to a variable called `national_valuations`."
   ]
  },
  {
   "cell_type": "code",
   "execution_count": 29,
   "id": "c8438c3c",
   "metadata": {
    "execution": {
     "iopub.execute_input": "2024-01-10T18:26:36.652968Z",
     "iopub.status.busy": "2024-01-10T18:26:36.652540Z",
     "iopub.status.idle": "2024-01-10T18:26:36.662577Z",
     "shell.execute_reply": "2024-01-10T18:26:36.661916Z"
    },
    "papermill": {
     "duration": 0.038248,
     "end_time": "2024-01-10T18:26:36.664153",
     "exception": false,
     "start_time": "2024-01-10T18:26:36.625905",
     "status": "completed"
    },
    "tags": []
   },
   "outputs": [
    {
     "data": {
      "text/html": [
       "<div>\n",
       "<style scoped>\n",
       "    .dataframe tbody tr th:only-of-type {\n",
       "        vertical-align: middle;\n",
       "    }\n",
       "\n",
       "    .dataframe tbody tr th {\n",
       "        vertical-align: top;\n",
       "    }\n",
       "\n",
       "    .dataframe thead th {\n",
       "        text-align: right;\n",
       "    }\n",
       "</style>\n",
       "<table border=\"1\" class=\"dataframe\">\n",
       "  <thead>\n",
       "    <tr style=\"text-align: right;\">\n",
       "      <th></th>\n",
       "      <th>Country</th>\n",
       "      <th>valuation_billions</th>\n",
       "    </tr>\n",
       "  </thead>\n",
       "  <tbody>\n",
       "    <tr>\n",
       "      <th>0</th>\n",
       "      <td>United States</td>\n",
       "      <td>1933</td>\n",
       "    </tr>\n",
       "    <tr>\n",
       "      <th>1</th>\n",
       "      <td>China</td>\n",
       "      <td>696</td>\n",
       "    </tr>\n",
       "    <tr>\n",
       "      <th>2</th>\n",
       "      <td>India</td>\n",
       "      <td>196</td>\n",
       "    </tr>\n",
       "    <tr>\n",
       "      <th>3</th>\n",
       "      <td>United Kingdom</td>\n",
       "      <td>195</td>\n",
       "    </tr>\n",
       "    <tr>\n",
       "      <th>4</th>\n",
       "      <td>Germany</td>\n",
       "      <td>72</td>\n",
       "    </tr>\n",
       "    <tr>\n",
       "      <th>5</th>\n",
       "      <td>Sweden</td>\n",
       "      <td>63</td>\n",
       "    </tr>\n",
       "    <tr>\n",
       "      <th>6</th>\n",
       "      <td>Australia</td>\n",
       "      <td>56</td>\n",
       "    </tr>\n",
       "    <tr>\n",
       "      <th>7</th>\n",
       "      <td>France</td>\n",
       "      <td>55</td>\n",
       "    </tr>\n",
       "    <tr>\n",
       "      <th>8</th>\n",
       "      <td>Canada</td>\n",
       "      <td>49</td>\n",
       "    </tr>\n",
       "    <tr>\n",
       "      <th>9</th>\n",
       "      <td>South Korea</td>\n",
       "      <td>41</td>\n",
       "    </tr>\n",
       "    <tr>\n",
       "      <th>10</th>\n",
       "      <td>Israel</td>\n",
       "      <td>39</td>\n",
       "    </tr>\n",
       "    <tr>\n",
       "      <th>11</th>\n",
       "      <td>Brazil</td>\n",
       "      <td>37</td>\n",
       "    </tr>\n",
       "    <tr>\n",
       "      <th>12</th>\n",
       "      <td>Bahamas</td>\n",
       "      <td>32</td>\n",
       "    </tr>\n",
       "    <tr>\n",
       "      <th>13</th>\n",
       "      <td>Indonesia</td>\n",
       "      <td>28</td>\n",
       "    </tr>\n",
       "    <tr>\n",
       "      <th>14</th>\n",
       "      <td>Singapore</td>\n",
       "      <td>21</td>\n",
       "    </tr>\n",
       "  </tbody>\n",
       "</table>\n",
       "</div>"
      ],
      "text/plain": [
       "           Country  valuation_billions\n",
       "0    United States                1933\n",
       "1            China                 696\n",
       "2            India                 196\n",
       "3   United Kingdom                 195\n",
       "4          Germany                  72\n",
       "5           Sweden                  63\n",
       "6        Australia                  56\n",
       "7           France                  55\n",
       "8           Canada                  49\n",
       "9      South Korea                  41\n",
       "10          Israel                  39\n",
       "11          Brazil                  37\n",
       "12         Bahamas                  32\n",
       "13       Indonesia                  28\n",
       "14       Singapore                  21"
      ]
     },
     "execution_count": 29,
     "metadata": {},
     "output_type": "execute_result"
    }
   ],
   "source": [
    "# Group the data by`Country/Region`\n",
    "\n",
    "national_valuations = companies.groupby(['Country'])['valuation_billions'].sum(\n",
    ").sort_values(ascending=False).reset_index()\n",
    "\n",
    "# Print the top 15 values of the DataFrame.\n",
    "\n",
    "national_valuations.head(15)\n"
   ]
  },
  {
   "cell_type": "markdown",
   "id": "0f1e66a1",
   "metadata": {
    "papermill": {
     "duration": 0.023514,
     "end_time": "2024-01-10T18:26:36.711392",
     "exception": false,
     "start_time": "2024-01-10T18:26:36.687878",
     "status": "completed"
    },
    "tags": []
   },
   "source": [
    "**Question: Which countries have the highest sum of valuation?**\n",
    "\n",
    "The sorted data indicates that the four countries with highest total company valuations are the United States, China, India, and the United Kingdom. However, your investor specified that these countries should not be included in the list because they are outliers."
   ]
  },
  {
   "cell_type": "markdown",
   "id": "a64cf956",
   "metadata": {
    "papermill": {
     "duration": 0.024392,
     "end_time": "2024-01-10T18:26:36.761561",
     "exception": false,
     "start_time": "2024-01-10T18:26:36.737169",
     "status": "completed"
    },
    "tags": []
   },
   "source": [
    "### Filter out top 4 outlying countries"
   ]
  },
  {
   "cell_type": "markdown",
   "id": "06033f84",
   "metadata": {
    "papermill": {
     "duration": 0.024794,
     "end_time": "2024-01-10T18:26:36.811139",
     "exception": false,
     "start_time": "2024-01-10T18:26:36.786345",
     "status": "completed"
    },
    "tags": []
   },
   "source": [
    "Use this grouped and summed data to plot a barplot. However, to meet the needs of your stakeholder, you must first remove the United States, China, India, and the United Kingdom. Remove these countries from `national_valuations` and reassign the results to a variable called `national_valuations_no_big4`."
   ]
  },
  {
   "cell_type": "code",
   "execution_count": 30,
   "id": "171cee6d",
   "metadata": {
    "execution": {
     "iopub.execute_input": "2024-01-10T18:26:36.862750Z",
     "iopub.status.busy": "2024-01-10T18:26:36.862127Z",
     "iopub.status.idle": "2024-01-10T18:26:36.870302Z",
     "shell.execute_reply": "2024-01-10T18:26:36.869470Z"
    },
    "papermill": {
     "duration": 0.035854,
     "end_time": "2024-01-10T18:26:36.871933",
     "exception": false,
     "start_time": "2024-01-10T18:26:36.836079",
     "status": "completed"
    },
    "tags": []
   },
   "outputs": [
    {
     "data": {
      "text/html": [
       "<div>\n",
       "<style scoped>\n",
       "    .dataframe tbody tr th:only-of-type {\n",
       "        vertical-align: middle;\n",
       "    }\n",
       "\n",
       "    .dataframe tbody tr th {\n",
       "        vertical-align: top;\n",
       "    }\n",
       "\n",
       "    .dataframe thead th {\n",
       "        text-align: right;\n",
       "    }\n",
       "</style>\n",
       "<table border=\"1\" class=\"dataframe\">\n",
       "  <thead>\n",
       "    <tr style=\"text-align: right;\">\n",
       "      <th></th>\n",
       "      <th>Country</th>\n",
       "      <th>valuation_billions</th>\n",
       "    </tr>\n",
       "  </thead>\n",
       "  <tbody>\n",
       "    <tr>\n",
       "      <th>4</th>\n",
       "      <td>Germany</td>\n",
       "      <td>72</td>\n",
       "    </tr>\n",
       "    <tr>\n",
       "      <th>5</th>\n",
       "      <td>Sweden</td>\n",
       "      <td>63</td>\n",
       "    </tr>\n",
       "    <tr>\n",
       "      <th>6</th>\n",
       "      <td>Australia</td>\n",
       "      <td>56</td>\n",
       "    </tr>\n",
       "    <tr>\n",
       "      <th>7</th>\n",
       "      <td>France</td>\n",
       "      <td>55</td>\n",
       "    </tr>\n",
       "    <tr>\n",
       "      <th>8</th>\n",
       "      <td>Canada</td>\n",
       "      <td>49</td>\n",
       "    </tr>\n",
       "  </tbody>\n",
       "</table>\n",
       "</div>"
      ],
      "text/plain": [
       "     Country  valuation_billions\n",
       "4    Germany                  72\n",
       "5     Sweden                  63\n",
       "6  Australia                  56\n",
       "7     France                  55\n",
       "8     Canada                  49"
      ]
     },
     "execution_count": 30,
     "metadata": {},
     "output_type": "execute_result"
    }
   ],
   "source": [
    "# Remove outlying countries\n",
    "\n",
    "\n",
    "national_valuations_no_big4 = national_valuations.iloc[4:, :]\n",
    "\n",
    "national_valuations_no_big4.head()"
   ]
  },
  {
   "cell_type": "markdown",
   "id": "e1aedc24",
   "metadata": {
    "papermill": {
     "duration": 0.024587,
     "end_time": "2024-01-10T18:26:36.922059",
     "exception": false,
     "start_time": "2024-01-10T18:26:36.897472",
     "status": "completed"
    },
    "tags": []
   },
   "source": [
    "### Create barplot for top 20 non-big-4 countries"
   ]
  },
  {
   "cell_type": "markdown",
   "id": "ead60a5f",
   "metadata": {
    "papermill": {
     "duration": 0.024378,
     "end_time": "2024-01-10T18:26:36.970943",
     "exception": false,
     "start_time": "2024-01-10T18:26:36.946565",
     "status": "completed"
    },
    "tags": []
   },
   "source": [
    "Now, the data is ready to reveal the top 20 non-big-4 countries with the highest total company valuations. Use seaborn's [`barplot()`](https://seaborn.pydata.org/generated/seaborn.barplot.html) function to create a plot showing national valuation on one axis and country on the other."
   ]
  },
  {
   "cell_type": "code",
   "execution_count": 31,
   "id": "cb5f09de",
   "metadata": {
    "execution": {
     "iopub.execute_input": "2024-01-10T18:26:37.023684Z",
     "iopub.status.busy": "2024-01-10T18:26:37.023099Z",
     "iopub.status.idle": "2024-01-10T18:26:37.320955Z",
     "shell.execute_reply": "2024-01-10T18:26:37.320126Z"
    },
    "papermill": {
     "duration": 0.32613,
     "end_time": "2024-01-10T18:26:37.322592",
     "exception": false,
     "start_time": "2024-01-10T18:26:36.996462",
     "status": "completed"
    },
    "tags": []
   },
   "outputs": [
    {
     "data": {
      "image/png": "[encoded data removed]",
      "text/plain": [
       "<Figure size 640x480 with 1 Axes>"
      ]
     },
     "metadata": {},
     "output_type": "display_data"
    }
   ],
   "source": [
    "# Create a barplot to compare the top 20 non-big-4 countries with highest company valuations\n",
    "\n",
    "sns.barplot(data=national_valuations_no_big4.head(20),\n",
    "            y='Country',\n",
    "            x='valuation_billions')\n",
    "plt.title('Top 20 non-big-4 countries by total company valuation')\n",
    "plt.show();"
   ]
  },
  {
   "cell_type": "markdown",
   "id": "abde66d7",
   "metadata": {
    "papermill": {
     "duration": 0.024315,
     "end_time": "2024-01-10T18:26:37.371473",
     "exception": false,
     "start_time": "2024-01-10T18:26:37.347158",
     "status": "completed"
    },
    "tags": []
   },
   "source": [
    "### Plot maps"
   ]
  },
  {
   "cell_type": "markdown",
   "id": "b70137d2",
   "metadata": {
    "papermill": {
     "duration": 0.033006,
     "end_time": "2024-01-10T18:26:37.436656",
     "exception": false,
     "start_time": "2024-01-10T18:26:37.403650",
     "status": "completed"
    },
    "tags": []
   },
   "source": [
    "Your investor has also asked for a global valuation map of all countries except `United States`, `China`, `India`, and `United Kingdom` (a.k.a. \"big-four countries\").\n",
    "\n",
    "You have learned about using [`scatter_geo()`](https://plotly.com/python-api-reference/generated/plotly.express.scatter_geo) from the `plotly.express` library to create plot data on a map. Create a `scatter_geo()` plot that depicts the total valuations of each non-big-four country on a world map, where each valuation is shown as a circle on the map, and the size of the circle is proportional to that country's summed valuation.\n",
    "\n",
    "**NOTE:** The output of the following code is a dynamic plot that requires you to run the code to display it. To do this, go to the Cell menu at the top of the page and select Run All."
   ]
  },
  {
   "cell_type": "code",
   "execution_count": 32,
   "id": "7da6bd46",
   "metadata": {
    "execution": {
     "iopub.execute_input": "2024-01-10T18:26:37.497774Z",
     "iopub.status.busy": "2024-01-10T18:26:37.497442Z",
     "iopub.status.idle": "2024-01-10T18:26:39.029364Z",
     "shell.execute_reply": "2024-01-10T18:26:39.028412Z"
    },
    "papermill": {
     "duration": 1.563604,
     "end_time": "2024-01-10T18:26:39.031051",
     "exception": false,
     "start_time": "2024-01-10T18:26:37.467447",
     "status": "completed"
    },
    "tags": []
   },
   "outputs": [
    {
     "data": {
      "text/html": [
       "        <script type=\"text/javascript\">\n",
       "        window.PlotlyConfig = {MathJaxConfig: 'local'};\n",
       "        if (window.MathJax && window.MathJax.Hub && window.MathJax.Hub.Config) {window.MathJax.Hub.Config({SVG: {font: \"STIX-Web\"}});}\n",
       "        if (typeof require !== 'undefined') {\n",
       "        require.undef(\"plotly\");\n",
       "        requirejs.config({\n",
       "            paths: {\n",
       "                'plotly': ['https://cdn.plot.ly/plotly-2.25.2.min']\n",
       "            }\n",
       "        });\n",
       "        require(['plotly'], function(Plotly) {\n",
       "            window._Plotly = Plotly;\n",
       "        });\n",
       "        }\n",
       "        </script>\n",
       "        "
      ]
     },
     "metadata": {},
     "output_type": "display_data"
    },
    {
     "data": {
      "text/html": [
       "<div>                            <div id=\"30f7da9e-4c2f-4bca-b554-5ee0c622c24b\" class=\"plotly-graph-div\" style=\"height:525px; width:100%;\"></div>            <script type=\"text/javascript\">                require([\"plotly\"], function(Plotly) {                    window.PLOTLYENV=window.PLOTLYENV || {};                                    if (document.getElementById(\"30f7da9e-4c2f-4bca-b554-5ee0c622c24b\")) {                    Plotly.newPlot(                        \"30f7da9e-4c2f-4bca-b554-5ee0c622c24b\",                        [{\"geo\":\"geo\",\"hovertemplate\":\"Country=%{location}\\u003cbr\\u003evaluation_billions=%{marker.size}\\u003cextra\\u003e\\u003c\\u002fextra\\u003e\",\"legendgroup\":\"Germany\",\"locationmode\":\"country names\",\"locations\":[\"Germany\"],\"marker\":{\"color\":\"#636efa\",\"size\":[72],\"sizemode\":\"area\",\"sizeref\":0.18,\"symbol\":\"circle\"},\"mode\":\"markers\",\"name\":\"Germany\",\"showlegend\":true,\"type\":\"scattergeo\"},{\"geo\":\"geo\",\"hovertemplate\":\"Country=%{location}\\u003cbr\\u003evaluation_billions=%{marker.size}\\u003cextra\\u003e\\u003c\\u002fextra\\u003e\",\"legendgroup\":\"Sweden\",\"locationmode\":\"country names\",\"locations\":[\"Sweden\"],\"marker\":{\"color\":\"#EF553B\",\"size\":[63],\"sizemode\":\"area\",\"sizeref\":0.18,\"symbol\":\"circle\"},\"mode\":\"markers\",\"name\":\"Sweden\",\"showlegend\":true,\"type\":\"scattergeo\"},{\"geo\":\"geo\",\"hovertemplate\":\"Country=%{location}\\u003cbr\\u003evaluation_billions=%{marker.size}\\u003cextra\\u003e\\u003c\\u002fextra\\u003e\",\"legendgroup\":\"Australia\",\"locationmode\":\"country names\",\"locations\":[\"Australia\"],\"marker\":{\"color\":\"#00cc96\",\"size\":[56],\"sizemode\":\"area\",\"sizeref\":0.18,\"symbol\":\"circle\"},\"mode\":\"markers\",\"name\":\"Australia\",\"showlegend\":true,\"type\":\"scattergeo\"},{\"geo\":\"geo\",\"hovertemplate\":\"Country=%{location}\\u003cbr\\u003evaluation_billions=%{marker.size}\\u003cextra\\u003e\\u003c\\u002fextra\\u003e\",\"legendgroup\":\"France\",\"locationmode\":\"country names\",\"locations\":[\"France\"],\"marker\":{\"color\":\"#ab63fa\",\"size\":[55],\"sizemode\":\"area\",\"sizeref\":0.18,\"symbol\":\"circle\"},\"mode\":\"markers\",\"name\":\"France\",\"showlegend\":true,\"type\":\"scattergeo\"},{\"geo\":\"geo\",\"hovertemplate\":\"Country=%{location}\\u003cbr\\u003evaluation_billions=%{marker.size}\\u003cextra\\u003e\\u003c\\u002fextra\\u003e\",\"legendgroup\":\"Canada\",\"locationmode\":\"country names\",\"locations\":[\"Canada\"],\"marker\":{\"color\":\"#FFA15A\",\"size\":[49],\"sizemode\":\"area\",\"sizeref\":0.18,\"symbol\":\"circle\"},\"mode\":\"markers\",\"name\":\"Canada\",\"showlegend\":true,\"type\":\"scattergeo\"},{\"geo\":\"geo\",\"hovertemplate\":\"Country=%{location}\\u003cbr\\u003evaluation_billions=%{marker.size}\\u003cextra\\u003e\\u003c\\u002fextra\\u003e\",\"legendgroup\":\"South Korea\",\"locationmode\":\"country names\",\"locations\":[\"South Korea\"],\"marker\":{\"color\":\"#19d3f3\",\"size\":[41],\"sizemode\":\"area\",\"sizeref\":0.18,\"symbol\":\"circle\"},\"mode\":\"markers\",\"name\":\"South Korea\",\"showlegend\":true,\"type\":\"scattergeo\"},{\"geo\":\"geo\",\"hovertemplate\":\"Country=%{location}\\u003cbr\\u003evaluation_billions=%{marker.size}\\u003cextra\\u003e\\u003c\\u002fextra\\u003e\",\"legendgroup\":\"Israel\",\"locationmode\":\"country names\",\"locations\":[\"Israel\"],\"marker\":{\"color\":\"#FF6692\",\"size\":[39],\"sizemode\":\"area\",\"sizeref\":0.18,\"symbol\":\"circle\"},\"mode\":\"markers\",\"name\":\"Israel\",\"showlegend\":true,\"type\":\"scattergeo\"},{\"geo\":\"geo\",\"hovertemplate\":\"Country=%{location}\\u003cbr\\u003evaluation_billions=%{marker.size}\\u003cextra\\u003e\\u003c\\u002fextra\\u003e\",\"legendgroup\":\"Brazil\",\"locationmode\":\"country names\",\"locations\":[\"Brazil\"],\"marker\":{\"color\":\"#B6E880\",\"size\":[37],\"sizemode\":\"area\",\"sizeref\":0.18,\"symbol\":\"circle\"},\"mode\":\"markers\",\"name\":\"Brazil\",\"showlegend\":true,\"type\":\"scattergeo\"},{\"geo\":\"geo\",\"hovertemplate\":\"Country=%{location}\\u003cbr\\u003evaluation_billions=%{marker.size}\\u003cextra\\u003e\\u003c\\u002fextra\\u003e\",\"legendgroup\":\"Bahamas\",\"locationmode\":\"country names\",\"locations\":[\"Bahamas\"],\"marker\":{\"color\":\"#FF97FF\",\"size\":[32],\"sizemode\":\"area\",\"sizeref\":0.18,\"symbol\":\"circle\"},\"mode\":\"markers\",\"name\":\"Bahamas\",\"showlegend\":true,\"type\":\"scattergeo\"},{\"geo\":\"geo\",\"hovertemplate\":\"Country=%{location}\\u003cbr\\u003evaluation_billions=%{marker.size}\\u003cextra\\u003e\\u003c\\u002fextra\\u003e\",\"legendgroup\":\"Indonesia\",\"locationmode\":\"country names\",\"locations\":[\"Indonesia\"],\"marker\":{\"color\":\"#FECB52\",\"size\":[28],\"sizemode\":\"area\",\"sizeref\":0.18,\"symbol\":\"circle\"},\"mode\":\"markers\",\"name\":\"Indonesia\",\"showlegend\":true,\"type\":\"scattergeo\"},{\"geo\":\"geo\",\"hovertemplate\":\"Country=%{location}\\u003cbr\\u003evaluation_billions=%{marker.size}\\u003cextra\\u003e\\u003c\\u002fextra\\u003e\",\"legendgroup\":\"Singapore\",\"locationmode\":\"country names\",\"locations\":[\"Singapore\"],\"marker\":{\"color\":\"#636efa\",\"size\":[21],\"sizemode\":\"area\",\"sizeref\":0.18,\"symbol\":\"circle\"},\"mode\":\"markers\",\"name\":\"Singapore\",\"showlegend\":true,\"type\":\"scattergeo\"},{\"geo\":\"geo\",\"hovertemplate\":\"Country=%{location}\\u003cbr\\u003evaluation_billions=%{marker.size}\\u003cextra\\u003e\\u003c\\u002fextra\\u003e\",\"legendgroup\":\"Netherlands\",\"locationmode\":\"country names\",\"locations\":[\"Netherlands\"],\"marker\":{\"color\":\"#EF553B\",\"size\":[19],\"sizemode\":\"area\",\"sizeref\":0.18,\"symbol\":\"circle\"},\"mode\":\"markers\",\"name\":\"Netherlands\",\"showlegend\":true,\"type\":\"scattergeo\"},{\"geo\":\"geo\",\"hovertemplate\":\"Country=%{location}\\u003cbr\\u003evaluation_billions=%{marker.size}\\u003cextra\\u003e\\u003c\\u002fextra\\u003e\",\"legendgroup\":\"Hong Kong\",\"locationmode\":\"country names\",\"locations\":[\"Hong Kong\"],\"marker\":{\"color\":\"#00cc96\",\"size\":[18],\"sizemode\":\"area\",\"sizeref\":0.18,\"symbol\":\"circle\"},\"mode\":\"markers\",\"name\":\"Hong Kong\",\"showlegend\":true,\"type\":\"scattergeo\"},{\"geo\":\"geo\",\"hovertemplate\":\"Country=%{location}\\u003cbr\\u003evaluation_billions=%{marker.size}\\u003cextra\\u003e\\u003c\\u002fextra\\u003e\",\"legendgroup\":\"Turkey\",\"locationmode\":\"country names\",\"locations\":[\"Turkey\"],\"marker\":{\"color\":\"#ab63fa\",\"size\":[16],\"sizemode\":\"area\",\"sizeref\":0.18,\"symbol\":\"circle\"},\"mode\":\"markers\",\"name\":\"Turkey\",\"showlegend\":true,\"type\":\"scattergeo\"},{\"geo\":\"geo\",\"hovertemplate\":\"Country=%{location}\\u003cbr\\u003evaluation_billions=%{marker.size}\\u003cextra\\u003e\\u003c\\u002fextra\\u003e\",\"legendgroup\":\"Mexico\",\"locationmode\":\"country names\",\"locations\":[\"Mexico\"],\"marker\":{\"color\":\"#FFA15A\",\"size\":[16],\"sizemode\":\"area\",\"sizeref\":0.18,\"symbol\":\"circle\"},\"mode\":\"markers\",\"name\":\"Mexico\",\"showlegend\":true,\"type\":\"scattergeo\"},{\"geo\":\"geo\",\"hovertemplate\":\"Country=%{location}\\u003cbr\\u003evaluation_billions=%{marker.size}\\u003cextra\\u003e\\u003c\\u002fextra\\u003e\",\"legendgroup\":\"Estonia\",\"locationmode\":\"country names\",\"locations\":[\"Estonia\"],\"marker\":{\"color\":\"#19d3f3\",\"size\":[13],\"sizemode\":\"area\",\"sizeref\":0.18,\"symbol\":\"circle\"},\"mode\":\"markers\",\"name\":\"Estonia\",\"showlegend\":true,\"type\":\"scattergeo\"},{\"geo\":\"geo\",\"hovertemplate\":\"Country=%{location}\\u003cbr\\u003evaluation_billions=%{marker.size}\\u003cextra\\u003e\\u003c\\u002fextra\\u003e\",\"legendgroup\":\"Finland\",\"locationmode\":\"country names\",\"locations\":[\"Finland\"],\"marker\":{\"color\":\"#FF6692\",\"size\":[12],\"sizemode\":\"area\",\"sizeref\":0.18,\"symbol\":\"circle\"},\"mode\":\"markers\",\"name\":\"Finland\",\"showlegend\":true,\"type\":\"scattergeo\"},{\"geo\":\"geo\",\"hovertemplate\":\"Country=%{location}\\u003cbr\\u003evaluation_billions=%{marker.size}\\u003cextra\\u003e\\u003c\\u002fextra\\u003e\",\"legendgroup\":\"Ireland\",\"locationmode\":\"country names\",\"locations\":[\"Ireland\"],\"marker\":{\"color\":\"#B6E880\",\"size\":[9],\"sizemode\":\"area\",\"sizeref\":0.18,\"symbol\":\"circle\"},\"mode\":\"markers\",\"name\":\"Ireland\",\"showlegend\":true,\"type\":\"scattergeo\"},{\"geo\":\"geo\",\"hovertemplate\":\"Country=%{location}\\u003cbr\\u003evaluation_billions=%{marker.size}\\u003cextra\\u003e\\u003c\\u002fextra\\u003e\",\"legendgroup\":\"Switzerland\",\"locationmode\":\"country names\",\"locations\":[\"Switzerland\"],\"marker\":{\"color\":\"#FF97FF\",\"size\":[8],\"sizemode\":\"area\",\"sizeref\":0.18,\"symbol\":\"circle\"},\"mode\":\"markers\",\"name\":\"Switzerland\",\"showlegend\":true,\"type\":\"scattergeo\"},{\"geo\":\"geo\",\"hovertemplate\":\"Country=%{location}\\u003cbr\\u003evaluation_billions=%{marker.size}\\u003cextra\\u003e\\u003c\\u002fextra\\u003e\",\"legendgroup\":\"Japan\",\"locationmode\":\"country names\",\"locations\":[\"Japan\"],\"marker\":{\"color\":\"#FECB52\",\"size\":[8],\"sizemode\":\"area\",\"sizeref\":0.18,\"symbol\":\"circle\"},\"mode\":\"markers\",\"name\":\"Japan\",\"showlegend\":true,\"type\":\"scattergeo\"},{\"geo\":\"geo\",\"hovertemplate\":\"Country=%{location}\\u003cbr\\u003evaluation_billions=%{marker.size}\\u003cextra\\u003e\\u003c\\u002fextra\\u003e\",\"legendgroup\":\"Belgium\",\"locationmode\":\"country names\",\"locations\":[\"Belgium\"],\"marker\":{\"color\":\"#636efa\",\"size\":[8],\"sizemode\":\"area\",\"sizeref\":0.18,\"symbol\":\"circle\"},\"mode\":\"markers\",\"name\":\"Belgium\",\"showlegend\":true,\"type\":\"scattergeo\"},{\"geo\":\"geo\",\"hovertemplate\":\"Country=%{location}\\u003cbr\\u003evaluation_billions=%{marker.size}\\u003cextra\\u003e\\u003c\\u002fextra\\u003e\",\"legendgroup\":\"Denmark\",\"locationmode\":\"country names\",\"locations\":[\"Denmark\"],\"marker\":{\"color\":\"#EF553B\",\"size\":[7],\"sizemode\":\"area\",\"sizeref\":0.18,\"symbol\":\"circle\"},\"mode\":\"markers\",\"name\":\"Denmark\",\"showlegend\":true,\"type\":\"scattergeo\"},{\"geo\":\"geo\",\"hovertemplate\":\"Country=%{location}\\u003cbr\\u003evaluation_billions=%{marker.size}\\u003cextra\\u003e\\u003c\\u002fextra\\u003e\",\"legendgroup\":\"Austria\",\"locationmode\":\"country names\",\"locations\":[\"Austria\"],\"marker\":{\"color\":\"#00cc96\",\"size\":[7],\"sizemode\":\"area\",\"sizeref\":0.18,\"symbol\":\"circle\"},\"mode\":\"markers\",\"name\":\"Austria\",\"showlegend\":true,\"type\":\"scattergeo\"},{\"geo\":\"geo\",\"hovertemplate\":\"Country=%{location}\\u003cbr\\u003evaluation_billions=%{marker.size}\\u003cextra\\u003e\\u003c\\u002fextra\\u003e\",\"legendgroup\":\"Colombia\",\"locationmode\":\"country names\",\"locations\":[\"Colombia\"],\"marker\":{\"color\":\"#ab63fa\",\"size\":[6],\"sizemode\":\"area\",\"sizeref\":0.18,\"symbol\":\"circle\"},\"mode\":\"markers\",\"name\":\"Colombia\",\"showlegend\":true,\"type\":\"scattergeo\"},{\"geo\":\"geo\",\"hovertemplate\":\"Country=%{location}\\u003cbr\\u003evaluation_billions=%{marker.size}\\u003cextra\\u003e\\u003c\\u002fextra\\u003e\",\"legendgroup\":\"Norway\",\"locationmode\":\"country names\",\"locations\":[\"Norway\"],\"marker\":{\"color\":\"#FFA15A\",\"size\":[5],\"sizemode\":\"area\",\"sizeref\":0.18,\"symbol\":\"circle\"},\"mode\":\"markers\",\"name\":\"Norway\",\"showlegend\":true,\"type\":\"scattergeo\"},{\"geo\":\"geo\",\"hovertemplate\":\"Country=%{location}\\u003cbr\\u003evaluation_billions=%{marker.size}\\u003cextra\\u003e\\u003c\\u002fextra\\u003e\",\"legendgroup\":\"Vietnam\",\"locationmode\":\"country names\",\"locations\":[\"Vietnam\"],\"marker\":{\"color\":\"#19d3f3\",\"size\":[5],\"sizemode\":\"area\",\"sizeref\":0.18,\"symbol\":\"circle\"},\"mode\":\"markers\",\"name\":\"Vietnam\",\"showlegend\":true,\"type\":\"scattergeo\"},{\"geo\":\"geo\",\"hovertemplate\":\"Country=%{location}\\u003cbr\\u003evaluation_billions=%{marker.size}\\u003cextra\\u003e\\u003c\\u002fextra\\u003e\",\"legendgroup\":\"Lithuania\",\"locationmode\":\"country names\",\"locations\":[\"Lithuania\"],\"marker\":{\"color\":\"#FF6692\",\"size\":[5],\"sizemode\":\"area\",\"sizeref\":0.18,\"symbol\":\"circle\"},\"mode\":\"markers\",\"name\":\"Lithuania\",\"showlegend\":true,\"type\":\"scattergeo\"},{\"geo\":\"geo\",\"hovertemplate\":\"Country=%{location}\\u003cbr\\u003evaluation_billions=%{marker.size}\\u003cextra\\u003e\\u003c\\u002fextra\\u003e\",\"legendgroup\":\"United Arab Emirates\",\"locationmode\":\"country names\",\"locations\":[\"United Arab Emirates\"],\"marker\":{\"color\":\"#B6E880\",\"size\":[5],\"sizemode\":\"area\",\"sizeref\":0.18,\"symbol\":\"circle\"},\"mode\":\"markers\",\"name\":\"United Arab Emirates\",\"showlegend\":true,\"type\":\"scattergeo\"},{\"geo\":\"geo\",\"hovertemplate\":\"Country=%{location}\\u003cbr\\u003evaluation_billions=%{marker.size}\\u003cextra\\u003e\\u003c\\u002fextra\\u003e\",\"legendgroup\":\"Spain\",\"locationmode\":\"country names\",\"locations\":[\"Spain\"],\"marker\":{\"color\":\"#FF97FF\",\"size\":[4],\"sizemode\":\"area\",\"sizeref\":0.18,\"symbol\":\"circle\"},\"mode\":\"markers\",\"name\":\"Spain\",\"showlegend\":true,\"type\":\"scattergeo\"},{\"geo\":\"geo\",\"hovertemplate\":\"Country=%{location}\\u003cbr\\u003evaluation_billions=%{marker.size}\\u003cextra\\u003e\\u003c\\u002fextra\\u003e\",\"legendgroup\":\"Chile\",\"locationmode\":\"country names\",\"locations\":[\"Chile\"],\"marker\":{\"color\":\"#FECB52\",\"size\":[3],\"sizemode\":\"area\",\"sizeref\":0.18,\"symbol\":\"circle\"},\"mode\":\"markers\",\"name\":\"Chile\",\"showlegend\":true,\"type\":\"scattergeo\"},{\"geo\":\"geo\",\"hovertemplate\":\"Country=%{location}\\u003cbr\\u003evaluation_billions=%{marker.size}\\u003cextra\\u003e\\u003c\\u002fextra\\u003e\",\"legendgroup\":\"Philippines\",\"locationmode\":\"country names\",\"locations\":[\"Philippines\"],\"marker\":{\"color\":\"#636efa\",\"size\":[3],\"sizemode\":\"area\",\"sizeref\":0.18,\"symbol\":\"circle\"},\"mode\":\"markers\",\"name\":\"Philippines\",\"showlegend\":true,\"type\":\"scattergeo\"},{\"geo\":\"geo\",\"hovertemplate\":\"Country=%{location}\\u003cbr\\u003evaluation_billions=%{marker.size}\\u003cextra\\u003e\\u003c\\u002fextra\\u003e\",\"legendgroup\":\"South Africa\",\"locationmode\":\"country names\",\"locations\":[\"South Africa\"],\"marker\":{\"color\":\"#EF553B\",\"size\":[3],\"sizemode\":\"area\",\"sizeref\":0.18,\"symbol\":\"circle\"},\"mode\":\"markers\",\"name\":\"South Africa\",\"showlegend\":true,\"type\":\"scattergeo\"},{\"geo\":\"geo\",\"hovertemplate\":\"Country=%{location}\\u003cbr\\u003evaluation_billions=%{marker.size}\\u003cextra\\u003e\\u003c\\u002fextra\\u003e\",\"legendgroup\":\"Thailand\",\"locationmode\":\"country names\",\"locations\":[\"Thailand\"],\"marker\":{\"color\":\"#00cc96\",\"size\":[3],\"sizemode\":\"area\",\"sizeref\":0.18,\"symbol\":\"circle\"},\"mode\":\"markers\",\"name\":\"Thailand\",\"showlegend\":true,\"type\":\"scattergeo\"},{\"geo\":\"geo\",\"hovertemplate\":\"Country=%{location}\\u003cbr\\u003evaluation_billions=%{marker.size}\\u003cextra\\u003e\\u003c\\u002fextra\\u003e\",\"legendgroup\":\"Argentina\",\"locationmode\":\"country names\",\"locations\":[\"Argentina\"],\"marker\":{\"color\":\"#ab63fa\",\"size\":[2],\"sizemode\":\"area\",\"sizeref\":0.18,\"symbol\":\"circle\"},\"mode\":\"markers\",\"name\":\"Argentina\",\"showlegend\":true,\"type\":\"scattergeo\"},{\"geo\":\"geo\",\"hovertemplate\":\"Country=%{location}\\u003cbr\\u003evaluation_billions=%{marker.size}\\u003cextra\\u003e\\u003c\\u002fextra\\u003e\",\"legendgroup\":\"Senegal\",\"locationmode\":\"country names\",\"locations\":[\"Senegal\"],\"marker\":{\"color\":\"#FFA15A\",\"size\":[2],\"sizemode\":\"area\",\"sizeref\":0.18,\"symbol\":\"circle\"},\"mode\":\"markers\",\"name\":\"Senegal\",\"showlegend\":true,\"type\":\"scattergeo\"},{\"geo\":\"geo\",\"hovertemplate\":\"Country=%{location}\\u003cbr\\u003evaluation_billions=%{marker.size}\\u003cextra\\u003e\\u003c\\u002fextra\\u003e\",\"legendgroup\":\"Nigeria\",\"locationmode\":\"country names\",\"locations\":[\"Nigeria\"],\"marker\":{\"color\":\"#19d3f3\",\"size\":[2],\"sizemode\":\"area\",\"sizeref\":0.18,\"symbol\":\"circle\"},\"mode\":\"markers\",\"name\":\"Nigeria\",\"showlegend\":true,\"type\":\"scattergeo\"},{\"geo\":\"geo\",\"hovertemplate\":\"Country=%{location}\\u003cbr\\u003evaluation_billions=%{marker.size}\\u003cextra\\u003e\\u003c\\u002fextra\\u003e\",\"legendgroup\":\"Malaysia\",\"locationmode\":\"country names\",\"locations\":[\"Malaysia\"],\"marker\":{\"color\":\"#FF6692\",\"size\":[2],\"sizemode\":\"area\",\"sizeref\":0.18,\"symbol\":\"circle\"},\"mode\":\"markers\",\"name\":\"Malaysia\",\"showlegend\":true,\"type\":\"scattergeo\"},{\"geo\":\"geo\",\"hovertemplate\":\"Country=%{location}\\u003cbr\\u003evaluation_billions=%{marker.size}\\u003cextra\\u003e\\u003c\\u002fextra\\u003e\",\"legendgroup\":\"Luxembourg\",\"locationmode\":\"country names\",\"locations\":[\"Luxembourg\"],\"marker\":{\"color\":\"#B6E880\",\"size\":[2],\"sizemode\":\"area\",\"sizeref\":0.18,\"symbol\":\"circle\"},\"mode\":\"markers\",\"name\":\"Luxembourg\",\"showlegend\":true,\"type\":\"scattergeo\"},{\"geo\":\"geo\",\"hovertemplate\":\"Country=%{location}\\u003cbr\\u003evaluation_billions=%{marker.size}\\u003cextra\\u003e\\u003c\\u002fextra\\u003e\",\"legendgroup\":\"Bermuda\",\"locationmode\":\"country names\",\"locations\":[\"Bermuda\"],\"marker\":{\"color\":\"#FF97FF\",\"size\":[2],\"sizemode\":\"area\",\"sizeref\":0.18,\"symbol\":\"circle\"},\"mode\":\"markers\",\"name\":\"Bermuda\",\"showlegend\":true,\"type\":\"scattergeo\"},{\"geo\":\"geo\",\"hovertemplate\":\"Country=%{location}\\u003cbr\\u003evaluation_billions=%{marker.size}\\u003cextra\\u003e\\u003c\\u002fextra\\u003e\",\"legendgroup\":\"Czech Republic\",\"locationmode\":\"country names\",\"locations\":[\"Czech Republic\"],\"marker\":{\"color\":\"#FECB52\",\"size\":[1],\"sizemode\":\"area\",\"sizeref\":0.18,\"symbol\":\"circle\"},\"mode\":\"markers\",\"name\":\"Czech Republic\",\"showlegend\":true,\"type\":\"scattergeo\"},{\"geo\":\"geo\",\"hovertemplate\":\"Country=%{location}\\u003cbr\\u003evaluation_billions=%{marker.size}\\u003cextra\\u003e\\u003c\\u002fextra\\u003e\",\"legendgroup\":\"Croatia\",\"locationmode\":\"country names\",\"locations\":[\"Croatia\"],\"marker\":{\"color\":\"#636efa\",\"size\":[1],\"sizemode\":\"area\",\"sizeref\":0.18,\"symbol\":\"circle\"},\"mode\":\"markers\",\"name\":\"Croatia\",\"showlegend\":true,\"type\":\"scattergeo\"},{\"geo\":\"geo\",\"hovertemplate\":\"Country=%{location}\\u003cbr\\u003evaluation_billions=%{marker.size}\\u003cextra\\u003e\\u003c\\u002fextra\\u003e\",\"legendgroup\":\"Italy\",\"locationmode\":\"country names\",\"locations\":[\"Italy\"],\"marker\":{\"color\":\"#EF553B\",\"size\":[1],\"sizemode\":\"area\",\"sizeref\":0.18,\"symbol\":\"circle\"},\"mode\":\"markers\",\"name\":\"Italy\",\"showlegend\":true,\"type\":\"scattergeo\"}],                        {\"template\":{\"data\":{\"histogram2dcontour\":[{\"type\":\"histogram2dcontour\",\"colorbar\":{\"outlinewidth\":0,\"ticks\":\"\"},\"colorscale\":[[0.0,\"#0d0887\"],[0.1111111111111111,\"#46039f\"],[0.2222222222222222,\"#7201a8\"],[0.3333333333333333,\"#9c179e\"],[0.4444444444444444,\"#bd3786\"],[0.5555555555555556,\"#d8576b\"],[0.6666666666666666,\"#ed7953\"],[0.7777777777777778,\"#fb9f3a\"],[0.8888888888888888,\"#fdca26\"],[1.0,\"#f0f921\"]]}],\"choropleth\":[{\"type\":\"choropleth\",\"colorbar\":{\"outlinewidth\":0,\"ticks\":\"\"}}],\"histogram2d\":[{\"type\":\"histogram2d\",\"colorbar\":{\"outlinewidth\":0,\"ticks\":\"\"},\"colorscale\":[[0.0,\"#0d0887\"],[0.1111111111111111,\"#46039f\"],[0.2222222222222222,\"#7201a8\"],[0.3333333333333333,\"#9c179e\"],[0.4444444444444444,\"#bd3786\"],[0.5555555555555556,\"#d8576b\"],[0.6666666666666666,\"#ed7953\"],[0.7777777777777778,\"#fb9f3a\"],[0.8888888888888888,\"#fdca26\"],[1.0,\"#f0f921\"]]}],\"heatmap\":[{\"type\":\"heatmap\",\"colorbar\":{\"outlinewidth\":0,\"ticks\":\"\"},\"colorscale\":[[0.0,\"#0d0887\"],[0.1111111111111111,\"#46039f\"],[0.2222222222222222,\"#7201a8\"],[0.3333333333333333,\"#9c179e\"],[0.4444444444444444,\"#bd3786\"],[0.5555555555555556,\"#d8576b\"],[0.6666666666666666,\"#ed7953\"],[0.7777777777777778,\"#fb9f3a\"],[0.8888888888888888,\"#fdca26\"],[1.0,\"#f0f921\"]]}],\"heatmapgl\":[{\"type\":\"heatmapgl\",\"colorbar\":{\"outlinewidth\":0,\"ticks\":\"\"},\"colorscale\":[[0.0,\"#0d0887\"],[0.1111111111111111,\"#46039f\"],[0.2222222222222222,\"#7201a8\"],[0.3333333333333333,\"#9c179e\"],[0.4444444444444444,\"#bd3786\"],[0.5555555555555556,\"#d8576b\"],[0.6666666666666666,\"#ed7953\"],[0.7777777777777778,\"#fb9f3a\"],[0.8888888888888888,\"#fdca26\"],[1.0,\"#f0f921\"]]}],\"contourcarpet\":[{\"type\":\"contourcarpet\",\"colorbar\":{\"outlinewidth\":0,\"ticks\":\"\"}}],\"contour\":[{\"type\":\"contour\",\"colorbar\":{\"outlinewidth\":0,\"ticks\":\"\"},\"colorscale\":[[0.0,\"#0d0887\"],[0.1111111111111111,\"#46039f\"],[0.2222222222222222,\"#7201a8\"],[0.3333333333333333,\"#9c179e\"],[0.4444444444444444,\"#bd3786\"],[0.5555555555555556,\"#d8576b\"],[0.6666666666666666,\"#ed7953\"],[0.7777777777777778,\"#fb9f3a\"],[0.8888888888888888,\"#fdca26\"],[1.0,\"#f0f921\"]]}],\"surface\":[{\"type\":\"surface\",\"colorbar\":{\"outlinewidth\":0,\"ticks\":\"\"},\"colorscale\":[[0.0,\"#0d0887\"],[0.1111111111111111,\"#46039f\"],[0.2222222222222222,\"#7201a8\"],[0.3333333333333333,\"#9c179e\"],[0.4444444444444444,\"#bd3786\"],[0.5555555555555556,\"#d8576b\"],[0.6666666666666666,\"#ed7953\"],[0.7777777777777778,\"#fb9f3a\"],[0.8888888888888888,\"#fdca26\"],[1.0,\"#f0f921\"]]}],\"mesh3d\":[{\"type\":\"mesh3d\",\"colorbar\":{\"outlinewidth\":0,\"ticks\":\"\"}}],\"scatter\":[{\"fillpattern\":{\"fillmode\":\"overlay\",\"size\":10,\"solidity\":0.2},\"type\":\"scatter\"}],\"parcoords\":[{\"type\":\"parcoords\",\"line\":{\"colorbar\":{\"outlinewidth\":0,\"ticks\":\"\"}}}],\"scatterpolargl\":[{\"type\":\"scatterpolargl\",\"marker\":{\"colorbar\":{\"outlinewidth\":0,\"ticks\":\"\"}}}],\"bar\":[{\"error_x\":{\"color\":\"#2a3f5f\"},\"error_y\":{\"color\":\"#2a3f5f\"},\"marker\":{\"line\":{\"color\":\"#E5ECF6\",\"width\":0.5},\"pattern\":{\"fillmode\":\"overlay\",\"size\":10,\"solidity\":0.2}},\"type\":\"bar\"}],\"scattergeo\":[{\"type\":\"scattergeo\",\"marker\":{\"colorbar\":{\"outlinewidth\":0,\"ticks\":\"\"}}}],\"scatterpolar\":[{\"type\":\"scatterpolar\",\"marker\":{\"colorbar\":{\"outlinewidth\":0,\"ticks\":\"\"}}}],\"histogram\":[{\"marker\":{\"pattern\":{\"fillmode\":\"overlay\",\"size\":10,\"solidity\":0.2}},\"type\":\"histogram\"}],\"scattergl\":[{\"type\":\"scattergl\",\"marker\":{\"colorbar\":{\"outlinewidth\":0,\"ticks\":\"\"}}}],\"scatter3d\":[{\"type\":\"scatter3d\",\"line\":{\"colorbar\":{\"outlinewidth\":0,\"ticks\":\"\"}},\"marker\":{\"colorbar\":{\"outlinewidth\":0,\"ticks\":\"\"}}}],\"scattermapbox\":[{\"type\":\"scattermapbox\",\"marker\":{\"colorbar\":{\"outlinewidth\":0,\"ticks\":\"\"}}}],\"scatterternary\":[{\"type\":\"scatterternary\",\"marker\":{\"colorbar\":{\"outlinewidth\":0,\"ticks\":\"\"}}}],\"scattercarpet\":[{\"type\":\"scattercarpet\",\"marker\":{\"colorbar\":{\"outlinewidth\":0,\"ticks\":\"\"}}}],\"carpet\":[{\"aaxis\":{\"endlinecolor\":\"#2a3f5f\",\"gridcolor\":\"white\",\"linecolor\":\"white\",\"minorgridcolor\":\"white\",\"startlinecolor\":\"#2a3f5f\"},\"baxis\":{\"endlinecolor\":\"#2a3f5f\",\"gridcolor\":\"white\",\"linecolor\":\"white\",\"minorgridcolor\":\"white\",\"startlinecolor\":\"#2a3f5f\"},\"type\":\"carpet\"}],\"table\":[{\"cells\":{\"fill\":{\"color\":\"#EBF0F8\"},\"line\":{\"color\":\"white\"}},\"header\":{\"fill\":{\"color\":\"#C8D4E3\"},\"line\":{\"color\":\"white\"}},\"type\":\"table\"}],\"barpolar\":[{\"marker\":{\"line\":{\"color\":\"#E5ECF6\",\"width\":0.5},\"pattern\":{\"fillmode\":\"overlay\",\"size\":10,\"solidity\":0.2}},\"type\":\"barpolar\"}],\"pie\":[{\"automargin\":true,\"type\":\"pie\"}]},\"layout\":{\"autotypenumbers\":\"strict\",\"colorway\":[\"#636efa\",\"#EF553B\",\"#00cc96\",\"#ab63fa\",\"#FFA15A\",\"#19d3f3\",\"#FF6692\",\"#B6E880\",\"#FF97FF\",\"#FECB52\"],\"font\":{\"color\":\"#2a3f5f\"},\"hovermode\":\"closest\",\"hoverlabel\":{\"align\":\"left\"},\"paper_bgcolor\":\"white\",\"plot_bgcolor\":\"#E5ECF6\",\"polar\":{\"bgcolor\":\"#E5ECF6\",\"angularaxis\":{\"gridcolor\":\"white\",\"linecolor\":\"white\",\"ticks\":\"\"},\"radialaxis\":{\"gridcolor\":\"white\",\"linecolor\":\"white\",\"ticks\":\"\"}},\"ternary\":{\"bgcolor\":\"#E5ECF6\",\"aaxis\":{\"gridcolor\":\"white\",\"linecolor\":\"white\",\"ticks\":\"\"},\"baxis\":{\"gridcolor\":\"white\",\"linecolor\":\"white\",\"ticks\":\"\"},\"caxis\":{\"gridcolor\":\"white\",\"linecolor\":\"white\",\"ticks\":\"\"}},\"coloraxis\":{\"colorbar\":{\"outlinewidth\":0,\"ticks\":\"\"}},\"colorscale\":{\"sequential\":[[0.0,\"#0d0887\"],[0.1111111111111111,\"#46039f\"],[0.2222222222222222,\"#7201a8\"],[0.3333333333333333,\"#9c179e\"],[0.4444444444444444,\"#bd3786\"],[0.5555555555555556,\"#d8576b\"],[0.6666666666666666,\"#ed7953\"],[0.7777777777777778,\"#fb9f3a\"],[0.8888888888888888,\"#fdca26\"],[1.0,\"#f0f921\"]],\"sequentialminus\":[[0.0,\"#0d0887\"],[0.1111111111111111,\"#46039f\"],[0.2222222222222222,\"#7201a8\"],[0.3333333333333333,\"#9c179e\"],[0.4444444444444444,\"#bd3786\"],[0.5555555555555556,\"#d8576b\"],[0.6666666666666666,\"#ed7953\"],[0.7777777777777778,\"#fb9f3a\"],[0.8888888888888888,\"#fdca26\"],[1.0,\"#f0f921\"]],\"diverging\":[[0,\"#8e0152\"],[0.1,\"#c51b7d\"],[0.2,\"#de77ae\"],[0.3,\"#f1b6da\"],[0.4,\"#fde0ef\"],[0.5,\"#f7f7f7\"],[0.6,\"#e6f5d0\"],[0.7,\"#b8e186\"],[0.8,\"#7fbc41\"],[0.9,\"#4d9221\"],[1,\"#276419\"]]},\"xaxis\":{\"gridcolor\":\"white\",\"linecolor\":\"white\",\"ticks\":\"\",\"title\":{\"standoff\":15},\"zerolinecolor\":\"white\",\"automargin\":true,\"zerolinewidth\":2},\"yaxis\":{\"gridcolor\":\"white\",\"linecolor\":\"white\",\"ticks\":\"\",\"title\":{\"standoff\":15},\"zerolinecolor\":\"white\",\"automargin\":true,\"zerolinewidth\":2},\"scene\":{\"xaxis\":{\"backgroundcolor\":\"#E5ECF6\",\"gridcolor\":\"white\",\"linecolor\":\"white\",\"showbackground\":true,\"ticks\":\"\",\"zerolinecolor\":\"white\",\"gridwidth\":2},\"yaxis\":{\"backgroundcolor\":\"#E5ECF6\",\"gridcolor\":\"white\",\"linecolor\":\"white\",\"showbackground\":true,\"ticks\":\"\",\"zerolinecolor\":\"white\",\"gridwidth\":2},\"zaxis\":{\"backgroundcolor\":\"#E5ECF6\",\"gridcolor\":\"white\",\"linecolor\":\"white\",\"showbackground\":true,\"ticks\":\"\",\"zerolinecolor\":\"white\",\"gridwidth\":2}},\"shapedefaults\":{\"line\":{\"color\":\"#2a3f5f\"}},\"annotationdefaults\":{\"arrowcolor\":\"#2a3f5f\",\"arrowhead\":0,\"arrowwidth\":1},\"geo\":{\"bgcolor\":\"white\",\"landcolor\":\"#E5ECF6\",\"subunitcolor\":\"white\",\"showland\":true,\"showlakes\":true,\"lakecolor\":\"white\"},\"title\":{\"x\":0.05},\"mapbox\":{\"style\":\"light\"}}},\"geo\":{\"domain\":{\"x\":[0.0,1.0],\"y\":[0.0,1.0]},\"center\":{}},\"legend\":{\"title\":{\"text\":\"Country\"},\"tracegroupgap\":0,\"itemsizing\":\"constant\"},\"title\":{\"text\":\"Total company valuations by country (non-big-four)\"}},                        {\"responsive\": true}                    ).then(function(){\n",
       "                            \n",
       "var gd = document.getElementById('30f7da9e-4c2f-4bca-b554-5ee0c622c24b');\n",
       "var x = new MutationObserver(function (mutations, observer) {{\n",
       "        var display = window.getComputedStyle(gd).display;\n",
       "        if (!display || display === 'none') {{\n",
       "            console.log([gd, 'removed!']);\n",
       "            Plotly.purge(gd);\n",
       "            observer.disconnect();\n",
       "        }}\n",
       "}});\n",
       "\n",
       "// Listen for the removal of the full notebook cells\n",
       "var notebookContainer = gd.closest('#notebook-container');\n",
       "if (notebookContainer) {{\n",
       "    x.observe(notebookContainer, {childList: true});\n",
       "}}\n",
       "\n",
       "// Listen for the clearing of the current output cell\n",
       "var outputEl = gd.closest('.output');\n",
       "if (outputEl) {{\n",
       "    x.observe(outputEl, {childList: true});\n",
       "}}\n",
       "\n",
       "                        })                };                });            </script>        </div>"
      ]
     },
     "metadata": {},
     "output_type": "display_data"
    }
   ],
   "source": [
    "# Plot the sum of valuations per country.\n",
    "\n",
    "data = national_valuations_no_big4\n",
    "\n",
    "px.scatter_geo(data, \n",
    "               locations='Country', \n",
    "               size='valuation_billions', \n",
    "               locationmode='country names', \n",
    "               color='Country',\n",
    "               title='Total company valuations by country (non-big-four)')"
   ]
  },
  {
   "cell_type": "markdown",
   "id": "afdef10b",
   "metadata": {
    "papermill": {
     "duration": 0.026069,
     "end_time": "2024-01-10T18:26:39.083555",
     "exception": false,
     "start_time": "2024-01-10T18:26:39.057486",
     "status": "completed"
    },
    "tags": []
   },
   "source": [
    "**Question: How is the valuation sum per country visualized in the plot?**\n",
    "- Valuation sum per country is visualized by the size of circles around the map."
   ]
  },
  {
   "cell_type": "markdown",
   "id": "6ce40bd9",
   "metadata": {
    "papermill": {
     "duration": 0.02663,
     "end_time": "2024-01-10T18:26:39.137018",
     "exception": false,
     "start_time": "2024-01-10T18:26:39.110388",
     "status": "completed"
    },
    "tags": []
   },
   "source": [
    "**Question: Does any region stand out as having a lot of activity?**\n",
    "- Europe has a lot of unicorn companies in a concentrated area."
   ]
  },
  {
   "cell_type": "code",
   "execution_count": 33,
   "id": "dcd81e63",
   "metadata": {
    "execution": {
     "iopub.execute_input": "2024-01-10T18:26:39.190986Z",
     "iopub.status.busy": "2024-01-10T18:26:39.189974Z",
     "iopub.status.idle": "2024-01-10T18:26:39.195402Z",
     "shell.execute_reply": "2024-01-10T18:26:39.194543Z"
    },
    "papermill": {
     "duration": 0.034019,
     "end_time": "2024-01-10T18:26:39.197065",
     "exception": false,
     "start_time": "2024-01-10T18:26:39.163046",
     "status": "completed"
    },
    "tags": []
   },
   "outputs": [],
   "source": [
    "companies['Years To Unicorn'] = companies['Date Joined'].dt.year - companies['Year Founded']"
   ]
  },
  {
   "cell_type": "markdown",
   "id": "0a802ce4",
   "metadata": {
    "papermill": {
     "duration": 0.0253,
     "end_time": "2024-01-10T18:26:39.248266",
     "exception": false,
     "start_time": "2024-01-10T18:26:39.222966",
     "status": "completed"
    },
    "tags": []
   },
   "source": [
    "**QUESTION: Why might your client be interested in how quickly a company achieved unicorn status?**\n",
    "\n",
    "Learning how quickly a company achieves unicorn status may reveal certain trends or commonalities. Your client could leverage this information to find future companies to invest in."
   ]
  },
  {
   "cell_type": "markdown",
   "id": "1bd61634",
   "metadata": {
    "papermill": {
     "duration": 0.025139,
     "end_time": "2024-01-10T18:26:39.298946",
     "exception": false,
     "start_time": "2024-01-10T18:26:39.273807",
     "status": "completed"
    },
    "tags": []
   },
   "source": [
    "### Input validation\n",
    "\n",
    "The data has some issues with bad data, duplicate rows, and inconsistent `Industry` labels.\n",
    "\n",
    "Follow the steps below to identify and correct each of these issues."
   ]
  },
  {
   "cell_type": "markdown",
   "id": "14b2d607",
   "metadata": {
    "papermill": {
     "duration": 0.025351,
     "end_time": "2024-01-10T18:26:39.351591",
     "exception": false,
     "start_time": "2024-01-10T18:26:39.326240",
     "status": "completed"
    },
    "tags": []
   },
   "source": [
    "#### Correcting bad data\n",
    "\n",
    "Get descriptive statistics for the `Years To Unicorn` column."
   ]
  },
  {
   "cell_type": "code",
   "execution_count": 34,
   "id": "14255bb4",
   "metadata": {
    "execution": {
     "iopub.execute_input": "2024-01-10T18:26:39.404085Z",
     "iopub.status.busy": "2024-01-10T18:26:39.403801Z",
     "iopub.status.idle": "2024-01-10T18:26:39.412089Z",
     "shell.execute_reply": "2024-01-10T18:26:39.411227Z"
    },
    "papermill": {
     "duration": 0.036912,
     "end_time": "2024-01-10T18:26:39.413870",
     "exception": false,
     "start_time": "2024-01-10T18:26:39.376958",
     "status": "completed"
    },
    "tags": []
   },
   "outputs": [
    {
     "data": {
      "text/plain": [
       "count    1074.000000\n",
       "mean        7.000931\n",
       "std         5.329672\n",
       "min        -4.000000\n",
       "25%         4.000000\n",
       "50%         6.000000\n",
       "75%         9.000000\n",
       "max        98.000000\n",
       "Name: Years To Unicorn, dtype: float64"
      ]
     },
     "execution_count": 34,
     "metadata": {},
     "output_type": "execute_result"
    }
   ],
   "source": [
    "companies['Years To Unicorn'].describe()"
   ]
  },
  {
   "cell_type": "markdown",
   "id": "71f06269",
   "metadata": {
    "papermill": {
     "duration": 0.024312,
     "end_time": "2024-01-10T18:26:39.463341",
     "exception": false,
     "start_time": "2024-01-10T18:26:39.439029",
     "status": "completed"
    },
    "tags": []
   },
   "source": [
    "Isolate all rows where the `Years To Unicorn` column contains a negative value."
   ]
  },
  {
   "cell_type": "code",
   "execution_count": 35,
   "id": "f7975137",
   "metadata": {
    "execution": {
     "iopub.execute_input": "2024-01-10T18:26:39.514086Z",
     "iopub.status.busy": "2024-01-10T18:26:39.513761Z",
     "iopub.status.idle": "2024-01-10T18:26:39.526580Z",
     "shell.execute_reply": "2024-01-10T18:26:39.525777Z"
    },
    "papermill": {
     "duration": 0.040826,
     "end_time": "2024-01-10T18:26:39.528596",
     "exception": false,
     "start_time": "2024-01-10T18:26:39.487770",
     "status": "completed"
    },
    "tags": []
   },
   "outputs": [
    {
     "data": {
      "text/html": [
       "<div>\n",
       "<style scoped>\n",
       "    .dataframe tbody tr th:only-of-type {\n",
       "        vertical-align: middle;\n",
       "    }\n",
       "\n",
       "    .dataframe tbody tr th {\n",
       "        vertical-align: top;\n",
       "    }\n",
       "\n",
       "    .dataframe thead th {\n",
       "        text-align: right;\n",
       "    }\n",
       "</style>\n",
       "<table border=\"1\" class=\"dataframe\">\n",
       "  <thead>\n",
       "    <tr style=\"text-align: right;\">\n",
       "      <th></th>\n",
       "      <th>Company</th>\n",
       "      <th>Valuation</th>\n",
       "      <th>Date Joined</th>\n",
       "      <th>Industry</th>\n",
       "      <th>City</th>\n",
       "      <th>Country</th>\n",
       "      <th>Continent</th>\n",
       "      <th>Year Founded</th>\n",
       "      <th>Funding</th>\n",
       "      <th>Select Investors</th>\n",
       "      <th>Year Joined</th>\n",
       "      <th>valuation_billions</th>\n",
       "      <th>Years To Unicorn</th>\n",
       "    </tr>\n",
       "  </thead>\n",
       "  <tbody>\n",
       "    <tr>\n",
       "      <th>714</th>\n",
       "      <td>Yidian Zixun</td>\n",
       "      <td>$1B</td>\n",
       "      <td>2017-10-17</td>\n",
       "      <td>Mobile &amp; telecommunications</td>\n",
       "      <td>Beijing</td>\n",
       "      <td>China</td>\n",
       "      <td>Asia</td>\n",
       "      <td>2021</td>\n",
       "      <td>$151M</td>\n",
       "      <td>Phoenix New Media, Tianjin Haihe Industry Fund</td>\n",
       "      <td>2017</td>\n",
       "      <td>1</td>\n",
       "      <td>-4</td>\n",
       "    </tr>\n",
       "  </tbody>\n",
       "</table>\n",
       "</div>"
      ],
      "text/plain": [
       "          Company Valuation Date Joined                     Industry     City  \\\n",
       "714  Yidian Zixun       $1B  2017-10-17  Mobile & telecommunications  Beijing   \n",
       "\n",
       "    Country Continent  Year Founded Funding  \\\n",
       "714   China      Asia          2021   $151M   \n",
       "\n",
       "                                   Select Investors  Year Joined  \\\n",
       "714  Phoenix New Media, Tianjin Haihe Industry Fund         2017   \n",
       "\n",
       "     valuation_billions  Years To Unicorn  \n",
       "714                   1                -4  "
      ]
     },
     "execution_count": 35,
     "metadata": {},
     "output_type": "execute_result"
    }
   ],
   "source": [
    "# Isolate any rows where `Years To Unicorn` is negative\n",
    "\n",
    "companies[companies['Years To Unicorn'] < 0]"
   ]
  },
  {
   "cell_type": "markdown",
   "id": "c086f429",
   "metadata": {
    "papermill": {
     "duration": 0.025545,
     "end_time": "2024-01-10T18:26:39.581233",
     "exception": false,
     "start_time": "2024-01-10T18:26:39.555688",
     "status": "completed"
    },
    "tags": []
   },
   "source": [
    "**Question: How many rows have negative values in the `Years To Unicorn` column, and what companies are they for?**\n",
    "\n",
    "- There is a single row that has a negative value in the `Years To Unicorn` column. The company represented in this row is Yidian Zixun."
   ]
  },
  {
   "cell_type": "markdown",
   "id": "a5dc57e0",
   "metadata": {
    "papermill": {
     "duration": 0.025625,
     "end_time": "2024-01-10T18:26:39.632674",
     "exception": false,
     "start_time": "2024-01-10T18:26:39.607049",
     "status": "completed"
    },
    "tags": []
   },
   "source": [
    "An internet search reveals that Yidian Zixun was founded in 2013. Replace the value at Year Founded with 2013 for Yidian Zixun's row."
   ]
  },
  {
   "cell_type": "code",
   "execution_count": 36,
   "id": "1596e3ac",
   "metadata": {
    "execution": {
     "iopub.execute_input": "2024-01-10T18:26:39.687197Z",
     "iopub.status.busy": "2024-01-10T18:26:39.686421Z",
     "iopub.status.idle": "2024-01-10T18:26:39.699398Z",
     "shell.execute_reply": "2024-01-10T18:26:39.698798Z"
    },
    "papermill": {
     "duration": 0.042083,
     "end_time": "2024-01-10T18:26:39.700849",
     "exception": false,
     "start_time": "2024-01-10T18:26:39.658766",
     "status": "completed"
    },
    "tags": []
   },
   "outputs": [
    {
     "data": {
      "text/html": [
       "<div>\n",
       "<style scoped>\n",
       "    .dataframe tbody tr th:only-of-type {\n",
       "        vertical-align: middle;\n",
       "    }\n",
       "\n",
       "    .dataframe tbody tr th {\n",
       "        vertical-align: top;\n",
       "    }\n",
       "\n",
       "    .dataframe thead th {\n",
       "        text-align: right;\n",
       "    }\n",
       "</style>\n",
       "<table border=\"1\" class=\"dataframe\">\n",
       "  <thead>\n",
       "    <tr style=\"text-align: right;\">\n",
       "      <th></th>\n",
       "      <th>Company</th>\n",
       "      <th>Valuation</th>\n",
       "      <th>Date Joined</th>\n",
       "      <th>Industry</th>\n",
       "      <th>City</th>\n",
       "      <th>Country</th>\n",
       "      <th>Continent</th>\n",
       "      <th>Year Founded</th>\n",
       "      <th>Funding</th>\n",
       "      <th>Select Investors</th>\n",
       "      <th>Year Joined</th>\n",
       "      <th>valuation_billions</th>\n",
       "      <th>Years To Unicorn</th>\n",
       "    </tr>\n",
       "  </thead>\n",
       "  <tbody>\n",
       "    <tr>\n",
       "      <th>714</th>\n",
       "      <td>Yidian Zixun</td>\n",
       "      <td>$1B</td>\n",
       "      <td>2017-10-17</td>\n",
       "      <td>Mobile &amp; telecommunications</td>\n",
       "      <td>Beijing</td>\n",
       "      <td>China</td>\n",
       "      <td>Asia</td>\n",
       "      <td>2013</td>\n",
       "      <td>$151M</td>\n",
       "      <td>Phoenix New Media, Tianjin Haihe Industry Fund</td>\n",
       "      <td>2017</td>\n",
       "      <td>1</td>\n",
       "      <td>-4</td>\n",
       "    </tr>\n",
       "  </tbody>\n",
       "</table>\n",
       "</div>"
      ],
      "text/plain": [
       "          Company Valuation Date Joined                     Industry     City  \\\n",
       "714  Yidian Zixun       $1B  2017-10-17  Mobile & telecommunications  Beijing   \n",
       "\n",
       "    Country Continent  Year Founded Funding  \\\n",
       "714   China      Asia          2013   $151M   \n",
       "\n",
       "                                   Select Investors  Year Joined  \\\n",
       "714  Phoenix New Media, Tianjin Haihe Industry Fund         2017   \n",
       "\n",
       "     valuation_billions  Years To Unicorn  \n",
       "714                   1                -4  "
      ]
     },
     "execution_count": 36,
     "metadata": {},
     "output_type": "execute_result"
    }
   ],
   "source": [
    "# Replace InVision's `Year Founded` value with 2013\n",
    "\n",
    "### YOUR CODE HERE ###\n",
    "companies.loc[companies['Company']=='Yidian Zixun', 'Year Founded'] = 2013\n",
    "# Verify the change was made properly\n",
    "\n",
    "companies[companies['Company']=='Yidian Zixun']"
   ]
  },
  {
   "cell_type": "markdown",
   "id": "12d2082a",
   "metadata": {
    "papermill": {
     "duration": 0.025878,
     "end_time": "2024-01-10T18:26:39.753250",
     "exception": false,
     "start_time": "2024-01-10T18:26:39.727372",
     "status": "completed"
    },
    "tags": []
   },
   "source": [
    "Now, recalculate all the values in the `Years To Unicorn` column to remove the negative value for InVision. Verify that there are no more negative values afterwards."
   ]
  },
  {
   "cell_type": "code",
   "execution_count": 37,
   "id": "9d7cbc36",
   "metadata": {
    "execution": {
     "iopub.execute_input": "2024-01-10T18:26:39.805104Z",
     "iopub.status.busy": "2024-01-10T18:26:39.804730Z",
     "iopub.status.idle": "2024-01-10T18:26:39.815026Z",
     "shell.execute_reply": "2024-01-10T18:26:39.814331Z"
    },
    "papermill": {
     "duration": 0.038368,
     "end_time": "2024-01-10T18:26:39.816846",
     "exception": false,
     "start_time": "2024-01-10T18:26:39.778478",
     "status": "completed"
    },
    "tags": []
   },
   "outputs": [
    {
     "data": {
      "text/plain": [
       "count    1074.000000\n",
       "mean        7.008380\n",
       "std         5.319864\n",
       "min         0.000000\n",
       "25%         4.000000\n",
       "50%         6.000000\n",
       "75%         9.000000\n",
       "max        98.000000\n",
       "Name: Years To Unicorn, dtype: float64"
      ]
     },
     "execution_count": 37,
     "metadata": {},
     "output_type": "execute_result"
    }
   ],
   "source": [
    "# Recalculate all values in the `Years To Unicorn` column\n",
    "\n",
    "companies['Years To Unicorn'] = companies['Date Joined'].dt.year - companies['Year Founded']\n",
    "\n",
    "# Verify that there are no more negative values in the column\n",
    "\n",
    "companies['Years To Unicorn'].describe()"
   ]
  },
  {
   "cell_type": "markdown",
   "id": "db049f5a",
   "metadata": {
    "papermill": {
     "duration": 0.02718,
     "end_time": "2024-01-10T18:26:39.872676",
     "exception": false,
     "start_time": "2024-01-10T18:26:39.845496",
     "status": "completed"
    },
    "tags": []
   },
   "source": [
    "#### Issues with `Industry` labels\n",
    "\n",
    "The company provided you with the following list of industry labels to identify in the data for `Industry`. \n",
    "\n",
    "**Note:** Any labels in the `Industry` column that are not in `industry_list` are misspellings."
   ]
  },
  {
   "cell_type": "code",
   "execution_count": 38,
   "id": "947550c2",
   "metadata": {
    "execution": {
     "iopub.execute_input": "2024-01-10T18:26:39.929219Z",
     "iopub.status.busy": "2024-01-10T18:26:39.928516Z",
     "iopub.status.idle": "2024-01-10T18:26:39.933422Z",
     "shell.execute_reply": "2024-01-10T18:26:39.932561Z"
    },
    "papermill": {
     "duration": 0.035152,
     "end_time": "2024-01-10T18:26:39.935147",
     "exception": false,
     "start_time": "2024-01-10T18:26:39.899995",
     "status": "completed"
    },
    "tags": []
   },
   "outputs": [],
   "source": [
    "# List provided by the company of the expected industry labels in the data\n",
    "industry_list = ['Artificial intelligence', 'Other','E-commerce & direct-to-consumer', 'Fintech',\\\n",
    "       'Internet software & services','Supply chain, logistics, & delivery', 'Consumer & retail',\\\n",
    "       'Data management & analytics', 'Edtech', 'Health', 'Hardware','Auto & transportation', \\\n",
    "        'Travel', 'Cybersecurity','Mobile & telecommunications']"
   ]
  },
  {
   "cell_type": "markdown",
   "id": "3fa98e7f",
   "metadata": {
    "papermill": {
     "duration": 0.027532,
     "end_time": "2024-01-10T18:26:39.990096",
     "exception": false,
     "start_time": "2024-01-10T18:26:39.962564",
     "status": "completed"
    },
    "tags": []
   },
   "source": [
    "First, check if there are values in the `Industry` column that are not in `industry_list`. If so, what are they?"
   ]
  },
  {
   "cell_type": "code",
   "execution_count": 39,
   "id": "455785f8",
   "metadata": {
    "execution": {
     "iopub.execute_input": "2024-01-10T18:26:40.046704Z",
     "iopub.status.busy": "2024-01-10T18:26:40.046373Z",
     "iopub.status.idle": "2024-01-10T18:26:40.052561Z",
     "shell.execute_reply": "2024-01-10T18:26:40.051719Z"
    },
    "papermill": {
     "duration": 0.036679,
     "end_time": "2024-01-10T18:26:40.054407",
     "exception": false,
     "start_time": "2024-01-10T18:26:40.017728",
     "status": "completed"
    },
    "tags": []
   },
   "outputs": [
    {
     "data": {
      "text/plain": [
       "{'Artificial Intelligence'}"
      ]
     },
     "execution_count": 39,
     "metadata": {},
     "output_type": "execute_result"
    }
   ],
   "source": [
    "# Check which values are in `Industry` but not in `industry_list` \n",
    "\n",
    "set(companies['Industry']) - set(industry_list)"
   ]
  },
  {
   "cell_type": "markdown",
   "id": "0d36aed2",
   "metadata": {
    "papermill": {
     "duration": 0.027265,
     "end_time": "2024-01-10T18:26:40.108956",
     "exception": false,
     "start_time": "2024-01-10T18:26:40.081691",
     "status": "completed"
    },
    "tags": []
   },
   "source": [
    "**Question: Which values currently exist in the `Industry` column that are not in `industry_list`?**\n",
    "\n",
    "- `'Artificial Intelligence' are misspellings that are currently in the `Industry` column."
   ]
  },
  {
   "cell_type": "markdown",
   "id": "fa35dd1c",
   "metadata": {
    "papermill": {
     "duration": 0.02587,
     "end_time": "2024-01-10T18:26:40.162213",
     "exception": false,
     "start_time": "2024-01-10T18:26:40.136343",
     "status": "completed"
    },
    "tags": []
   },
   "source": [
    "1. Create a dictionary called `replacement_dict` whose keys are the incorrect spellings in the `Industry` series and whose values are the correct spelling, as indicated in `industry_list`.\n",
    "\n",
    "2. Call the `replace()` method on the `Industry` series and pass to it `replacement_dict` as its argument. Reassign the result back to the `Industry` column.\n",
    "\n",
    "3. Verify that there are no longer any elements in `Industry` that are not in `industry_list`."
   ]
  },
  {
   "cell_type": "code",
   "execution_count": 40,
   "id": "fae39314",
   "metadata": {
    "execution": {
     "iopub.execute_input": "2024-01-10T18:26:40.216078Z",
     "iopub.status.busy": "2024-01-10T18:26:40.215281Z",
     "iopub.status.idle": "2024-01-10T18:26:40.222409Z",
     "shell.execute_reply": "2024-01-10T18:26:40.221799Z"
    },
    "papermill": {
     "duration": 0.035884,
     "end_time": "2024-01-10T18:26:40.224057",
     "exception": false,
     "start_time": "2024-01-10T18:26:40.188173",
     "status": "completed"
    },
    "tags": []
   },
   "outputs": [
    {
     "data": {
      "text/plain": [
       "set()"
      ]
     },
     "execution_count": 40,
     "metadata": {},
     "output_type": "execute_result"
    }
   ],
   "source": [
    "# 1. Create `replacement_dict`\n",
    "\n",
    "### YOUR CODE HERE ###\n",
    "replacement_dict = {'Artificial Intelligence': 'Artificial intelligence',\n",
    "                   \n",
    "                   }\n",
    "\n",
    "# 2. Replace the incorrect values in the `Industry` column\n",
    "\n",
    "\n",
    "companies['Industry'] = companies['Industry'].replace(replacement_dict)\n",
    "\n",
    "# 3. Verify that there are no longer any elements in `Industry` that are not in `industry_list`\n",
    "\n",
    "set(companies['Industry']) - set(industry_list)"
   ]
  },
  {
   "cell_type": "markdown",
   "id": "983aa49e",
   "metadata": {
    "papermill": {
     "duration": 0.026053,
     "end_time": "2024-01-10T18:26:40.276615",
     "exception": false,
     "start_time": "2024-01-10T18:26:40.250562",
     "status": "completed"
    },
    "tags": []
   },
   "source": [
    "#### Handling duplicate rows\n",
    "\n",
    "The business mentioned that no company should appear in the data more than once.\n",
    "\n",
    "Verify that this is indeed the case, and if not, clean the data so each company appears only once.\n",
    "\n",
    "Begin by checking which, if any, companies are duplicated. Filter the data to return all occurrences of those duplicated companies."
   ]
  },
  {
   "cell_type": "code",
   "execution_count": 41,
   "id": "cb8ee347",
   "metadata": {
    "execution": {
     "iopub.execute_input": "2024-01-10T18:26:40.332239Z",
     "iopub.status.busy": "2024-01-10T18:26:40.331629Z",
     "iopub.status.idle": "2024-01-10T18:26:40.345281Z",
     "shell.execute_reply": "2024-01-10T18:26:40.344411Z"
    },
    "papermill": {
     "duration": 0.046506,
     "end_time": "2024-01-10T18:26:40.349470",
     "exception": false,
     "start_time": "2024-01-10T18:26:40.302964",
     "status": "completed"
    },
    "tags": []
   },
   "outputs": [
    {
     "data": {
      "text/html": [
       "<div>\n",
       "<style scoped>\n",
       "    .dataframe tbody tr th:only-of-type {\n",
       "        vertical-align: middle;\n",
       "    }\n",
       "\n",
       "    .dataframe tbody tr th {\n",
       "        vertical-align: top;\n",
       "    }\n",
       "\n",
       "    .dataframe thead th {\n",
       "        text-align: right;\n",
       "    }\n",
       "</style>\n",
       "<table border=\"1\" class=\"dataframe\">\n",
       "  <thead>\n",
       "    <tr style=\"text-align: right;\">\n",
       "      <th></th>\n",
       "      <th>Company</th>\n",
       "      <th>Valuation</th>\n",
       "      <th>Date Joined</th>\n",
       "      <th>Industry</th>\n",
       "      <th>City</th>\n",
       "      <th>Country</th>\n",
       "      <th>Continent</th>\n",
       "      <th>Year Founded</th>\n",
       "      <th>Funding</th>\n",
       "      <th>Select Investors</th>\n",
       "      <th>Year Joined</th>\n",
       "      <th>valuation_billions</th>\n",
       "      <th>Years To Unicorn</th>\n",
       "    </tr>\n",
       "  </thead>\n",
       "  <tbody>\n",
       "    <tr>\n",
       "      <th>40</th>\n",
       "      <td>Bolt</td>\n",
       "      <td>$11B</td>\n",
       "      <td>2018-05-29</td>\n",
       "      <td>Auto &amp; transportation</td>\n",
       "      <td>Tallinn</td>\n",
       "      <td>Estonia</td>\n",
       "      <td>Europe</td>\n",
       "      <td>2013</td>\n",
       "      <td>$1B</td>\n",
       "      <td>Didi Chuxing, Diamler, TMT Investments</td>\n",
       "      <td>2018</td>\n",
       "      <td>11</td>\n",
       "      <td>5</td>\n",
       "    </tr>\n",
       "    <tr>\n",
       "      <th>44</th>\n",
       "      <td>Bolt</td>\n",
       "      <td>$11B</td>\n",
       "      <td>2021-10-08</td>\n",
       "      <td>Fintech</td>\n",
       "      <td>San Francisco</td>\n",
       "      <td>United States</td>\n",
       "      <td>North America</td>\n",
       "      <td>2014</td>\n",
       "      <td>$1B</td>\n",
       "      <td>Activant Capital, Tribe Capital, General Atlantic</td>\n",
       "      <td>2021</td>\n",
       "      <td>11</td>\n",
       "      <td>7</td>\n",
       "    </tr>\n",
       "  </tbody>\n",
       "</table>\n",
       "</div>"
      ],
      "text/plain": [
       "   Company Valuation Date Joined               Industry           City  \\\n",
       "40    Bolt      $11B  2018-05-29  Auto & transportation        Tallinn   \n",
       "44    Bolt      $11B  2021-10-08                Fintech  San Francisco   \n",
       "\n",
       "          Country      Continent  Year Founded Funding  \\\n",
       "40        Estonia         Europe          2013     $1B   \n",
       "44  United States  North America          2014     $1B   \n",
       "\n",
       "                                     Select Investors  Year Joined  \\\n",
       "40             Didi Chuxing, Diamler, TMT Investments         2018   \n",
       "44  Activant Capital, Tribe Capital, General Atlantic         2021   \n",
       "\n",
       "    valuation_billions  Years To Unicorn  \n",
       "40                  11                 5  \n",
       "44                  11                 7  "
      ]
     },
     "execution_count": 41,
     "metadata": {},
     "output_type": "execute_result"
    }
   ],
   "source": [
    "# Isolate rows of all companies that have duplicates\n",
    "\n",
    "companies[companies.duplicated(subset=['Company'], keep=False)]"
   ]
  },
  {
   "cell_type": "markdown",
   "id": "91fea81d",
   "metadata": {
    "papermill": {
     "duration": 0.026042,
     "end_time": "2024-01-10T18:26:40.403221",
     "exception": false,
     "start_time": "2024-01-10T18:26:40.377179",
     "status": "completed"
    },
    "tags": []
   },
   "source": [
    "**Question: Do these duplicated companies seem like legitimate data points, or are they problematic data?**\n",
    "\n",
    "- The duplicated companies are not legitimate because they are clearly not different companies with the same name. They are the same company represented twice with minor variation."
   ]
  },
  {
   "cell_type": "code",
   "execution_count": 42,
   "id": "43b3ae8b",
   "metadata": {
    "execution": {
     "iopub.execute_input": "2024-01-10T18:26:40.456766Z",
     "iopub.status.busy": "2024-01-10T18:26:40.456187Z",
     "iopub.status.idle": "2024-01-10T18:26:40.461320Z",
     "shell.execute_reply": "2024-01-10T18:26:40.460765Z"
    },
    "papermill": {
     "duration": 0.033858,
     "end_time": "2024-01-10T18:26:40.462938",
     "exception": false,
     "start_time": "2024-01-10T18:26:40.429080",
     "status": "completed"
    },
    "tags": []
   },
   "outputs": [],
   "source": [
    "# Drop rows of duplicate companies after their first occurrence\n",
    "\n",
    "companies = companies.drop_duplicates(subset=['Company'], keep='first')"
   ]
  },
  {
   "cell_type": "markdown",
   "id": "ef2e28ac",
   "metadata": {
    "papermill": {
     "duration": 0.035496,
     "end_time": "2024-01-10T18:26:40.525032",
     "exception": false,
     "start_time": "2024-01-10T18:26:40.489536",
     "status": "completed"
    },
    "tags": []
   },
   "source": [
    "**Question: Why is it important to perform input validation?**\n",
    "\n",
    "Input validation is an essential practice for ensuring data is complete, error-free, and high quality. A low-quality dataset may lend itself to an analysis that is incorrect or misleading."
   ]
  },
  {
   "cell_type": "markdown",
   "id": "cd7b2851",
   "metadata": {
    "papermill": {
     "duration": 0.025987,
     "end_time": "2024-01-10T18:26:40.583119",
     "exception": false,
     "start_time": "2024-01-10T18:26:40.557132",
     "status": "completed"
    },
    "tags": []
   },
   "source": [
    "**Question: What steps did you take to perform input validation for this dataset?**\r\n",
    "\r\n",
    " The input validation steps for this lab included:\r\n",
    " \r\n",
    " * Fixing incorrect values\r\n",
    " * Correcting inconsistencies in the data\r\n",
    " * Removing duplicate data"
   ]
  },
  {
   "cell_type": "markdown",
   "id": "85bac1a4",
   "metadata": {
    "papermill": {
     "duration": 0.025568,
     "end_time": "2024-01-10T18:26:40.634648",
     "exception": false,
     "start_time": "2024-01-10T18:26:40.609080",
     "status": "completed"
    },
    "tags": []
   },
   "source": [
    "### Convert numerical data to categorical data\n",
    "\n",
    "Sometimes, you'll want to simplify a numeric column by converting it to a categorical column. To do this, one common approach is to break the range of possible values into a defined number of equally sized bins and assign each bin a name. In the next step, you'll practice this process."
   ]
  },
  {
   "cell_type": "markdown",
   "id": "26da47f9",
   "metadata": {
    "papermill": {
     "duration": 0.027964,
     "end_time": "2024-01-10T18:26:40.689246",
     "exception": false,
     "start_time": "2024-01-10T18:26:40.661282",
     "status": "completed"
    },
    "tags": []
   },
   "source": [
    "#### Create a `High Valuation` column\n",
    "\n",
    "The data in the `Valuation` column represents how much money (in billions, USD) each company is valued at. Use the `Valuation` column to create a new column called `High Valuation`. For each company, the value in this column should be `low` if the company is in the bottom 50% of company valuations and `high` if the company is in the top 50%."
   ]
  },
  {
   "cell_type": "code",
   "execution_count": 43,
   "id": "db092574",
   "metadata": {
    "execution": {
     "iopub.execute_input": "2024-01-10T18:26:40.743259Z",
     "iopub.status.busy": "2024-01-10T18:26:40.742646Z",
     "iopub.status.idle": "2024-01-10T18:26:40.749477Z",
     "shell.execute_reply": "2024-01-10T18:26:40.748817Z"
    },
    "papermill": {
     "duration": 0.036075,
     "end_time": "2024-01-10T18:26:40.751408",
     "exception": false,
     "start_time": "2024-01-10T18:26:40.715333",
     "status": "completed"
    },
    "tags": []
   },
   "outputs": [],
   "source": [
    "# Create new `High Valuation` column\n",
    "\n",
    "# Use qcut to divide Valuation into 'high' and 'low' Valuation groups\n",
    "companies['High Valuation'] = pd.qcut(companies['valuation_billions'], 2, labels = ['low', 'high'])"
   ]
  },
  {
   "cell_type": "markdown",
   "id": "80a58ec2",
   "metadata": {
    "papermill": {
     "duration": 0.030453,
     "end_time": "2024-01-10T18:26:40.812298",
     "exception": false,
     "start_time": "2024-01-10T18:26:40.781845",
     "status": "completed"
    },
    "tags": []
   },
   "source": [
    "### Convert categorical data to numerical data\n",
    "\n",
    "Three common methods for changing categorical data to numerical are:\n",
    "\n",
    "1. Label encoding: order matters (ordinal numeric labels)\n",
    "2. Label encoding: order doesn't matter (nominal numeric labels)\n",
    "3. Dummy encoding: order doesn't matter (creation of binary columns for each possible category contained in the variable)\n",
    "\n",
    "The decision on which method to use depends on the context and must be made on a case-to-case basis. However, a distinction is typically made between categorical variables with equal weight given to all possible categories vs. variables with a hierarchical structure of importance to their possible categories.  \n",
    "\n",
    "For example, a variable called `subject` might have possible values of `history`, `mathematics`, `literature`. In this case, each subject might be **nominal**&mdash;given the same level of importance. However, you might have another variable called `class`, whose possible values are `freshman`, `sophomore`, `junior`, `senior`. In this case, the class variable is **ordinal**&mdash;its values have an ordered, hierarchical structure of importance. \n",
    "\n",
    "Machine learning models typically need all data to be numeric, and they generally use ordinal label encoding (method 1) and dummy encoding (method 3). \n",
    "\n",
    "In the next steps, you'll convert the following variables: `Continent`, `Country`, and `Industry`, each using a different approach."
   ]
  },
  {
   "cell_type": "markdown",
   "id": "d98f6208",
   "metadata": {
    "papermill": {
     "duration": 0.027392,
     "end_time": "2024-01-10T18:26:40.867574",
     "exception": false,
     "start_time": "2024-01-10T18:26:40.840182",
     "status": "completed"
    },
    "tags": []
   },
   "source": [
    "### Convert `Continent` to numeric\n",
    "\n",
    "For the purposes of this exercise, suppose that the investment group has specified that they want to give more weight to continents with fewer unicorn companies because they believe this could indicate unrealized market potential. "
   ]
  },
  {
   "cell_type": "markdown",
   "id": "3dbeba90",
   "metadata": {
    "papermill": {
     "duration": 0.027225,
     "end_time": "2024-01-10T18:26:40.922093",
     "exception": false,
     "start_time": "2024-01-10T18:26:40.894868",
     "status": "completed"
    },
    "tags": []
   },
   "source": [
    "**Question: Which type of variable would this make the `Continent` variable in terms of how it would be converted to a numeric data type?**\n",
    "\n",
    "* This would make `Continent` an ordinal variable, since more importance is placed on continents with fewer unicorn companies. There is a hierarchy of importance."
   ]
  },
  {
   "cell_type": "markdown",
   "id": "44efeeeb",
   "metadata": {
    "papermill": {
     "duration": 0.026222,
     "end_time": "2024-01-10T18:26:40.975207",
     "exception": false,
     "start_time": "2024-01-10T18:26:40.948985",
     "status": "completed"
    },
    "tags": []
   },
   "source": [
    "Rank the continents in descending order from the greatest number of unicorn companies to the least."
   ]
  },
  {
   "cell_type": "code",
   "execution_count": 44,
   "id": "29e5d436",
   "metadata": {
    "execution": {
     "iopub.execute_input": "2024-01-10T18:26:41.032576Z",
     "iopub.status.busy": "2024-01-10T18:26:41.032002Z",
     "iopub.status.idle": "2024-01-10T18:26:41.038535Z",
     "shell.execute_reply": "2024-01-10T18:26:41.037908Z"
    },
    "papermill": {
     "duration": 0.036705,
     "end_time": "2024-01-10T18:26:41.040149",
     "exception": false,
     "start_time": "2024-01-10T18:26:41.003444",
     "status": "completed"
    },
    "tags": []
   },
   "outputs": [
    {
     "data": {
      "text/plain": [
       "Continent\n",
       "North America    588\n",
       "Asia             310\n",
       "Europe           143\n",
       "South America     21\n",
       "Oceania            8\n",
       "Africa             3\n",
       "Name: count, dtype: int64"
      ]
     },
     "execution_count": 44,
     "metadata": {},
     "output_type": "execute_result"
    }
   ],
   "source": [
    "# Rank the continents by number of unicorn companies\n",
    "\n",
    "companies['Continent'].value_counts()"
   ]
  },
  {
   "cell_type": "markdown",
   "id": "d318069b",
   "metadata": {
    "papermill": {
     "duration": 0.028645,
     "end_time": "2024-01-10T18:26:41.095973",
     "exception": false,
     "start_time": "2024-01-10T18:26:41.067328",
     "status": "completed"
    },
    "tags": []
   },
   "source": [
    "Now, create a new column called `Continent Number` that represents the `Continent` column converted to numeric in the order of their number of unicorn companies, where North America is encoded as `1`, through Africa, encoded as `6`."
   ]
  },
  {
   "cell_type": "code",
   "execution_count": 45,
   "id": "f4481f84",
   "metadata": {
    "execution": {
     "iopub.execute_input": "2024-01-10T18:26:41.154125Z",
     "iopub.status.busy": "2024-01-10T18:26:41.153248Z",
     "iopub.status.idle": "2024-01-10T18:26:41.171176Z",
     "shell.execute_reply": "2024-01-10T18:26:41.170327Z"
    },
    "papermill": {
     "duration": 0.049327,
     "end_time": "2024-01-10T18:26:41.173010",
     "exception": false,
     "start_time": "2024-01-10T18:26:41.123683",
     "status": "completed"
    },
    "tags": []
   },
   "outputs": [
    {
     "data": {
      "text/html": [
       "<div>\n",
       "<style scoped>\n",
       "    .dataframe tbody tr th:only-of-type {\n",
       "        vertical-align: middle;\n",
       "    }\n",
       "\n",
       "    .dataframe tbody tr th {\n",
       "        vertical-align: top;\n",
       "    }\n",
       "\n",
       "    .dataframe thead th {\n",
       "        text-align: right;\n",
       "    }\n",
       "</style>\n",
       "<table border=\"1\" class=\"dataframe\">\n",
       "  <thead>\n",
       "    <tr style=\"text-align: right;\">\n",
       "      <th></th>\n",
       "      <th>Company</th>\n",
       "      <th>Valuation</th>\n",
       "      <th>Date Joined</th>\n",
       "      <th>Industry</th>\n",
       "      <th>City</th>\n",
       "      <th>Country</th>\n",
       "      <th>Continent</th>\n",
       "      <th>Year Founded</th>\n",
       "      <th>Funding</th>\n",
       "      <th>Select Investors</th>\n",
       "      <th>Year Joined</th>\n",
       "      <th>valuation_billions</th>\n",
       "      <th>Years To Unicorn</th>\n",
       "      <th>High Valuation</th>\n",
       "      <th>Continent Number</th>\n",
       "    </tr>\n",
       "  </thead>\n",
       "  <tbody>\n",
       "    <tr>\n",
       "      <th>0</th>\n",
       "      <td>Bytedance</td>\n",
       "      <td>$180B</td>\n",
       "      <td>2017-04-07</td>\n",
       "      <td>Artificial intelligence</td>\n",
       "      <td>Beijing</td>\n",
       "      <td>China</td>\n",
       "      <td>Asia</td>\n",
       "      <td>2012</td>\n",
       "      <td>$8B</td>\n",
       "      <td>Sequoia Capital China, SIG Asia Investments, S...</td>\n",
       "      <td>2017</td>\n",
       "      <td>180</td>\n",
       "      <td>5</td>\n",
       "      <td>high</td>\n",
       "      <td>2</td>\n",
       "    </tr>\n",
       "    <tr>\n",
       "      <th>1</th>\n",
       "      <td>SpaceX</td>\n",
       "      <td>$100B</td>\n",
       "      <td>2012-12-01</td>\n",
       "      <td>Other</td>\n",
       "      <td>Hawthorne</td>\n",
       "      <td>United States</td>\n",
       "      <td>North America</td>\n",
       "      <td>2002</td>\n",
       "      <td>$7B</td>\n",
       "      <td>Founders Fund, Draper Fisher Jurvetson, Rothen...</td>\n",
       "      <td>2012</td>\n",
       "      <td>100</td>\n",
       "      <td>10</td>\n",
       "      <td>high</td>\n",
       "      <td>1</td>\n",
       "    </tr>\n",
       "    <tr>\n",
       "      <th>2</th>\n",
       "      <td>SHEIN</td>\n",
       "      <td>$100B</td>\n",
       "      <td>2018-07-03</td>\n",
       "      <td>E-commerce &amp; direct-to-consumer</td>\n",
       "      <td>Shenzhen</td>\n",
       "      <td>China</td>\n",
       "      <td>Asia</td>\n",
       "      <td>2008</td>\n",
       "      <td>$2B</td>\n",
       "      <td>Tiger Global Management, Sequoia Capital China...</td>\n",
       "      <td>2018</td>\n",
       "      <td>100</td>\n",
       "      <td>10</td>\n",
       "      <td>high</td>\n",
       "      <td>2</td>\n",
       "    </tr>\n",
       "    <tr>\n",
       "      <th>3</th>\n",
       "      <td>Stripe</td>\n",
       "      <td>$95B</td>\n",
       "      <td>2014-01-23</td>\n",
       "      <td>Fintech</td>\n",
       "      <td>San Francisco</td>\n",
       "      <td>United States</td>\n",
       "      <td>North America</td>\n",
       "      <td>2010</td>\n",
       "      <td>$2B</td>\n",
       "      <td>Khosla Ventures, LowercaseCapital, capitalG</td>\n",
       "      <td>2014</td>\n",
       "      <td>95</td>\n",
       "      <td>4</td>\n",
       "      <td>high</td>\n",
       "      <td>1</td>\n",
       "    </tr>\n",
       "    <tr>\n",
       "      <th>4</th>\n",
       "      <td>Klarna</td>\n",
       "      <td>$46B</td>\n",
       "      <td>2011-12-12</td>\n",
       "      <td>Fintech</td>\n",
       "      <td>Stockholm</td>\n",
       "      <td>Sweden</td>\n",
       "      <td>Europe</td>\n",
       "      <td>2005</td>\n",
       "      <td>$4B</td>\n",
       "      <td>Institutional Venture Partners, Sequoia Capita...</td>\n",
       "      <td>2011</td>\n",
       "      <td>46</td>\n",
       "      <td>6</td>\n",
       "      <td>high</td>\n",
       "      <td>3</td>\n",
       "    </tr>\n",
       "  </tbody>\n",
       "</table>\n",
       "</div>"
      ],
      "text/plain": [
       "     Company Valuation Date Joined                         Industry  \\\n",
       "0  Bytedance     $180B  2017-04-07          Artificial intelligence   \n",
       "1     SpaceX     $100B  2012-12-01                            Other   \n",
       "2      SHEIN     $100B  2018-07-03  E-commerce & direct-to-consumer   \n",
       "3     Stripe      $95B  2014-01-23                          Fintech   \n",
       "4     Klarna      $46B  2011-12-12                          Fintech   \n",
       "\n",
       "            City        Country      Continent  Year Founded Funding  \\\n",
       "0        Beijing          China           Asia          2012     $8B   \n",
       "1      Hawthorne  United States  North America          2002     $7B   \n",
       "2       Shenzhen          China           Asia          2008     $2B   \n",
       "3  San Francisco  United States  North America          2010     $2B   \n",
       "4      Stockholm         Sweden         Europe          2005     $4B   \n",
       "\n",
       "                                    Select Investors  Year Joined  \\\n",
       "0  Sequoia Capital China, SIG Asia Investments, S...         2017   \n",
       "1  Founders Fund, Draper Fisher Jurvetson, Rothen...         2012   \n",
       "2  Tiger Global Management, Sequoia Capital China...         2018   \n",
       "3        Khosla Ventures, LowercaseCapital, capitalG         2014   \n",
       "4  Institutional Venture Partners, Sequoia Capita...         2011   \n",
       "\n",
       "   valuation_billions  Years To Unicorn High Valuation  Continent Number  \n",
       "0                 180                 5           high                 2  \n",
       "1                 100                10           high                 1  \n",
       "2                 100                10           high                 2  \n",
       "3                  95                 4           high                 1  \n",
       "4                  46                 6           high                 3  "
      ]
     },
     "execution_count": 45,
     "metadata": {},
     "output_type": "execute_result"
    }
   ],
   "source": [
    "# Create numeric `Continent Number` column\n",
    "\n",
    "continent_dict = {'North America': 1,\n",
    "                  'Asia': 2,\n",
    "                  'Europe': 3,\n",
    "                  'South America': 4,\n",
    "                  'Oceania': 5,\n",
    "                  'Africa': 6\n",
    "                 }\n",
    "companies['Continent Number'] = companies['Continent'].replace(continent_dict)\n",
    "companies.head()"
   ]
  },
  {
   "cell_type": "markdown",
   "id": "f239426a",
   "metadata": {
    "papermill": {
     "duration": 0.028694,
     "end_time": "2024-01-10T18:26:41.229355",
     "exception": false,
     "start_time": "2024-01-10T18:26:41.200661",
     "status": "completed"
    },
    "tags": []
   },
   "source": [
    "### Convert `Country` to numeric\n",
    "\n",
    "Now, suppose that within a given continent, each company's `Country` is given equal importance. For analytical purposes, you want to convert the values in this column to numeric without creating a large number of dummy columns. Use label encoding of this nominal categorical variable to create a new column called `Country Numeric`, wherein each unique `Country` is assigned its own number. "
   ]
  },
  {
   "cell_type": "code",
   "execution_count": 46,
   "id": "17d0449a",
   "metadata": {
    "execution": {
     "iopub.execute_input": "2024-01-10T18:26:41.286817Z",
     "iopub.status.busy": "2024-01-10T18:26:41.285923Z",
     "iopub.status.idle": "2024-01-10T18:26:41.291555Z",
     "shell.execute_reply": "2024-01-10T18:26:41.290956Z"
    },
    "papermill": {
     "duration": 0.036046,
     "end_time": "2024-01-10T18:26:41.293191",
     "exception": false,
     "start_time": "2024-01-10T18:26:41.257145",
     "status": "completed"
    },
    "tags": []
   },
   "outputs": [],
   "source": [
    "# Create `Country/Region Numeric` column\n",
    "\n",
    "### YOUR CODE HERE ###\n",
    "\n",
    "# Create numeric categories for Country/Region\n",
    "companies['Country_Numeric'] = companies['Country'].astype('category').cat.codes"
   ]
  },
  {
   "cell_type": "code",
   "execution_count": 47,
   "id": "8c0c0855",
   "metadata": {
    "execution": {
     "iopub.execute_input": "2024-01-10T18:26:41.352316Z",
     "iopub.status.busy": "2024-01-10T18:26:41.351787Z",
     "iopub.status.idle": "2024-01-10T18:26:41.366536Z",
     "shell.execute_reply": "2024-01-10T18:26:41.365632Z"
    },
    "papermill": {
     "duration": 0.046842,
     "end_time": "2024-01-10T18:26:41.368332",
     "exception": false,
     "start_time": "2024-01-10T18:26:41.321490",
     "status": "completed"
    },
    "tags": []
   },
   "outputs": [
    {
     "data": {
      "text/html": [
       "<div>\n",
       "<style scoped>\n",
       "    .dataframe tbody tr th:only-of-type {\n",
       "        vertical-align: middle;\n",
       "    }\n",
       "\n",
       "    .dataframe tbody tr th {\n",
       "        vertical-align: top;\n",
       "    }\n",
       "\n",
       "    .dataframe thead th {\n",
       "        text-align: right;\n",
       "    }\n",
       "</style>\n",
       "<table border=\"1\" class=\"dataframe\">\n",
       "  <thead>\n",
       "    <tr style=\"text-align: right;\">\n",
       "      <th></th>\n",
       "      <th>Company</th>\n",
       "      <th>Valuation</th>\n",
       "      <th>Date Joined</th>\n",
       "      <th>Industry</th>\n",
       "      <th>City</th>\n",
       "      <th>Country</th>\n",
       "      <th>Continent</th>\n",
       "      <th>Year Founded</th>\n",
       "      <th>Funding</th>\n",
       "      <th>Select Investors</th>\n",
       "      <th>Year Joined</th>\n",
       "      <th>valuation_billions</th>\n",
       "      <th>Years To Unicorn</th>\n",
       "      <th>High Valuation</th>\n",
       "      <th>Continent Number</th>\n",
       "      <th>Country_Numeric</th>\n",
       "    </tr>\n",
       "  </thead>\n",
       "  <tbody>\n",
       "    <tr>\n",
       "      <th>0</th>\n",
       "      <td>Bytedance</td>\n",
       "      <td>$180B</td>\n",
       "      <td>2017-04-07</td>\n",
       "      <td>Artificial intelligence</td>\n",
       "      <td>Beijing</td>\n",
       "      <td>China</td>\n",
       "      <td>Asia</td>\n",
       "      <td>2012</td>\n",
       "      <td>$8B</td>\n",
       "      <td>Sequoia Capital China, SIG Asia Investments, S...</td>\n",
       "      <td>2017</td>\n",
       "      <td>180</td>\n",
       "      <td>5</td>\n",
       "      <td>high</td>\n",
       "      <td>2</td>\n",
       "      <td>9</td>\n",
       "    </tr>\n",
       "    <tr>\n",
       "      <th>1</th>\n",
       "      <td>SpaceX</td>\n",
       "      <td>$100B</td>\n",
       "      <td>2012-12-01</td>\n",
       "      <td>Other</td>\n",
       "      <td>Hawthorne</td>\n",
       "      <td>United States</td>\n",
       "      <td>North America</td>\n",
       "      <td>2002</td>\n",
       "      <td>$7B</td>\n",
       "      <td>Founders Fund, Draper Fisher Jurvetson, Rothen...</td>\n",
       "      <td>2012</td>\n",
       "      <td>100</td>\n",
       "      <td>10</td>\n",
       "      <td>high</td>\n",
       "      <td>1</td>\n",
       "      <td>44</td>\n",
       "    </tr>\n",
       "    <tr>\n",
       "      <th>2</th>\n",
       "      <td>SHEIN</td>\n",
       "      <td>$100B</td>\n",
       "      <td>2018-07-03</td>\n",
       "      <td>E-commerce &amp; direct-to-consumer</td>\n",
       "      <td>Shenzhen</td>\n",
       "      <td>China</td>\n",
       "      <td>Asia</td>\n",
       "      <td>2008</td>\n",
       "      <td>$2B</td>\n",
       "      <td>Tiger Global Management, Sequoia Capital China...</td>\n",
       "      <td>2018</td>\n",
       "      <td>100</td>\n",
       "      <td>10</td>\n",
       "      <td>high</td>\n",
       "      <td>2</td>\n",
       "      <td>9</td>\n",
       "    </tr>\n",
       "    <tr>\n",
       "      <th>3</th>\n",
       "      <td>Stripe</td>\n",
       "      <td>$95B</td>\n",
       "      <td>2014-01-23</td>\n",
       "      <td>Fintech</td>\n",
       "      <td>San Francisco</td>\n",
       "      <td>United States</td>\n",
       "      <td>North America</td>\n",
       "      <td>2010</td>\n",
       "      <td>$2B</td>\n",
       "      <td>Khosla Ventures, LowercaseCapital, capitalG</td>\n",
       "      <td>2014</td>\n",
       "      <td>95</td>\n",
       "      <td>4</td>\n",
       "      <td>high</td>\n",
       "      <td>1</td>\n",
       "      <td>44</td>\n",
       "    </tr>\n",
       "    <tr>\n",
       "      <th>4</th>\n",
       "      <td>Klarna</td>\n",
       "      <td>$46B</td>\n",
       "      <td>2011-12-12</td>\n",
       "      <td>Fintech</td>\n",
       "      <td>Stockholm</td>\n",
       "      <td>Sweden</td>\n",
       "      <td>Europe</td>\n",
       "      <td>2005</td>\n",
       "      <td>$4B</td>\n",
       "      <td>Institutional Venture Partners, Sequoia Capita...</td>\n",
       "      <td>2011</td>\n",
       "      <td>46</td>\n",
       "      <td>6</td>\n",
       "      <td>high</td>\n",
       "      <td>3</td>\n",
       "      <td>38</td>\n",
       "    </tr>\n",
       "  </tbody>\n",
       "</table>\n",
       "</div>"
      ],
      "text/plain": [
       "     Company Valuation Date Joined                         Industry  \\\n",
       "0  Bytedance     $180B  2017-04-07          Artificial intelligence   \n",
       "1     SpaceX     $100B  2012-12-01                            Other   \n",
       "2      SHEIN     $100B  2018-07-03  E-commerce & direct-to-consumer   \n",
       "3     Stripe      $95B  2014-01-23                          Fintech   \n",
       "4     Klarna      $46B  2011-12-12                          Fintech   \n",
       "\n",
       "            City        Country      Continent  Year Founded Funding  \\\n",
       "0        Beijing          China           Asia          2012     $8B   \n",
       "1      Hawthorne  United States  North America          2002     $7B   \n",
       "2       Shenzhen          China           Asia          2008     $2B   \n",
       "3  San Francisco  United States  North America          2010     $2B   \n",
       "4      Stockholm         Sweden         Europe          2005     $4B   \n",
       "\n",
       "                                    Select Investors  Year Joined  \\\n",
       "0  Sequoia Capital China, SIG Asia Investments, S...         2017   \n",
       "1  Founders Fund, Draper Fisher Jurvetson, Rothen...         2012   \n",
       "2  Tiger Global Management, Sequoia Capital China...         2018   \n",
       "3        Khosla Ventures, LowercaseCapital, capitalG         2014   \n",
       "4  Institutional Venture Partners, Sequoia Capita...         2011   \n",
       "\n",
       "   valuation_billions  Years To Unicorn High Valuation  Continent Number  \\\n",
       "0                 180                 5           high                 2   \n",
       "1                 100                10           high                 1   \n",
       "2                 100                10           high                 2   \n",
       "3                  95                 4           high                 1   \n",
       "4                  46                 6           high                 3   \n",
       "\n",
       "   Country_Numeric  \n",
       "0                9  \n",
       "1               44  \n",
       "2                9  \n",
       "3               44  \n",
       "4               38  "
      ]
     },
     "execution_count": 47,
     "metadata": {},
     "output_type": "execute_result"
    }
   ],
   "source": [
    "companies.head()"
   ]
  },
  {
   "cell_type": "markdown",
   "id": "e2591976",
   "metadata": {
    "papermill": {
     "duration": 0.027575,
     "end_time": "2024-01-10T18:26:41.424400",
     "exception": false,
     "start_time": "2024-01-10T18:26:41.396825",
     "status": "completed"
    },
    "tags": []
   },
   "source": [
    "### Convert `Industry` to numeric\n",
    "\n",
    "Finally, create dummy variables for the values in the `Industry` column. "
   ]
  },
  {
   "cell_type": "code",
   "execution_count": 48,
   "id": "8bcf11b3",
   "metadata": {
    "execution": {
     "iopub.execute_input": "2024-01-10T18:26:41.481572Z",
     "iopub.status.busy": "2024-01-10T18:26:41.481232Z",
     "iopub.status.idle": "2024-01-10T18:26:41.487415Z",
     "shell.execute_reply": "2024-01-10T18:26:41.486678Z"
    },
    "papermill": {
     "duration": 0.036763,
     "end_time": "2024-01-10T18:26:41.489115",
     "exception": false,
     "start_time": "2024-01-10T18:26:41.452352",
     "status": "completed"
    },
    "tags": []
   },
   "outputs": [],
   "source": [
    "# Convert `Industry` to numeric data\n",
    "\n",
    "# Create dummy variables with Industry values\n",
    "industry_encoded = pd.get_dummies(companies['Industry'])\n",
    "\n",
    "# Combine `companies` DataFrame with new dummy Industry columns\n",
    "companies = pd.concat([companies, industry_encoded], axis=1)"
   ]
  },
  {
   "cell_type": "code",
   "execution_count": 49,
   "id": "90acf58d",
   "metadata": {
    "execution": {
     "iopub.execute_input": "2024-01-10T18:26:41.546507Z",
     "iopub.status.busy": "2024-01-10T18:26:41.546114Z",
     "iopub.status.idle": "2024-01-10T18:26:41.567742Z",
     "shell.execute_reply": "2024-01-10T18:26:41.566868Z"
    },
    "papermill": {
     "duration": 0.05238,
     "end_time": "2024-01-10T18:26:41.569355",
     "exception": false,
     "start_time": "2024-01-10T18:26:41.516975",
     "status": "completed"
    },
    "tags": []
   },
   "outputs": [
    {
     "data": {
      "text/html": [
       "<div>\n",
       "<style scoped>\n",
       "    .dataframe tbody tr th:only-of-type {\n",
       "        vertical-align: middle;\n",
       "    }\n",
       "\n",
       "    .dataframe tbody tr th {\n",
       "        vertical-align: top;\n",
       "    }\n",
       "\n",
       "    .dataframe thead th {\n",
       "        text-align: right;\n",
       "    }\n",
       "</style>\n",
       "<table border=\"1\" class=\"dataframe\">\n",
       "  <thead>\n",
       "    <tr style=\"text-align: right;\">\n",
       "      <th></th>\n",
       "      <th>Company</th>\n",
       "      <th>Valuation</th>\n",
       "      <th>Date Joined</th>\n",
       "      <th>Industry</th>\n",
       "      <th>City</th>\n",
       "      <th>Country</th>\n",
       "      <th>Continent</th>\n",
       "      <th>Year Founded</th>\n",
       "      <th>Funding</th>\n",
       "      <th>Select Investors</th>\n",
       "      <th>...</th>\n",
       "      <th>E-commerce &amp; direct-to-consumer</th>\n",
       "      <th>Edtech</th>\n",
       "      <th>Fintech</th>\n",
       "      <th>Hardware</th>\n",
       "      <th>Health</th>\n",
       "      <th>Internet software &amp; services</th>\n",
       "      <th>Mobile &amp; telecommunications</th>\n",
       "      <th>Other</th>\n",
       "      <th>Supply chain, logistics, &amp; delivery</th>\n",
       "      <th>Travel</th>\n",
       "    </tr>\n",
       "  </thead>\n",
       "  <tbody>\n",
       "    <tr>\n",
       "      <th>0</th>\n",
       "      <td>Bytedance</td>\n",
       "      <td>$180B</td>\n",
       "      <td>2017-04-07</td>\n",
       "      <td>Artificial intelligence</td>\n",
       "      <td>Beijing</td>\n",
       "      <td>China</td>\n",
       "      <td>Asia</td>\n",
       "      <td>2012</td>\n",
       "      <td>$8B</td>\n",
       "      <td>Sequoia Capital China, SIG Asia Investments, S...</td>\n",
       "      <td>...</td>\n",
       "      <td>False</td>\n",
       "      <td>False</td>\n",
       "      <td>False</td>\n",
       "      <td>False</td>\n",
       "      <td>False</td>\n",
       "      <td>False</td>\n",
       "      <td>False</td>\n",
       "      <td>False</td>\n",
       "      <td>False</td>\n",
       "      <td>False</td>\n",
       "    </tr>\n",
       "    <tr>\n",
       "      <th>1</th>\n",
       "      <td>SpaceX</td>\n",
       "      <td>$100B</td>\n",
       "      <td>2012-12-01</td>\n",
       "      <td>Other</td>\n",
       "      <td>Hawthorne</td>\n",
       "      <td>United States</td>\n",
       "      <td>North America</td>\n",
       "      <td>2002</td>\n",
       "      <td>$7B</td>\n",
       "      <td>Founders Fund, Draper Fisher Jurvetson, Rothen...</td>\n",
       "      <td>...</td>\n",
       "      <td>False</td>\n",
       "      <td>False</td>\n",
       "      <td>False</td>\n",
       "      <td>False</td>\n",
       "      <td>False</td>\n",
       "      <td>False</td>\n",
       "      <td>False</td>\n",
       "      <td>True</td>\n",
       "      <td>False</td>\n",
       "      <td>False</td>\n",
       "    </tr>\n",
       "    <tr>\n",
       "      <th>2</th>\n",
       "      <td>SHEIN</td>\n",
       "      <td>$100B</td>\n",
       "      <td>2018-07-03</td>\n",
       "      <td>E-commerce &amp; direct-to-consumer</td>\n",
       "      <td>Shenzhen</td>\n",
       "      <td>China</td>\n",
       "      <td>Asia</td>\n",
       "      <td>2008</td>\n",
       "      <td>$2B</td>\n",
       "      <td>Tiger Global Management, Sequoia Capital China...</td>\n",
       "      <td>...</td>\n",
       "      <td>True</td>\n",
       "      <td>False</td>\n",
       "      <td>False</td>\n",
       "      <td>False</td>\n",
       "      <td>False</td>\n",
       "      <td>False</td>\n",
       "      <td>False</td>\n",
       "      <td>False</td>\n",
       "      <td>False</td>\n",
       "      <td>False</td>\n",
       "    </tr>\n",
       "    <tr>\n",
       "      <th>3</th>\n",
       "      <td>Stripe</td>\n",
       "      <td>$95B</td>\n",
       "      <td>2014-01-23</td>\n",
       "      <td>Fintech</td>\n",
       "      <td>San Francisco</td>\n",
       "      <td>United States</td>\n",
       "      <td>North America</td>\n",
       "      <td>2010</td>\n",
       "      <td>$2B</td>\n",
       "      <td>Khosla Ventures, LowercaseCapital, capitalG</td>\n",
       "      <td>...</td>\n",
       "      <td>False</td>\n",
       "      <td>False</td>\n",
       "      <td>True</td>\n",
       "      <td>False</td>\n",
       "      <td>False</td>\n",
       "      <td>False</td>\n",
       "      <td>False</td>\n",
       "      <td>False</td>\n",
       "      <td>False</td>\n",
       "      <td>False</td>\n",
       "    </tr>\n",
       "    <tr>\n",
       "      <th>4</th>\n",
       "      <td>Klarna</td>\n",
       "      <td>$46B</td>\n",
       "      <td>2011-12-12</td>\n",
       "      <td>Fintech</td>\n",
       "      <td>Stockholm</td>\n",
       "      <td>Sweden</td>\n",
       "      <td>Europe</td>\n",
       "      <td>2005</td>\n",
       "      <td>$4B</td>\n",
       "      <td>Institutional Venture Partners, Sequoia Capita...</td>\n",
       "      <td>...</td>\n",
       "      <td>False</td>\n",
       "      <td>False</td>\n",
       "      <td>True</td>\n",
       "      <td>False</td>\n",
       "      <td>False</td>\n",
       "      <td>False</td>\n",
       "      <td>False</td>\n",
       "      <td>False</td>\n",
       "      <td>False</td>\n",
       "      <td>False</td>\n",
       "    </tr>\n",
       "  </tbody>\n",
       "</table>\n",
       "<p>5 rows × 31 columns</p>\n",
       "</div>"
      ],
      "text/plain": [
       "     Company Valuation Date Joined                         Industry  \\\n",
       "0  Bytedance     $180B  2017-04-07          Artificial intelligence   \n",
       "1     SpaceX     $100B  2012-12-01                            Other   \n",
       "2      SHEIN     $100B  2018-07-03  E-commerce & direct-to-consumer   \n",
       "3     Stripe      $95B  2014-01-23                          Fintech   \n",
       "4     Klarna      $46B  2011-12-12                          Fintech   \n",
       "\n",
       "            City        Country      Continent  Year Founded Funding  \\\n",
       "0        Beijing          China           Asia          2012     $8B   \n",
       "1      Hawthorne  United States  North America          2002     $7B   \n",
       "2       Shenzhen          China           Asia          2008     $2B   \n",
       "3  San Francisco  United States  North America          2010     $2B   \n",
       "4      Stockholm         Sweden         Europe          2005     $4B   \n",
       "\n",
       "                                    Select Investors  ...  \\\n",
       "0  Sequoia Capital China, SIG Asia Investments, S...  ...   \n",
       "1  Founders Fund, Draper Fisher Jurvetson, Rothen...  ...   \n",
       "2  Tiger Global Management, Sequoia Capital China...  ...   \n",
       "3        Khosla Ventures, LowercaseCapital, capitalG  ...   \n",
       "4  Institutional Venture Partners, Sequoia Capita...  ...   \n",
       "\n",
       "   E-commerce & direct-to-consumer  Edtech  Fintech Hardware  Health  \\\n",
       "0                            False   False    False    False   False   \n",
       "1                            False   False    False    False   False   \n",
       "2                             True   False    False    False   False   \n",
       "3                            False   False     True    False   False   \n",
       "4                            False   False     True    False   False   \n",
       "\n",
       "   Internet software & services  Mobile & telecommunications  Other  \\\n",
       "0                         False                        False  False   \n",
       "1                         False                        False   True   \n",
       "2                         False                        False  False   \n",
       "3                         False                        False  False   \n",
       "4                         False                        False  False   \n",
       "\n",
       "   Supply chain, logistics, & delivery  Travel  \n",
       "0                                False   False  \n",
       "1                                False   False  \n",
       "2                                False   False  \n",
       "3                                False   False  \n",
       "4                                False   False  \n",
       "\n",
       "[5 rows x 31 columns]"
      ]
     },
     "execution_count": 49,
     "metadata": {},
     "output_type": "execute_result"
    }
   ],
   "source": [
    "companies.head()"
   ]
  },
  {
   "cell_type": "markdown",
   "id": "bcd5e4f5",
   "metadata": {
    "papermill": {
     "duration": 0.027071,
     "end_time": "2024-01-10T18:26:41.673510",
     "exception": false,
     "start_time": "2024-01-10T18:26:41.646439",
     "status": "completed"
    },
    "tags": []
   },
   "source": [
    "**Question: Which categorical encoding approach did you use for each variable? Why?**\n",
    "\n",
    "* `Continent` - Ordinal label encoding was used because there was a hierarchical order to the categories.\n",
    "* `Country/Region` - Nominal label encoding was used because there was not a hierarchical order the categories.\n",
    "* `Industry` - Dummy encoding was used because there were not many different categories represented and they were all equally important."
   ]
  },
  {
   "cell_type": "markdown",
   "id": "66c30a34",
   "metadata": {
    "papermill": {
     "duration": 0.028047,
     "end_time": "2024-01-10T18:26:41.729089",
     "exception": false,
     "start_time": "2024-01-10T18:26:41.701042",
     "status": "completed"
    },
    "tags": []
   },
   "source": [
    "**Question: How does label encoding change the data?**\n",
    "\n",
    "Label encoding changes the data by assigning each category a unique number instead of a qualitative value. "
   ]
  },
  {
   "cell_type": "markdown",
   "id": "a17f8007",
   "metadata": {
    "papermill": {
     "duration": 0.027764,
     "end_time": "2024-01-10T18:26:41.784912",
     "exception": false,
     "start_time": "2024-01-10T18:26:41.757148",
     "status": "completed"
    },
    "tags": []
   },
   "source": [
    "**Question: What are the benefits of label encoding?**\n",
    "\n",
    "Label encoding is useful in machine learning models, because many types of machine learning require all variables to be of a numeric data type."
   ]
  },
  {
   "cell_type": "markdown",
   "id": "87c5f599",
   "metadata": {
    "papermill": {
     "duration": 0.028181,
     "end_time": "2024-01-10T18:26:41.841035",
     "exception": false,
     "start_time": "2024-01-10T18:26:41.812854",
     "status": "completed"
    },
    "tags": []
   },
   "source": [
    "**Question: What are the disadvantages of label encoding?**\n",
    "\n",
    "Label encoding may make it more difficult to directly interpet what a column value represents. Further, it may introduce unintended relationships between the categorical data in a dataset."
   ]
  },
  {
   "cell_type": "markdown",
   "id": "b94f1056",
   "metadata": {
    "papermill": {
     "duration": 0.027896,
     "end_time": "2024-01-10T18:26:41.897074",
     "exception": false,
     "start_time": "2024-01-10T18:26:41.869178",
     "status": "completed"
    },
    "tags": []
   },
   "source": [
    "## Conclusion\n",
    "\n",
    "**What are some key takeaways that you learned during this lab?**\n",
    "\n",
    "* Input validation is essential for ensuring data is high quality and error-free.\n",
    "* In practice, input validation requires trial and error to identify issues and determine the best way to fix them.\n",
    "* There are benefits and disadvantages to both label encoding and dummy/one-hot encoding.\n",
    "* The decision to use label encoding versus dummy/one-hot encoding needs to be made on a case-by-case basis.\n"
   ]
  },
  {
   "cell_type": "code",
   "execution_count": null,
   "id": "7479a762",
   "metadata": {
    "papermill": {
     "duration": 0.028,
     "end_time": "2024-01-10T18:26:41.952941",
     "exception": false,
     "start_time": "2024-01-10T18:26:41.924941",
     "status": "completed"
    },
    "tags": []
   },
   "outputs": [],
   "source": []
  }
 ],
 "metadata": {
  "kaggle": {
   "accelerator": "none",
   "dataSources": [
    {
     "datasetId": 4288051,
     "sourceId": 7378819,
     "sourceType": "datasetVersion"
    }
   ],
   "dockerImageVersionId": 30626,
   "isGpuEnabled": false,
   "isInternetEnabled": true,
   "language": "python",
   "sourceType": "notebook"
  },
  "kernelspec": {
   "display_name": "Python 3",
   "language": "python",
   "name": "python3"
  },
  "language_info": {
   "codemirror_mode": {
    "name": "ipython",
    "version": 3
   },
   "file_extension": ".py",
   "mimetype": "text/x-python",
   "name": "python",
   "nbconvert_exporter": "python",
   "pygments_lexer": "ipython3",
   "version": "3.10.12"
  },
  "papermill": {
   "default_parameters": {},
   "duration": 14.508024,
   "end_time": "2024-01-10T18:26:42.600140",
   "environment_variables": {},
   "exception": null,
   "input_path": "__notebook__.ipynb",
   "output_path": "__notebook__.ipynb",
   "parameters": {},
   "start_time": "2024-01-10T18:26:28.092116",
   "version": "2.4.0"
  }
 },
 "nbformat": 4,
 "nbformat_minor": 5
}
